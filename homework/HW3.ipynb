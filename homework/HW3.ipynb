{
 "cells": [
  {
   "cell_type": "markdown",
   "metadata": {},
   "source": [
    "# Homework 3: Prediction and Classification\n",
    "\n",
    "Due: Thursday, October 16, 2014 11:59 PM\n",
    "\n",
    "<a href=https://raw.githubusercontent.com/cs109/2014/master/homework/HW3.ipynb download=HW3.ipynb> Download this assignment</a>\n",
    "\n",
    "#### Submission Instructions\n",
    "To submit your homework, create a folder named lastname_firstinitial_hw# and place your IPython notebooks, data files, and any other files in this folder. Your IPython Notebooks should be completely executed with the results visible in the notebook. We should not have to run any code. Compress the folder (please use .zip compression) and submit to the CS109 dropbox in the appropriate folder. If we cannot access your work because these directions are not followed correctly, we will not grade your work.\n",
    "\n",
    "---\n"
   ]
  },
  {
   "cell_type": "markdown",
   "metadata": {},
   "source": [
    "# Introduction\n",
    "\n",
    "In this assignment you will be using regression and classification to explore different data sets.  \n",
    "\n",
    "**First**: You will use data from before 2002 in the [Sean Lahman's Baseball Database](http://seanlahman.com/baseball-archive/statistics) to create a metric for picking baseball players using linear regression. This is same database we used in Homework 1. This database contains the \"complete batting and pitching statistics from 1871 to 2013, plus fielding statistics, standings, team stats, managerial records, post-season data, and more\". [Documentation provided here](http://seanlahman.com/files/database/readme2012.txt).\n",
    "\n",
    "![\"Sabermetrics Science\"](http://saberseminar.com/wp-content/uploads/2012/01/saber-web.jpg)\n",
    "http://saberseminar.com/wp-content/uploads/2012/01/saber-web.jpg\n",
    "\n",
    "**Second**: You will use the famous [iris](http://en.wikipedia.org/wiki/Iris_flower_data_set) data set to perform a $k$-neareast neighbor classification using cross validation.  While it was introduced in 1936, it is still [one of the most popular](http://archive.ics.uci.edu/ml/) example data sets in the machine learning community. Wikipedia describes the data set as follows: \"The data set consists of 50 samples from each of three species of Iris (Iris setosa, Iris virginica and Iris versicolor). Four features were measured from each sample: the length and the width of the sepals and petals, in centimetres.\" Here is an illustration what the four features measure:\n",
    "\n",
    "![\"iris data features\"](http://sebastianraschka.com/Images/2014_python_lda/iris_petal_sepal.png)\n",
    "http://sebastianraschka.com/Images/2014_python_lda/iris_petal_sepal.png\n",
    "\n",
    "**Third**: You will investigate the influence of higher dimensional spaces on the classification using another standard data set in machine learning called the The [digits data set](http://scikit-learn.org/stable/modules/generated/sklearn.datasets.load_digits.html).  This data set is similar to the MNIST data set discussed in the lecture. The main difference is, that each digit is represented by an 8x8 pixel image patch, which is considerably smaller than the 28x28 pixels from MNIST. In addition, the gray values are restricted to 16 different values (4 bit), instead of 256 (8 bit) for MNIST. \n",
    "\n",
    "**Finally**: In preparation for Homework 4, we want you to read through the following articles related to predicting the 2014 Senate Midterm Elections. \n",
    "\n",
    "* [Nate Silver's Methodology at while at NYT](http://fivethirtyeight.blogs.nytimes.com/methodology/)\n",
    "* [How The FiveThirtyEight Senate Forecast Model Works](http://fivethirtyeight.com/features/how-the-fivethirtyeight-senate-forecast-model-works/)\n",
    "* [Pollster Ratings v4.0: Methodology](http://fivethirtyeight.com/features/pollster-ratings-v40-methodology/)\n",
    "* [Pollster Ratings v4.0: Results](http://fivethirtyeight.com/features/pollster-ratings-v40-results/)\n",
    "* [Nate Silver versus Sam Wang](http://www.washingtonpost.com/blogs/plum-line/wp/2014/09/17/nate-silver-versus-sam-wang/)\n",
    "* [More Nate Silver versus Sam Wang](http://www.dailykos.com/story/2014/09/09/1328288/-Get-Ready-To-Rumbllllle-Battle-Of-The-Nerds-Nate-Silver-VS-Sam-Wang)\n",
    "* [Nate Silver explains critisims of Sam Wang](http://politicalwire.com/archives/2014/10/02/nate_silver_rebuts_sam_wang.html)\n",
    "* [Background on the feud between Nate Silver and Sam Wang](http://talkingpointsmemo.com/dc/nate-silver-sam-wang-feud)\n",
    "* [Are there swing voters?]( http://www.stat.columbia.edu/~gelman/research/unpublished/swing_voters.pdf)\n",
    "\n",
    "\n",
    "\n",
    "---"
   ]
  },
  {
   "cell_type": "markdown",
   "metadata": {},
   "source": [
    "## Load Python modules"
   ]
  },
  {
   "cell_type": "code",
   "execution_count": 1,
   "metadata": {
    "collapsed": false
   },
   "outputs": [],
   "source": [
    "# special IPython command to prepare the notebook for matplotlib\n",
    "%matplotlib inline \n",
    "\n",
    "import requests \n",
    "import StringIO\n",
    "import zipfile\n",
    "import numpy as np\n",
    "import pandas as pd # pandas\n",
    "import matplotlib.pyplot as plt # module for plotting \n",
    "\n",
    "# If this module is not already installed, you may need to install it. \n",
    "# You can do this by typing 'pip install seaborn' in the command line\n",
    "import seaborn as sns \n",
    "\n",
    "import sklearn\n",
    "import sklearn.datasets\n",
    "import sklearn.cross_validation\n",
    "import sklearn.decomposition\n",
    "import sklearn.grid_search\n",
    "import sklearn.neighbors\n",
    "import sklearn.metrics"
   ]
  },
  {
   "cell_type": "markdown",
   "metadata": {},
   "source": [
    "# Problem 1: Sabermetrics\n",
    "\n",
    "Using data preceding the 2002 season pick 10 offensive players keeping the payroll under $20 million (assign each player the median salary). Predict how many games this team would win in a 162 game season.  \n",
    "\n",
    "In this problem we will be returning to the [Sean Lahman's Baseball Database](http://seanlahman.com/baseball-archive/statistics) that we used in Homework 1.  From this database, we will be extract five data sets containing information such as yearly stats and standing, batting statistics, fielding statistics, player names, player salaries and biographical information. You will explore the data in this database from before 2002 and create a metric for picking players. "
   ]
  },
  {
   "cell_type": "markdown",
   "metadata": {},
   "source": [
    "#### Problem 1(a) \n",
    "\n",
    "Load in [these CSV files](http://seanlahman.com/files/database/lahman-csv_2014-02-14.zip) from the [Sean Lahman's Baseball Database](http://seanlahman.com/baseball-archive/statistics). For this assignment, we will use the 'Teams.csv', 'Batting.csv', 'Salaries.csv', 'Fielding.csv', 'Master.csv' tables. Read these tables into separate pandas DataFrames with the following names. \n",
    "\n",
    "CSV file name | Name of pandas DataFrame\n",
    ":---: | :---: \n",
    "Teams.csv | teams\n",
    "Batting.csv | players\n",
    "Salaries.csv | salaries\n",
    "Fielding.csv | fielding\n",
    "Master.csv | master"
   ]
  },
  {
   "cell_type": "code",
   "execution_count": 2,
   "metadata": {
    "collapsed": false
   },
   "outputs": [],
   "source": [
    "### Your code here ###\n",
    "req=requests.get(\"http://seanlahman.com/files/database/lahman-csv_2015-01-24.zip\")\n",
    "zipf = zipfile.ZipFile(StringIO.StringIO(req.content))\n",
    "teams = pd.read_csv(zipf.open('Teams.csv'))\n",
    "players = pd.read_csv(zipf.open('Batting.csv'))\n",
    "salaries = pd.read_csv(zipf.open('Salaries.csv'))\n",
    "fielding = pd.read_csv(zipf.open('Fielding.csv'))\n",
    "master = pd.read_csv(zipf.open('Master.csv'))"
   ]
  },
  {
   "cell_type": "markdown",
   "metadata": {},
   "source": [
    "#### Problem 1(b)\n",
    "\n",
    "Calculate the median salary for each player and create a pandas DataFrame called `medianSalaries` with four columns: (1) the player ID, (2) the first name of the player, (3) the last name of the player and (4) the median salary of the player. Show the head of the `medianSalaries` DataFrame.   "
   ]
  },
  {
   "cell_type": "code",
   "execution_count": 3,
   "metadata": {
    "collapsed": false
   },
   "outputs": [
    {
     "data": {
      "text/html": [
       "<div>\n",
       "<table border=\"1\" class=\"dataframe\">\n",
       "  <thead>\n",
       "    <tr style=\"text-align: right;\">\n",
       "      <th></th>\n",
       "      <th>playerID</th>\n",
       "      <th>birthYear</th>\n",
       "      <th>birthMonth</th>\n",
       "      <th>birthDay</th>\n",
       "      <th>birthCountry</th>\n",
       "      <th>birthState</th>\n",
       "      <th>birthCity</th>\n",
       "      <th>deathYear</th>\n",
       "      <th>deathMonth</th>\n",
       "      <th>deathDay</th>\n",
       "      <th>...</th>\n",
       "      <th>nameLast</th>\n",
       "      <th>nameGiven</th>\n",
       "      <th>weight</th>\n",
       "      <th>height</th>\n",
       "      <th>bats</th>\n",
       "      <th>throws</th>\n",
       "      <th>debut</th>\n",
       "      <th>finalGame</th>\n",
       "      <th>retroID</th>\n",
       "      <th>bbrefID</th>\n",
       "    </tr>\n",
       "  </thead>\n",
       "  <tbody>\n",
       "    <tr>\n",
       "      <th>0</th>\n",
       "      <td>aardsda01</td>\n",
       "      <td>1981.0</td>\n",
       "      <td>12.0</td>\n",
       "      <td>27.0</td>\n",
       "      <td>USA</td>\n",
       "      <td>CO</td>\n",
       "      <td>Denver</td>\n",
       "      <td>NaN</td>\n",
       "      <td>NaN</td>\n",
       "      <td>NaN</td>\n",
       "      <td>...</td>\n",
       "      <td>Aardsma</td>\n",
       "      <td>David Allan</td>\n",
       "      <td>205.0</td>\n",
       "      <td>75.0</td>\n",
       "      <td>R</td>\n",
       "      <td>R</td>\n",
       "      <td>4/6/2004</td>\n",
       "      <td>9/28/2013</td>\n",
       "      <td>aardd001</td>\n",
       "      <td>aardsda01</td>\n",
       "    </tr>\n",
       "    <tr>\n",
       "      <th>1</th>\n",
       "      <td>aaronha01</td>\n",
       "      <td>1934.0</td>\n",
       "      <td>2.0</td>\n",
       "      <td>5.0</td>\n",
       "      <td>USA</td>\n",
       "      <td>AL</td>\n",
       "      <td>Mobile</td>\n",
       "      <td>NaN</td>\n",
       "      <td>NaN</td>\n",
       "      <td>NaN</td>\n",
       "      <td>...</td>\n",
       "      <td>Aaron</td>\n",
       "      <td>Henry Louis</td>\n",
       "      <td>180.0</td>\n",
       "      <td>72.0</td>\n",
       "      <td>R</td>\n",
       "      <td>R</td>\n",
       "      <td>4/13/1954</td>\n",
       "      <td>10/3/1976</td>\n",
       "      <td>aaroh101</td>\n",
       "      <td>aaronha01</td>\n",
       "    </tr>\n",
       "    <tr>\n",
       "      <th>2</th>\n",
       "      <td>aaronto01</td>\n",
       "      <td>1939.0</td>\n",
       "      <td>8.0</td>\n",
       "      <td>5.0</td>\n",
       "      <td>USA</td>\n",
       "      <td>AL</td>\n",
       "      <td>Mobile</td>\n",
       "      <td>1984.0</td>\n",
       "      <td>8.0</td>\n",
       "      <td>16.0</td>\n",
       "      <td>...</td>\n",
       "      <td>Aaron</td>\n",
       "      <td>Tommie Lee</td>\n",
       "      <td>190.0</td>\n",
       "      <td>75.0</td>\n",
       "      <td>R</td>\n",
       "      <td>R</td>\n",
       "      <td>4/10/1962</td>\n",
       "      <td>9/26/1971</td>\n",
       "      <td>aarot101</td>\n",
       "      <td>aaronto01</td>\n",
       "    </tr>\n",
       "    <tr>\n",
       "      <th>3</th>\n",
       "      <td>aasedo01</td>\n",
       "      <td>1954.0</td>\n",
       "      <td>9.0</td>\n",
       "      <td>8.0</td>\n",
       "      <td>USA</td>\n",
       "      <td>CA</td>\n",
       "      <td>Orange</td>\n",
       "      <td>NaN</td>\n",
       "      <td>NaN</td>\n",
       "      <td>NaN</td>\n",
       "      <td>...</td>\n",
       "      <td>Aase</td>\n",
       "      <td>Donald William</td>\n",
       "      <td>190.0</td>\n",
       "      <td>75.0</td>\n",
       "      <td>R</td>\n",
       "      <td>R</td>\n",
       "      <td>7/26/1977</td>\n",
       "      <td>10/3/1990</td>\n",
       "      <td>aased001</td>\n",
       "      <td>aasedo01</td>\n",
       "    </tr>\n",
       "    <tr>\n",
       "      <th>4</th>\n",
       "      <td>abadan01</td>\n",
       "      <td>1972.0</td>\n",
       "      <td>8.0</td>\n",
       "      <td>25.0</td>\n",
       "      <td>USA</td>\n",
       "      <td>FL</td>\n",
       "      <td>Palm Beach</td>\n",
       "      <td>NaN</td>\n",
       "      <td>NaN</td>\n",
       "      <td>NaN</td>\n",
       "      <td>...</td>\n",
       "      <td>Abad</td>\n",
       "      <td>Fausto Andres</td>\n",
       "      <td>184.0</td>\n",
       "      <td>73.0</td>\n",
       "      <td>L</td>\n",
       "      <td>L</td>\n",
       "      <td>9/10/2001</td>\n",
       "      <td>4/13/2006</td>\n",
       "      <td>abada001</td>\n",
       "      <td>abadan01</td>\n",
       "    </tr>\n",
       "  </tbody>\n",
       "</table>\n",
       "<p>5 rows × 24 columns</p>\n",
       "</div>"
      ],
      "text/plain": [
       "    playerID  birthYear  birthMonth  birthDay birthCountry birthState  \\\n",
       "0  aardsda01     1981.0        12.0      27.0          USA         CO   \n",
       "1  aaronha01     1934.0         2.0       5.0          USA         AL   \n",
       "2  aaronto01     1939.0         8.0       5.0          USA         AL   \n",
       "3   aasedo01     1954.0         9.0       8.0          USA         CA   \n",
       "4   abadan01     1972.0         8.0      25.0          USA         FL   \n",
       "\n",
       "    birthCity  deathYear  deathMonth  deathDay    ...     nameLast  \\\n",
       "0      Denver        NaN         NaN       NaN    ...      Aardsma   \n",
       "1      Mobile        NaN         NaN       NaN    ...        Aaron   \n",
       "2      Mobile     1984.0         8.0      16.0    ...        Aaron   \n",
       "3      Orange        NaN         NaN       NaN    ...         Aase   \n",
       "4  Palm Beach        NaN         NaN       NaN    ...         Abad   \n",
       "\n",
       "        nameGiven weight height bats throws      debut  finalGame   retroID  \\\n",
       "0     David Allan  205.0   75.0    R      R   4/6/2004  9/28/2013  aardd001   \n",
       "1     Henry Louis  180.0   72.0    R      R  4/13/1954  10/3/1976  aaroh101   \n",
       "2      Tommie Lee  190.0   75.0    R      R  4/10/1962  9/26/1971  aarot101   \n",
       "3  Donald William  190.0   75.0    R      R  7/26/1977  10/3/1990  aased001   \n",
       "4   Fausto Andres  184.0   73.0    L      L  9/10/2001  4/13/2006  abada001   \n",
       "\n",
       "     bbrefID  \n",
       "0  aardsda01  \n",
       "1  aaronha01  \n",
       "2  aaronto01  \n",
       "3   aasedo01  \n",
       "4   abadan01  \n",
       "\n",
       "[5 rows x 24 columns]"
      ]
     },
     "execution_count": 3,
     "metadata": {},
     "output_type": "execute_result"
    }
   ],
   "source": [
    "### Your code here ###\n",
    "mean_salaries = salaries.groupby('playerID')['playerID','salary'].median()\n",
    "master.head()"
   ]
  },
  {
   "cell_type": "code",
   "execution_count": 4,
   "metadata": {
    "collapsed": false
   },
   "outputs": [
    {
     "data": {
      "text/html": [
       "<div>\n",
       "<table border=\"1\" class=\"dataframe\">\n",
       "  <thead>\n",
       "    <tr style=\"text-align: right;\">\n",
       "      <th></th>\n",
       "      <th>yearID</th>\n",
       "      <th>teamID</th>\n",
       "      <th>lgID</th>\n",
       "      <th>playerID</th>\n",
       "      <th>salary</th>\n",
       "    </tr>\n",
       "  </thead>\n",
       "  <tbody>\n",
       "    <tr>\n",
       "      <th>0</th>\n",
       "      <td>1985</td>\n",
       "      <td>ATL</td>\n",
       "      <td>NL</td>\n",
       "      <td>barkele01</td>\n",
       "      <td>870000</td>\n",
       "    </tr>\n",
       "    <tr>\n",
       "      <th>1</th>\n",
       "      <td>1985</td>\n",
       "      <td>ATL</td>\n",
       "      <td>NL</td>\n",
       "      <td>bedrost01</td>\n",
       "      <td>550000</td>\n",
       "    </tr>\n",
       "    <tr>\n",
       "      <th>2</th>\n",
       "      <td>1985</td>\n",
       "      <td>ATL</td>\n",
       "      <td>NL</td>\n",
       "      <td>benedbr01</td>\n",
       "      <td>545000</td>\n",
       "    </tr>\n",
       "    <tr>\n",
       "      <th>3</th>\n",
       "      <td>1985</td>\n",
       "      <td>ATL</td>\n",
       "      <td>NL</td>\n",
       "      <td>campri01</td>\n",
       "      <td>633333</td>\n",
       "    </tr>\n",
       "    <tr>\n",
       "      <th>4</th>\n",
       "      <td>1985</td>\n",
       "      <td>ATL</td>\n",
       "      <td>NL</td>\n",
       "      <td>ceronri01</td>\n",
       "      <td>625000</td>\n",
       "    </tr>\n",
       "  </tbody>\n",
       "</table>\n",
       "</div>"
      ],
      "text/plain": [
       "   yearID teamID lgID   playerID  salary\n",
       "0    1985    ATL   NL  barkele01  870000\n",
       "1    1985    ATL   NL  bedrost01  550000\n",
       "2    1985    ATL   NL  benedbr01  545000\n",
       "3    1985    ATL   NL   campri01  633333\n",
       "4    1985    ATL   NL  ceronri01  625000"
      ]
     },
     "execution_count": 4,
     "metadata": {},
     "output_type": "execute_result"
    }
   ],
   "source": [
    "salaries.head()"
   ]
  },
  {
   "cell_type": "code",
   "execution_count": 5,
   "metadata": {
    "collapsed": false
   },
   "outputs": [
    {
     "data": {
      "text/html": [
       "<div>\n",
       "<table border=\"1\" class=\"dataframe\">\n",
       "  <thead>\n",
       "    <tr style=\"text-align: right;\">\n",
       "      <th></th>\n",
       "      <th>salary</th>\n",
       "    </tr>\n",
       "    <tr>\n",
       "      <th>playerID</th>\n",
       "      <th></th>\n",
       "    </tr>\n",
       "  </thead>\n",
       "  <tbody>\n",
       "    <tr>\n",
       "      <th>aardsda01</th>\n",
       "      <td>419000</td>\n",
       "    </tr>\n",
       "    <tr>\n",
       "      <th>aasedo01</th>\n",
       "      <td>612500</td>\n",
       "    </tr>\n",
       "    <tr>\n",
       "      <th>abadan01</th>\n",
       "      <td>327000</td>\n",
       "    </tr>\n",
       "    <tr>\n",
       "      <th>abadfe01</th>\n",
       "      <td>485000</td>\n",
       "    </tr>\n",
       "    <tr>\n",
       "      <th>abbotje01</th>\n",
       "      <td>255000</td>\n",
       "    </tr>\n",
       "    <tr>\n",
       "      <th>abbotji01</th>\n",
       "      <td>1850000</td>\n",
       "    </tr>\n",
       "    <tr>\n",
       "      <th>abbotku01</th>\n",
       "      <td>500000</td>\n",
       "    </tr>\n",
       "    <tr>\n",
       "      <th>abbotky01</th>\n",
       "      <td>129500</td>\n",
       "    </tr>\n",
       "    <tr>\n",
       "      <th>abbotpa01</th>\n",
       "      <td>285000</td>\n",
       "    </tr>\n",
       "    <tr>\n",
       "      <th>abercre01</th>\n",
       "      <td>327000</td>\n",
       "    </tr>\n",
       "    <tr>\n",
       "      <th>abernbr01</th>\n",
       "      <td>257500</td>\n",
       "    </tr>\n",
       "    <tr>\n",
       "      <th>abnersh01</th>\n",
       "      <td>105000</td>\n",
       "    </tr>\n",
       "    <tr>\n",
       "      <th>abreubo01</th>\n",
       "      <td>9000000</td>\n",
       "    </tr>\n",
       "    <tr>\n",
       "      <th>abreujo02</th>\n",
       "      <td>7000000</td>\n",
       "    </tr>\n",
       "    <tr>\n",
       "      <th>abreuto01</th>\n",
       "      <td>452500</td>\n",
       "    </tr>\n",
       "    <tr>\n",
       "      <th>accarje01</th>\n",
       "      <td>392200</td>\n",
       "    </tr>\n",
       "    <tr>\n",
       "      <th>aceveal01</th>\n",
       "      <td>1200000</td>\n",
       "    </tr>\n",
       "    <tr>\n",
       "      <th>acevejo01</th>\n",
       "      <td>286500</td>\n",
       "    </tr>\n",
       "    <tr>\n",
       "      <th>aceveju01</th>\n",
       "      <td>475000</td>\n",
       "    </tr>\n",
       "    <tr>\n",
       "      <th>ackerji01</th>\n",
       "      <td>367500</td>\n",
       "    </tr>\n",
       "    <tr>\n",
       "      <th>ackledu01</th>\n",
       "      <td>2100000</td>\n",
       "    </tr>\n",
       "    <tr>\n",
       "      <th>acostma01</th>\n",
       "      <td>633750</td>\n",
       "    </tr>\n",
       "    <tr>\n",
       "      <th>acrema01</th>\n",
       "      <td>130000</td>\n",
       "    </tr>\n",
       "    <tr>\n",
       "      <th>adamsda02</th>\n",
       "      <td>540000</td>\n",
       "    </tr>\n",
       "    <tr>\n",
       "      <th>adamsjo02</th>\n",
       "      <td>180500</td>\n",
       "    </tr>\n",
       "    <tr>\n",
       "      <th>adamsma01</th>\n",
       "      <td>503000</td>\n",
       "    </tr>\n",
       "    <tr>\n",
       "      <th>adamsmi03</th>\n",
       "      <td>2535000</td>\n",
       "    </tr>\n",
       "    <tr>\n",
       "      <th>adamsru01</th>\n",
       "      <td>329500</td>\n",
       "    </tr>\n",
       "    <tr>\n",
       "      <th>adamste01</th>\n",
       "      <td>736000</td>\n",
       "    </tr>\n",
       "    <tr>\n",
       "      <th>adamswi02</th>\n",
       "      <td>157500</td>\n",
       "    </tr>\n",
       "    <tr>\n",
       "      <th>...</th>\n",
       "      <td>...</td>\n",
       "    </tr>\n",
       "    <tr>\n",
       "      <th>youngjo02</th>\n",
       "      <td>375000</td>\n",
       "    </tr>\n",
       "    <tr>\n",
       "      <th>youngke01</th>\n",
       "      <td>1600000</td>\n",
       "    </tr>\n",
       "    <tr>\n",
       "      <th>youngma01</th>\n",
       "      <td>425000</td>\n",
       "    </tr>\n",
       "    <tr>\n",
       "      <th>youngma02</th>\n",
       "      <td>414000</td>\n",
       "    </tr>\n",
       "    <tr>\n",
       "      <th>youngmi01</th>\n",
       "      <td>350000</td>\n",
       "    </tr>\n",
       "    <tr>\n",
       "      <th>youngmi02</th>\n",
       "      <td>4874987</td>\n",
       "    </tr>\n",
       "    <tr>\n",
       "      <th>yountro01</th>\n",
       "      <td>1150000</td>\n",
       "    </tr>\n",
       "    <tr>\n",
       "      <th>zagurmi01</th>\n",
       "      <td>396250</td>\n",
       "    </tr>\n",
       "    <tr>\n",
       "      <th>zahnge01</th>\n",
       "      <td>550000</td>\n",
       "    </tr>\n",
       "    <tr>\n",
       "      <th>zambrca01</th>\n",
       "      <td>14200000</td>\n",
       "    </tr>\n",
       "    <tr>\n",
       "      <th>zambred01</th>\n",
       "      <td>112000</td>\n",
       "    </tr>\n",
       "    <tr>\n",
       "      <th>zambrvi01</th>\n",
       "      <td>412500</td>\n",
       "    </tr>\n",
       "    <tr>\n",
       "      <th>zaungr01</th>\n",
       "      <td>1000000</td>\n",
       "    </tr>\n",
       "    <tr>\n",
       "      <th>zeileto01</th>\n",
       "      <td>2700000</td>\n",
       "    </tr>\n",
       "    <tr>\n",
       "      <th>zerbech01</th>\n",
       "      <td>317000</td>\n",
       "    </tr>\n",
       "    <tr>\n",
       "      <th>zieglbr01</th>\n",
       "      <td>1522500</td>\n",
       "    </tr>\n",
       "    <tr>\n",
       "      <th>zimmeje02</th>\n",
       "      <td>1237083</td>\n",
       "    </tr>\n",
       "    <tr>\n",
       "      <th>zimmejo01</th>\n",
       "      <td>401000</td>\n",
       "    </tr>\n",
       "    <tr>\n",
       "      <th>zimmejo02</th>\n",
       "      <td>3825000</td>\n",
       "    </tr>\n",
       "    <tr>\n",
       "      <th>zimmery01</th>\n",
       "      <td>7687500</td>\n",
       "    </tr>\n",
       "    <tr>\n",
       "      <th>ziskri01</th>\n",
       "      <td>272500</td>\n",
       "    </tr>\n",
       "    <tr>\n",
       "      <th>zitoba01</th>\n",
       "      <td>10000000</td>\n",
       "    </tr>\n",
       "    <tr>\n",
       "      <th>zobribe01</th>\n",
       "      <td>2562700</td>\n",
       "    </tr>\n",
       "    <tr>\n",
       "      <th>zoskyed01</th>\n",
       "      <td>109000</td>\n",
       "    </tr>\n",
       "    <tr>\n",
       "      <th>zuberjo01</th>\n",
       "      <td>109000</td>\n",
       "    </tr>\n",
       "    <tr>\n",
       "      <th>zuletju01</th>\n",
       "      <td>200000</td>\n",
       "    </tr>\n",
       "    <tr>\n",
       "      <th>zumayjo01</th>\n",
       "      <td>577500</td>\n",
       "    </tr>\n",
       "    <tr>\n",
       "      <th>zuninmi01</th>\n",
       "      <td>504100</td>\n",
       "    </tr>\n",
       "    <tr>\n",
       "      <th>zupcibo01</th>\n",
       "      <td>109000</td>\n",
       "    </tr>\n",
       "    <tr>\n",
       "      <th>zuvelpa01</th>\n",
       "      <td>145000</td>\n",
       "    </tr>\n",
       "  </tbody>\n",
       "</table>\n",
       "<p>4826 rows × 1 columns</p>\n",
       "</div>"
      ],
      "text/plain": [
       "             salary\n",
       "playerID           \n",
       "aardsda01    419000\n",
       "aasedo01     612500\n",
       "abadan01     327000\n",
       "abadfe01     485000\n",
       "abbotje01    255000\n",
       "abbotji01   1850000\n",
       "abbotku01    500000\n",
       "abbotky01    129500\n",
       "abbotpa01    285000\n",
       "abercre01    327000\n",
       "abernbr01    257500\n",
       "abnersh01    105000\n",
       "abreubo01   9000000\n",
       "abreujo02   7000000\n",
       "abreuto01    452500\n",
       "accarje01    392200\n",
       "aceveal01   1200000\n",
       "acevejo01    286500\n",
       "aceveju01    475000\n",
       "ackerji01    367500\n",
       "ackledu01   2100000\n",
       "acostma01    633750\n",
       "acrema01     130000\n",
       "adamsda02    540000\n",
       "adamsjo02    180500\n",
       "adamsma01    503000\n",
       "adamsmi03   2535000\n",
       "adamsru01    329500\n",
       "adamste01    736000\n",
       "adamswi02    157500\n",
       "...             ...\n",
       "youngjo02    375000\n",
       "youngke01   1600000\n",
       "youngma01    425000\n",
       "youngma02    414000\n",
       "youngmi01    350000\n",
       "youngmi02   4874987\n",
       "yountro01   1150000\n",
       "zagurmi01    396250\n",
       "zahnge01     550000\n",
       "zambrca01  14200000\n",
       "zambred01    112000\n",
       "zambrvi01    412500\n",
       "zaungr01    1000000\n",
       "zeileto01   2700000\n",
       "zerbech01    317000\n",
       "zieglbr01   1522500\n",
       "zimmeje02   1237083\n",
       "zimmejo01    401000\n",
       "zimmejo02   3825000\n",
       "zimmery01   7687500\n",
       "ziskri01     272500\n",
       "zitoba01   10000000\n",
       "zobribe01   2562700\n",
       "zoskyed01    109000\n",
       "zuberjo01    109000\n",
       "zuletju01    200000\n",
       "zumayjo01    577500\n",
       "zuninmi01    504100\n",
       "zupcibo01    109000\n",
       "zuvelpa01    145000\n",
       "\n",
       "[4826 rows x 1 columns]"
      ]
     },
     "execution_count": 5,
     "metadata": {},
     "output_type": "execute_result"
    }
   ],
   "source": [
    "mean_salaries"
   ]
  },
  {
   "cell_type": "code",
   "execution_count": 6,
   "metadata": {
    "collapsed": false
   },
   "outputs": [
    {
     "data": {
      "text/html": [
       "<div>\n",
       "<table border=\"1\" class=\"dataframe\">\n",
       "  <thead>\n",
       "    <tr style=\"text-align: right;\">\n",
       "      <th></th>\n",
       "      <th>playerID</th>\n",
       "      <th>nameLast</th>\n",
       "      <th>nameFirst</th>\n",
       "      <th>salary</th>\n",
       "    </tr>\n",
       "  </thead>\n",
       "  <tbody>\n",
       "    <tr>\n",
       "      <th>0</th>\n",
       "      <td>aardsda01</td>\n",
       "      <td>Aardsma</td>\n",
       "      <td>David</td>\n",
       "      <td>419000</td>\n",
       "    </tr>\n",
       "    <tr>\n",
       "      <th>3</th>\n",
       "      <td>aasedo01</td>\n",
       "      <td>Aase</td>\n",
       "      <td>Don</td>\n",
       "      <td>612500</td>\n",
       "    </tr>\n",
       "    <tr>\n",
       "      <th>4</th>\n",
       "      <td>abadan01</td>\n",
       "      <td>Abad</td>\n",
       "      <td>Andy</td>\n",
       "      <td>327000</td>\n",
       "    </tr>\n",
       "    <tr>\n",
       "      <th>5</th>\n",
       "      <td>abadfe01</td>\n",
       "      <td>Abad</td>\n",
       "      <td>Fernando</td>\n",
       "      <td>485000</td>\n",
       "    </tr>\n",
       "    <tr>\n",
       "      <th>13</th>\n",
       "      <td>abbotje01</td>\n",
       "      <td>Abbott</td>\n",
       "      <td>Jeff</td>\n",
       "      <td>255000</td>\n",
       "    </tr>\n",
       "  </tbody>\n",
       "</table>\n",
       "</div>"
      ],
      "text/plain": [
       "     playerID nameLast nameFirst  salary\n",
       "0   aardsda01  Aardsma     David  419000\n",
       "3    aasedo01     Aase       Don  612500\n",
       "4    abadan01     Abad      Andy  327000\n",
       "5    abadfe01     Abad  Fernando  485000\n",
       "13  abbotje01   Abbott      Jeff  255000"
      ]
     },
     "execution_count": 6,
     "metadata": {},
     "output_type": "execute_result"
    }
   ],
   "source": [
    "median_salaries = pd.merge(master[['playerID','nameLast','nameFirst']], mean_salaries, left_on='playerID', right_index = True, how=\"inner\")\n",
    "median_salaries.head()"
   ]
  },
  {
   "cell_type": "code",
   "execution_count": 7,
   "metadata": {
    "collapsed": false
   },
   "outputs": [
    {
     "data": {
      "text/html": [
       "<div>\n",
       "<table border=\"1\" class=\"dataframe\">\n",
       "  <thead>\n",
       "    <tr style=\"text-align: right;\">\n",
       "      <th></th>\n",
       "      <th>yearID</th>\n",
       "      <th>lgID</th>\n",
       "      <th>teamID</th>\n",
       "      <th>franchID</th>\n",
       "      <th>divID</th>\n",
       "      <th>Rank</th>\n",
       "      <th>G</th>\n",
       "      <th>Ghome</th>\n",
       "      <th>W</th>\n",
       "      <th>L</th>\n",
       "      <th>...</th>\n",
       "      <th>DP</th>\n",
       "      <th>FP</th>\n",
       "      <th>name</th>\n",
       "      <th>park</th>\n",
       "      <th>attendance</th>\n",
       "      <th>BPF</th>\n",
       "      <th>PPF</th>\n",
       "      <th>teamIDBR</th>\n",
       "      <th>teamIDlahman45</th>\n",
       "      <th>teamIDretro</th>\n",
       "    </tr>\n",
       "  </thead>\n",
       "  <tbody>\n",
       "    <tr>\n",
       "      <th>1366</th>\n",
       "      <td>1961</td>\n",
       "      <td>AL</td>\n",
       "      <td>KC1</td>\n",
       "      <td>OAK</td>\n",
       "      <td>NaN</td>\n",
       "      <td>9</td>\n",
       "      <td>162</td>\n",
       "      <td>80.0</td>\n",
       "      <td>61</td>\n",
       "      <td>100</td>\n",
       "      <td>...</td>\n",
       "      <td>160.0</td>\n",
       "      <td>0.97</td>\n",
       "      <td>Kansas City Athletics</td>\n",
       "      <td>Municipal Stadium I</td>\n",
       "      <td>683817.0</td>\n",
       "      <td>101</td>\n",
       "      <td>103</td>\n",
       "      <td>KCA</td>\n",
       "      <td>KC1</td>\n",
       "      <td>KC1</td>\n",
       "    </tr>\n",
       "    <tr>\n",
       "      <th>1367</th>\n",
       "      <td>1961</td>\n",
       "      <td>AL</td>\n",
       "      <td>LAA</td>\n",
       "      <td>ANA</td>\n",
       "      <td>NaN</td>\n",
       "      <td>8</td>\n",
       "      <td>162</td>\n",
       "      <td>82.0</td>\n",
       "      <td>70</td>\n",
       "      <td>91</td>\n",
       "      <td>...</td>\n",
       "      <td>154.0</td>\n",
       "      <td>0.96</td>\n",
       "      <td>Los Angeles Angels</td>\n",
       "      <td>Wrigley Field (LA)</td>\n",
       "      <td>603510.0</td>\n",
       "      <td>111</td>\n",
       "      <td>112</td>\n",
       "      <td>LAA</td>\n",
       "      <td>LAA</td>\n",
       "      <td>LAA</td>\n",
       "    </tr>\n",
       "    <tr>\n",
       "      <th>1377</th>\n",
       "      <td>1962</td>\n",
       "      <td>AL</td>\n",
       "      <td>BAL</td>\n",
       "      <td>BAL</td>\n",
       "      <td>NaN</td>\n",
       "      <td>7</td>\n",
       "      <td>162</td>\n",
       "      <td>82.0</td>\n",
       "      <td>77</td>\n",
       "      <td>85</td>\n",
       "      <td>...</td>\n",
       "      <td>152.0</td>\n",
       "      <td>0.98</td>\n",
       "      <td>Baltimore Orioles</td>\n",
       "      <td>Memorial Stadium</td>\n",
       "      <td>790254.0</td>\n",
       "      <td>94</td>\n",
       "      <td>93</td>\n",
       "      <td>BAL</td>\n",
       "      <td>BAL</td>\n",
       "      <td>BAL</td>\n",
       "    </tr>\n",
       "    <tr>\n",
       "      <th>1379</th>\n",
       "      <td>1962</td>\n",
       "      <td>AL</td>\n",
       "      <td>CHA</td>\n",
       "      <td>CHW</td>\n",
       "      <td>NaN</td>\n",
       "      <td>5</td>\n",
       "      <td>162</td>\n",
       "      <td>81.0</td>\n",
       "      <td>85</td>\n",
       "      <td>77</td>\n",
       "      <td>...</td>\n",
       "      <td>153.0</td>\n",
       "      <td>0.98</td>\n",
       "      <td>Chicago White Sox</td>\n",
       "      <td>Comiskey Park</td>\n",
       "      <td>1131562.0</td>\n",
       "      <td>100</td>\n",
       "      <td>99</td>\n",
       "      <td>CHW</td>\n",
       "      <td>CHA</td>\n",
       "      <td>CHA</td>\n",
       "    </tr>\n",
       "    <tr>\n",
       "      <th>1380</th>\n",
       "      <td>1962</td>\n",
       "      <td>NL</td>\n",
       "      <td>CHN</td>\n",
       "      <td>CHC</td>\n",
       "      <td>NaN</td>\n",
       "      <td>9</td>\n",
       "      <td>162</td>\n",
       "      <td>81.0</td>\n",
       "      <td>59</td>\n",
       "      <td>103</td>\n",
       "      <td>...</td>\n",
       "      <td>171.0</td>\n",
       "      <td>0.97</td>\n",
       "      <td>Chicago Cubs</td>\n",
       "      <td>Wrigley Field</td>\n",
       "      <td>609802.0</td>\n",
       "      <td>104</td>\n",
       "      <td>105</td>\n",
       "      <td>CHC</td>\n",
       "      <td>CHN</td>\n",
       "      <td>CHN</td>\n",
       "    </tr>\n",
       "  </tbody>\n",
       "</table>\n",
       "<p>5 rows × 48 columns</p>\n",
       "</div>"
      ],
      "text/plain": [
       "      yearID lgID teamID franchID divID  Rank    G  Ghome   W    L  \\\n",
       "1366    1961   AL    KC1      OAK   NaN     9  162   80.0  61  100   \n",
       "1367    1961   AL    LAA      ANA   NaN     8  162   82.0  70   91   \n",
       "1377    1962   AL    BAL      BAL   NaN     7  162   82.0  77   85   \n",
       "1379    1962   AL    CHA      CHW   NaN     5  162   81.0  85   77   \n",
       "1380    1962   NL    CHN      CHC   NaN     9  162   81.0  59  103   \n",
       "\n",
       "         ...          DP    FP                   name                 park  \\\n",
       "1366     ...       160.0  0.97  Kansas City Athletics  Municipal Stadium I   \n",
       "1367     ...       154.0  0.96     Los Angeles Angels   Wrigley Field (LA)   \n",
       "1377     ...       152.0  0.98      Baltimore Orioles     Memorial Stadium   \n",
       "1379     ...       153.0  0.98      Chicago White Sox        Comiskey Park   \n",
       "1380     ...       171.0  0.97           Chicago Cubs        Wrigley Field   \n",
       "\n",
       "      attendance  BPF  PPF  teamIDBR  teamIDlahman45  teamIDretro  \n",
       "1366    683817.0  101  103       KCA             KC1          KC1  \n",
       "1367    603510.0  111  112       LAA             LAA          LAA  \n",
       "1377    790254.0   94   93       BAL             BAL          BAL  \n",
       "1379   1131562.0  100   99       CHW             CHA          CHA  \n",
       "1380    609802.0  104  105       CHC             CHN          CHN  \n",
       "\n",
       "[5 rows x 48 columns]"
      ]
     },
     "execution_count": 7,
     "metadata": {},
     "output_type": "execute_result"
    }
   ],
   "source": [
    "games = teams[(teams.yearID>1946) & (teams.G==162)]\n",
    "games.head()\n"
   ]
  },
  {
   "cell_type": "code",
   "execution_count": 8,
   "metadata": {
    "collapsed": false
   },
   "outputs": [
    {
     "name": "stderr",
     "output_type": "stream",
     "text": [
      "C:\\Anaconda2\\lib\\site-packages\\ipykernel\\__main__.py:1: SettingWithCopyWarning: \n",
      "A value is trying to be set on a copy of a slice from a DataFrame.\n",
      "Try using .loc[row_indexer,col_indexer] = value instead\n",
      "\n",
      "See the caveats in the documentation: http://pandas.pydata.org/pandas-docs/stable/indexing.html#indexing-view-versus-copy\n",
      "  if __name__ == '__main__':\n",
      "C:\\Anaconda2\\lib\\site-packages\\ipykernel\\__main__.py:2: SettingWithCopyWarning: \n",
      "A value is trying to be set on a copy of a slice from a DataFrame.\n",
      "Try using .loc[row_indexer,col_indexer] = value instead\n",
      "\n",
      "See the caveats in the documentation: http://pandas.pydata.org/pandas-docs/stable/indexing.html#indexing-view-versus-copy\n",
      "  from ipykernel import kernelapp as app\n",
      "C:\\Anaconda2\\lib\\site-packages\\ipykernel\\__main__.py:5: SettingWithCopyWarning: \n",
      "A value is trying to be set on a copy of a slice from a DataFrame.\n",
      "Try using .loc[row_indexer,col_indexer] = value instead\n",
      "\n",
      "See the caveats in the documentation: http://pandas.pydata.org/pandas-docs/stable/indexing.html#indexing-view-versus-copy\n"
     ]
    }
   ],
   "source": [
    "games['1B']=games.H - (games['2B']+games['3B']+games['HR'])\n",
    "games[\"PA\"] = games.BB + games.AB\n",
    "games.head()\n",
    "for col in ['1B','2B','3B','HR','BB']:\n",
    "    games[col]=games[col]/games.PA"
   ]
  },
  {
   "cell_type": "code",
   "execution_count": 9,
   "metadata": {
    "collapsed": false
   },
   "outputs": [
    {
     "data": {
      "text/html": [
       "<div>\n",
       "<table border=\"1\" class=\"dataframe\">\n",
       "  <thead>\n",
       "    <tr style=\"text-align: right;\">\n",
       "      <th></th>\n",
       "      <th>teamID</th>\n",
       "      <th>yearID</th>\n",
       "      <th>W</th>\n",
       "      <th>1B</th>\n",
       "      <th>2B</th>\n",
       "      <th>3B</th>\n",
       "      <th>HR</th>\n",
       "      <th>BB</th>\n",
       "      <th>PA</th>\n",
       "    </tr>\n",
       "  </thead>\n",
       "  <tbody>\n",
       "    <tr>\n",
       "      <th>1366</th>\n",
       "      <td>KC1</td>\n",
       "      <td>1961</td>\n",
       "      <td>61</td>\n",
       "      <td>0.164751</td>\n",
       "      <td>0.035982</td>\n",
       "      <td>0.007829</td>\n",
       "      <td>0.014993</td>\n",
       "      <td>0.096618</td>\n",
       "      <td>6003</td>\n",
       "    </tr>\n",
       "    <tr>\n",
       "      <th>1367</th>\n",
       "      <td>LAA</td>\n",
       "      <td>1961</td>\n",
       "      <td>70</td>\n",
       "      <td>0.147748</td>\n",
       "      <td>0.035708</td>\n",
       "      <td>0.003604</td>\n",
       "      <td>0.030958</td>\n",
       "      <td>0.111548</td>\n",
       "      <td>6105</td>\n",
       "    </tr>\n",
       "    <tr>\n",
       "      <th>1377</th>\n",
       "      <td>BAL</td>\n",
       "      <td>1962</td>\n",
       "      <td>77</td>\n",
       "      <td>0.157816</td>\n",
       "      <td>0.037456</td>\n",
       "      <td>0.005660</td>\n",
       "      <td>0.025970</td>\n",
       "      <td>0.085900</td>\n",
       "      <td>6007</td>\n",
       "    </tr>\n",
       "    <tr>\n",
       "      <th>1379</th>\n",
       "      <td>CHA</td>\n",
       "      <td>1962</td>\n",
       "      <td>85</td>\n",
       "      <td>0.165797</td>\n",
       "      <td>0.040756</td>\n",
       "      <td>0.009129</td>\n",
       "      <td>0.014998</td>\n",
       "      <td>0.101076</td>\n",
       "      <td>6134</td>\n",
       "    </tr>\n",
       "    <tr>\n",
       "      <th>1380</th>\n",
       "      <td>CHN</td>\n",
       "      <td>1962</td>\n",
       "      <td>59</td>\n",
       "      <td>0.168930</td>\n",
       "      <td>0.032461</td>\n",
       "      <td>0.009275</td>\n",
       "      <td>0.020868</td>\n",
       "      <td>0.083471</td>\n",
       "      <td>6038</td>\n",
       "    </tr>\n",
       "  </tbody>\n",
       "</table>\n",
       "</div>"
      ],
      "text/plain": [
       "     teamID  yearID   W        1B        2B        3B        HR        BB  \\\n",
       "1366    KC1    1961  61  0.164751  0.035982  0.007829  0.014993  0.096618   \n",
       "1367    LAA    1961  70  0.147748  0.035708  0.003604  0.030958  0.111548   \n",
       "1377    BAL    1962  77  0.157816  0.037456  0.005660  0.025970  0.085900   \n",
       "1379    CHA    1962  85  0.165797  0.040756  0.009129  0.014998  0.101076   \n",
       "1380    CHN    1962  59  0.168930  0.032461  0.009275  0.020868  0.083471   \n",
       "\n",
       "        PA  \n",
       "1366  6003  \n",
       "1367  6105  \n",
       "1377  6007  \n",
       "1379  6134  \n",
       "1380  6038  "
      ]
     },
     "execution_count": 9,
     "metadata": {},
     "output_type": "execute_result"
    }
   ],
   "source": [
    "games = games[['teamID','yearID','W','1B','2B','3B','HR','BB','PA']]\n",
    "games.head()"
   ]
  },
  {
   "cell_type": "markdown",
   "metadata": {},
   "source": [
    "#### Problem 1(c)\n",
    "\n",
    "Now, consider only team/season combinations in which the teams played 162 Games. Exclude all data from before 1947. Compute the per plate appearance rates for singles, doubles, triples, HR, and BB. Create a new pandas DataFrame called `stats` that has the teamID, yearID, wins and these rates.\n",
    "\n",
    "**Hint**: Singles are hits that are not doubles, triples, nor HR. Plate appearances are base on balls plus at bats."
   ]
  },
  {
   "cell_type": "code",
   "execution_count": 10,
   "metadata": {
    "collapsed": false
   },
   "outputs": [
    {
     "data": {
      "text/html": [
       "<div>\n",
       "<table border=\"1\" class=\"dataframe\">\n",
       "  <thead>\n",
       "    <tr style=\"text-align: right;\">\n",
       "      <th></th>\n",
       "      <th>yearID</th>\n",
       "      <th>lgID</th>\n",
       "      <th>teamID</th>\n",
       "      <th>franchID</th>\n",
       "      <th>divID</th>\n",
       "      <th>Rank</th>\n",
       "      <th>G</th>\n",
       "      <th>Ghome</th>\n",
       "      <th>W</th>\n",
       "      <th>L</th>\n",
       "      <th>...</th>\n",
       "      <th>DP</th>\n",
       "      <th>FP</th>\n",
       "      <th>name</th>\n",
       "      <th>park</th>\n",
       "      <th>attendance</th>\n",
       "      <th>BPF</th>\n",
       "      <th>PPF</th>\n",
       "      <th>teamIDBR</th>\n",
       "      <th>teamIDlahman45</th>\n",
       "      <th>teamIDretro</th>\n",
       "    </tr>\n",
       "  </thead>\n",
       "  <tbody>\n",
       "    <tr>\n",
       "      <th>0</th>\n",
       "      <td>1871</td>\n",
       "      <td>NaN</td>\n",
       "      <td>BS1</td>\n",
       "      <td>BNA</td>\n",
       "      <td>NaN</td>\n",
       "      <td>3</td>\n",
       "      <td>31</td>\n",
       "      <td>NaN</td>\n",
       "      <td>20</td>\n",
       "      <td>10</td>\n",
       "      <td>...</td>\n",
       "      <td>NaN</td>\n",
       "      <td>0.83</td>\n",
       "      <td>Boston Red Stockings</td>\n",
       "      <td>South End Grounds I</td>\n",
       "      <td>NaN</td>\n",
       "      <td>103</td>\n",
       "      <td>98</td>\n",
       "      <td>BOS</td>\n",
       "      <td>BS1</td>\n",
       "      <td>BS1</td>\n",
       "    </tr>\n",
       "    <tr>\n",
       "      <th>1</th>\n",
       "      <td>1871</td>\n",
       "      <td>NaN</td>\n",
       "      <td>CH1</td>\n",
       "      <td>CNA</td>\n",
       "      <td>NaN</td>\n",
       "      <td>2</td>\n",
       "      <td>28</td>\n",
       "      <td>NaN</td>\n",
       "      <td>19</td>\n",
       "      <td>9</td>\n",
       "      <td>...</td>\n",
       "      <td>NaN</td>\n",
       "      <td>0.82</td>\n",
       "      <td>Chicago White Stockings</td>\n",
       "      <td>Union Base-Ball Grounds</td>\n",
       "      <td>NaN</td>\n",
       "      <td>104</td>\n",
       "      <td>102</td>\n",
       "      <td>CHI</td>\n",
       "      <td>CH1</td>\n",
       "      <td>CH1</td>\n",
       "    </tr>\n",
       "    <tr>\n",
       "      <th>2</th>\n",
       "      <td>1871</td>\n",
       "      <td>NaN</td>\n",
       "      <td>CL1</td>\n",
       "      <td>CFC</td>\n",
       "      <td>NaN</td>\n",
       "      <td>8</td>\n",
       "      <td>29</td>\n",
       "      <td>NaN</td>\n",
       "      <td>10</td>\n",
       "      <td>19</td>\n",
       "      <td>...</td>\n",
       "      <td>NaN</td>\n",
       "      <td>0.81</td>\n",
       "      <td>Cleveland Forest Citys</td>\n",
       "      <td>National Association Grounds</td>\n",
       "      <td>NaN</td>\n",
       "      <td>96</td>\n",
       "      <td>100</td>\n",
       "      <td>CLE</td>\n",
       "      <td>CL1</td>\n",
       "      <td>CL1</td>\n",
       "    </tr>\n",
       "    <tr>\n",
       "      <th>3</th>\n",
       "      <td>1871</td>\n",
       "      <td>NaN</td>\n",
       "      <td>FW1</td>\n",
       "      <td>KEK</td>\n",
       "      <td>NaN</td>\n",
       "      <td>7</td>\n",
       "      <td>19</td>\n",
       "      <td>NaN</td>\n",
       "      <td>7</td>\n",
       "      <td>12</td>\n",
       "      <td>...</td>\n",
       "      <td>NaN</td>\n",
       "      <td>0.80</td>\n",
       "      <td>Fort Wayne Kekiongas</td>\n",
       "      <td>Hamilton Field</td>\n",
       "      <td>NaN</td>\n",
       "      <td>101</td>\n",
       "      <td>107</td>\n",
       "      <td>KEK</td>\n",
       "      <td>FW1</td>\n",
       "      <td>FW1</td>\n",
       "    </tr>\n",
       "    <tr>\n",
       "      <th>4</th>\n",
       "      <td>1871</td>\n",
       "      <td>NaN</td>\n",
       "      <td>NY2</td>\n",
       "      <td>NNA</td>\n",
       "      <td>NaN</td>\n",
       "      <td>5</td>\n",
       "      <td>33</td>\n",
       "      <td>NaN</td>\n",
       "      <td>16</td>\n",
       "      <td>17</td>\n",
       "      <td>...</td>\n",
       "      <td>NaN</td>\n",
       "      <td>0.83</td>\n",
       "      <td>New York Mutuals</td>\n",
       "      <td>Union Grounds (Brooklyn)</td>\n",
       "      <td>NaN</td>\n",
       "      <td>90</td>\n",
       "      <td>88</td>\n",
       "      <td>NYU</td>\n",
       "      <td>NY2</td>\n",
       "      <td>NY2</td>\n",
       "    </tr>\n",
       "  </tbody>\n",
       "</table>\n",
       "<p>5 rows × 48 columns</p>\n",
       "</div>"
      ],
      "text/plain": [
       "   yearID lgID teamID franchID divID  Rank   G  Ghome   W   L     ...       \\\n",
       "0    1871  NaN    BS1      BNA   NaN     3  31    NaN  20  10     ...        \n",
       "1    1871  NaN    CH1      CNA   NaN     2  28    NaN  19   9     ...        \n",
       "2    1871  NaN    CL1      CFC   NaN     8  29    NaN  10  19     ...        \n",
       "3    1871  NaN    FW1      KEK   NaN     7  19    NaN   7  12     ...        \n",
       "4    1871  NaN    NY2      NNA   NaN     5  33    NaN  16  17     ...        \n",
       "\n",
       "   DP    FP                     name                          park  \\\n",
       "0 NaN  0.83     Boston Red Stockings           South End Grounds I   \n",
       "1 NaN  0.82  Chicago White Stockings       Union Base-Ball Grounds   \n",
       "2 NaN  0.81   Cleveland Forest Citys  National Association Grounds   \n",
       "3 NaN  0.80     Fort Wayne Kekiongas                Hamilton Field   \n",
       "4 NaN  0.83         New York Mutuals      Union Grounds (Brooklyn)   \n",
       "\n",
       "   attendance  BPF  PPF  teamIDBR  teamIDlahman45  teamIDretro  \n",
       "0         NaN  103   98       BOS             BS1          BS1  \n",
       "1         NaN  104  102       CHI             CH1          CH1  \n",
       "2         NaN   96  100       CLE             CL1          CL1  \n",
       "3         NaN  101  107       KEK             FW1          FW1  \n",
       "4         NaN   90   88       NYU             NY2          NY2  \n",
       "\n",
       "[5 rows x 48 columns]"
      ]
     },
     "execution_count": 10,
     "metadata": {},
     "output_type": "execute_result"
    }
   ],
   "source": [
    "teams.head()"
   ]
  },
  {
   "cell_type": "code",
   "execution_count": 11,
   "metadata": {
    "collapsed": false
   },
   "outputs": [
    {
     "data": {
      "text/plain": [
       "0       37\n",
       "1       21\n",
       "2       40\n",
       "3        8\n",
       "4       21\n",
       "5       27\n",
       "6       25\n",
       "7       34\n",
       "8       26\n",
       "9       35\n",
       "10       6\n",
       "11      10\n",
       "12      31\n",
       "13       6\n",
       "14       8\n",
       "15      13\n",
       "16      23\n",
       "17      11\n",
       "18       3\n",
       "19       2\n",
       "20      39\n",
       "21       0\n",
       "22      27\n",
       "23      46\n",
       "24       8\n",
       "25      41\n",
       "26      22\n",
       "27      20\n",
       "28      25\n",
       "29       8\n",
       "        ..\n",
       "2745    47\n",
       "2746    22\n",
       "2747    16\n",
       "2748    20\n",
       "2749    32\n",
       "2750    31\n",
       "2751    20\n",
       "2752    23\n",
       "2753    41\n",
       "2754    26\n",
       "2755    19\n",
       "2756    29\n",
       "2757    31\n",
       "2758    38\n",
       "2759    36\n",
       "2760    28\n",
       "2761    27\n",
       "2762    26\n",
       "2763    19\n",
       "2764    33\n",
       "2765    27\n",
       "2766    30\n",
       "2767    30\n",
       "2768    32\n",
       "2769    42\n",
       "2770    21\n",
       "2771    24\n",
       "2772    28\n",
       "2773    24\n",
       "2774    27\n",
       "Name: 3B, dtype: int64"
      ]
     },
     "execution_count": 11,
     "metadata": {},
     "output_type": "execute_result"
    }
   ],
   "source": [
    "teams['3B']"
   ]
  },
  {
   "cell_type": "code",
   "execution_count": null,
   "metadata": {
    "collapsed": true
   },
   "outputs": [],
   "source": []
  },
  {
   "cell_type": "code",
   "execution_count": null,
   "metadata": {
    "collapsed": true
   },
   "outputs": [],
   "source": []
  },
  {
   "cell_type": "code",
   "execution_count": 12,
   "metadata": {
    "collapsed": false
   },
   "outputs": [],
   "source": [
    "### Your code here ###"
   ]
  },
  {
   "cell_type": "code",
   "execution_count": null,
   "metadata": {
    "collapsed": false
   },
   "outputs": [],
   "source": []
  },
  {
   "cell_type": "markdown",
   "metadata": {},
   "source": [
    "#### Problem 1(d)\n",
    "\n",
    "Is there a noticeable time trend in the rates computed computed in Problem 1(c)? "
   ]
  },
  {
   "cell_type": "code",
   "execution_count": 13,
   "metadata": {
    "collapsed": false
   },
   "outputs": [
    {
     "data": {
      "text/plain": [
       "[<matplotlib.lines.Line2D at 0x108d4748>]"
      ]
     },
     "execution_count": 13,
     "metadata": {},
     "output_type": "execute_result"
    },
    {
     "data": {
      "image/png": "[encoded data removed]",
      "text/plain": [
       "<matplotlib.figure.Figure at 0x109c07f0>"
      ]
     },
     "metadata": {},
     "output_type": "display_data"
    }
   ],
   "source": [
    "### Your code here ###\n",
    "plt.scatter(games.yearID, games['1B'])\n",
    "plt.plot(games.yearID, games['2B'])\n",
    "plt.plot(games.yearID, games['3B'])\n",
    "plt.plot(games.yearID, games['HR'])\n",
    "plt.plot(games.yearID, games['BB'])"
   ]
  },
  {
   "cell_type": "markdown",
   "metadata": {},
   "source": [
    "#### Problem 1(e) \n",
    "\n",
    "Using the `stats` DataFrame from Problem 1(c), adjust the singles per PA rates so that the average across teams for each year is 0. Do the same for the doubles, triples, HR, and BB rates. "
   ]
  },
  {
   "cell_type": "code",
   "execution_count": 14,
   "metadata": {
    "collapsed": false
   },
   "outputs": [
    {
     "data": {
      "text/html": [
       "<div>\n",
       "<table border=\"1\" class=\"dataframe\">\n",
       "  <thead>\n",
       "    <tr style=\"text-align: right;\">\n",
       "      <th></th>\n",
       "      <th>teamID</th>\n",
       "      <th>yearID</th>\n",
       "      <th>W</th>\n",
       "      <th>1B</th>\n",
       "      <th>2B</th>\n",
       "      <th>3B</th>\n",
       "      <th>HR</th>\n",
       "      <th>BB</th>\n",
       "      <th>PA</th>\n",
       "    </tr>\n",
       "  </thead>\n",
       "  <tbody>\n",
       "    <tr>\n",
       "      <th>1366</th>\n",
       "      <td>KC1</td>\n",
       "      <td>1961</td>\n",
       "      <td>61</td>\n",
       "      <td>0.019077</td>\n",
       "      <td>-0.218314</td>\n",
       "      <td>0.205980</td>\n",
       "      <td>-0.270526</td>\n",
       "      <td>0.144714</td>\n",
       "      <td>6003</td>\n",
       "    </tr>\n",
       "    <tr>\n",
       "      <th>1367</th>\n",
       "      <td>LAA</td>\n",
       "      <td>1961</td>\n",
       "      <td>70</td>\n",
       "      <td>-0.246208</td>\n",
       "      <td>-0.226571</td>\n",
       "      <td>-0.178366</td>\n",
       "      <td>0.189468</td>\n",
       "      <td>0.376765</td>\n",
       "      <td>6105</td>\n",
       "    </tr>\n",
       "    <tr>\n",
       "      <th>1377</th>\n",
       "      <td>BAL</td>\n",
       "      <td>1962</td>\n",
       "      <td>77</td>\n",
       "      <td>-0.089125</td>\n",
       "      <td>-0.173817</td>\n",
       "      <td>0.008673</td>\n",
       "      <td>0.045742</td>\n",
       "      <td>-0.021885</td>\n",
       "      <td>6007</td>\n",
       "    </tr>\n",
       "    <tr>\n",
       "      <th>1379</th>\n",
       "      <td>CHA</td>\n",
       "      <td>1962</td>\n",
       "      <td>85</td>\n",
       "      <td>0.035400</td>\n",
       "      <td>-0.074211</td>\n",
       "      <td>0.324220</td>\n",
       "      <td>-0.270357</td>\n",
       "      <td>0.213999</td>\n",
       "      <td>6134</td>\n",
       "    </tr>\n",
       "    <tr>\n",
       "      <th>1380</th>\n",
       "      <td>CHN</td>\n",
       "      <td>1962</td>\n",
       "      <td>59</td>\n",
       "      <td>0.084280</td>\n",
       "      <td>-0.324584</td>\n",
       "      <td>0.337422</td>\n",
       "      <td>-0.101250</td>\n",
       "      <td>-0.059630</td>\n",
       "      <td>6038</td>\n",
       "    </tr>\n",
       "  </tbody>\n",
       "</table>\n",
       "</div>"
      ],
      "text/plain": [
       "     teamID  yearID   W        1B        2B        3B        HR        BB  \\\n",
       "1366    KC1    1961  61  0.019077 -0.218314  0.205980 -0.270526  0.144714   \n",
       "1367    LAA    1961  70 -0.246208 -0.226571 -0.178366  0.189468  0.376765   \n",
       "1377    BAL    1962  77 -0.089125 -0.173817  0.008673  0.045742 -0.021885   \n",
       "1379    CHA    1962  85  0.035400 -0.074211  0.324220 -0.270357  0.213999   \n",
       "1380    CHN    1962  59  0.084280 -0.324584  0.337422 -0.101250 -0.059630   \n",
       "\n",
       "        PA  \n",
       "1366  6003  \n",
       "1367  6105  \n",
       "1377  6007  \n",
       "1379  6134  \n",
       "1380  6038  "
      ]
     },
     "execution_count": 14,
     "metadata": {},
     "output_type": "execute_result"
    }
   ],
   "source": [
    "### Your code here ###\n",
    "games_norm = games.copy()\n",
    "games_norm[['1B','2B','3B','HR','BB']] = games[['1B','2B','3B','HR','BB']].apply(lambda x: (x - np.mean(x)) / (np.max(x) - np.min(x)))\n",
    "games_norm.head()"
   ]
  },
  {
   "cell_type": "markdown",
   "metadata": {},
   "source": [
    "#### Problem 1(f)\n",
    "\n",
    "Build a simple linear regression model to predict the number of wins from the average adjusted singles, double, triples, HR, and BB rates. To decide which of these terms to include fit the model to data from 2002 and compute the average squared residuals from predictions to years past 2002. Use the fitted model to define a new sabermetric summary: offensive predicted wins (OPW). Hint: the new summary should be a linear combination of one to five of the five rates.\n"
   ]
  },
  {
   "cell_type": "code",
   "execution_count": 15,
   "metadata": {
    "collapsed": false
   },
   "outputs": [],
   "source": [
    "### Your code here ###\n",
    "games_norm2 = games_norm[games_norm.yearID>2001]\n",
    "games_norm2.head()\n",
    "X=games_norm2.loc[:,['1B','2B','3B','HR','BB']]\n",
    "y=games_norm2.W\n",
    "\n",
    "from sklearn.cross_validation import train_test_split\n",
    "from sklearn.linear_model import LinearRegression\n",
    "Xtrain, Xtest, ytrain, ytest = train_test_split(X,y)"
   ]
  },
  {
   "cell_type": "code",
   "execution_count": 16,
   "metadata": {
    "collapsed": false
   },
   "outputs": [],
   "source": [
    "from sklearn.metrics import mean_squared_error\n",
    "est = LinearRegression()\n",
    "model = est.fit(Xtrain,ytrain)\n",
    "pred = est.predict(Xtest)\n",
    "err = mean_squared_error(ytest, pred)"
   ]
  },
  {
   "cell_type": "code",
   "execution_count": 17,
   "metadata": {
    "collapsed": false
   },
   "outputs": [
    {
     "data": {
      "text/plain": [
       "93.953833522524846"
      ]
     },
     "execution_count": 17,
     "metadata": {},
     "output_type": "execute_result"
    }
   ],
   "source": [
    "err"
   ]
  },
  {
   "cell_type": "markdown",
   "metadata": {},
   "source": [
    "** Your answer here: **"
   ]
  },
  {
   "cell_type": "markdown",
   "metadata": {},
   "source": [
    "#### Problem 1(g)\n",
    "\n",
    "Now we will create a similar database for individual players. Consider only player/year combinations in which the player had at least 500 plate appearances. Consider only the years we considered for the calculations above (after 1947 and seasons with 162 games). For each player/year compute singles, doubles, triples, HR, BB per plate appearance rates. Create a new pandas DataFrame called `playerstats` that has the playerID, yearID and the rates of these stats.  Remove the average for each year as for these rates as done in Problem 1(e). "
   ]
  },
  {
   "cell_type": "code",
   "execution_count": 18,
   "metadata": {
    "collapsed": false
   },
   "outputs": [
    {
     "name": "stderr",
     "output_type": "stream",
     "text": [
      "C:\\Anaconda2\\lib\\site-packages\\ipykernel\\__main__.py:3: SettingWithCopyWarning: \n",
      "A value is trying to be set on a copy of a slice from a DataFrame.\n",
      "Try using .loc[row_indexer,col_indexer] = value instead\n",
      "\n",
      "See the caveats in the documentation: http://pandas.pydata.org/pandas-docs/stable/indexing.html#indexing-view-versus-copy\n",
      "  app.launch_new_instance()\n",
      "C:\\Anaconda2\\lib\\site-packages\\ipykernel\\__main__.py:4: SettingWithCopyWarning: \n",
      "A value is trying to be set on a copy of a slice from a DataFrame.\n",
      "Try using .loc[row_indexer,col_indexer] = value instead\n",
      "\n",
      "See the caveats in the documentation: http://pandas.pydata.org/pandas-docs/stable/indexing.html#indexing-view-versus-copy\n",
      "C:\\Anaconda2\\lib\\site-packages\\ipykernel\\__main__.py:6: SettingWithCopyWarning: \n",
      "A value is trying to be set on a copy of a slice from a DataFrame.\n",
      "Try using .loc[row_indexer,col_indexer] = value instead\n",
      "\n",
      "See the caveats in the documentation: http://pandas.pydata.org/pandas-docs/stable/indexing.html#indexing-view-versus-copy\n"
     ]
    },
    {
     "data": {
      "text/html": [
       "<div>\n",
       "<table border=\"1\" class=\"dataframe\">\n",
       "  <thead>\n",
       "    <tr style=\"text-align: right;\">\n",
       "      <th></th>\n",
       "      <th>playerID</th>\n",
       "      <th>yearID</th>\n",
       "      <th>1B</th>\n",
       "      <th>2B</th>\n",
       "      <th>3B</th>\n",
       "      <th>HR</th>\n",
       "      <th>BB</th>\n",
       "    </tr>\n",
       "  </thead>\n",
       "  <tbody>\n",
       "    <tr>\n",
       "      <th>41776</th>\n",
       "      <td>richabo01</td>\n",
       "      <td>1961</td>\n",
       "      <td>0.213873</td>\n",
       "      <td>0.024566</td>\n",
       "      <td>0.007225</td>\n",
       "      <td>0.004335</td>\n",
       "      <td>0.043353</td>\n",
       "    </tr>\n",
       "    <tr>\n",
       "      <th>41929</th>\n",
       "      <td>woodja01</td>\n",
       "      <td>1961</td>\n",
       "      <td>0.178918</td>\n",
       "      <td>0.023578</td>\n",
       "      <td>0.019417</td>\n",
       "      <td>0.015257</td>\n",
       "      <td>0.080444</td>\n",
       "    </tr>\n",
       "    <tr>\n",
       "      <th>42065</th>\n",
       "      <td>cepedor01</td>\n",
       "      <td>1962</td>\n",
       "      <td>0.194864</td>\n",
       "      <td>0.039275</td>\n",
       "      <td>0.001511</td>\n",
       "      <td>0.052870</td>\n",
       "      <td>0.055891</td>\n",
       "    </tr>\n",
       "    <tr>\n",
       "      <th>42387</th>\n",
       "      <td>mayswi01</td>\n",
       "      <td>1962</td>\n",
       "      <td>0.141631</td>\n",
       "      <td>0.051502</td>\n",
       "      <td>0.007153</td>\n",
       "      <td>0.070100</td>\n",
       "      <td>0.111588</td>\n",
       "    </tr>\n",
       "    <tr>\n",
       "      <th>42521</th>\n",
       "      <td>robinbr01</td>\n",
       "      <td>1962</td>\n",
       "      <td>0.193787</td>\n",
       "      <td>0.042899</td>\n",
       "      <td>0.013314</td>\n",
       "      <td>0.034024</td>\n",
       "      <td>0.062130</td>\n",
       "    </tr>\n",
       "  </tbody>\n",
       "</table>\n",
       "</div>"
      ],
      "text/plain": [
       "        playerID  yearID        1B        2B        3B        HR        BB\n",
       "41776  richabo01    1961  0.213873  0.024566  0.007225  0.004335  0.043353\n",
       "41929   woodja01    1961  0.178918  0.023578  0.019417  0.015257  0.080444\n",
       "42065  cepedor01    1962  0.194864  0.039275  0.001511  0.052870  0.055891\n",
       "42387   mayswi01    1962  0.141631  0.051502  0.007153  0.070100  0.111588\n",
       "42521  robinbr01    1962  0.193787  0.042899  0.013314  0.034024  0.062130"
      ]
     },
     "execution_count": 18,
     "metadata": {},
     "output_type": "execute_result"
    }
   ],
   "source": [
    "### Your code here ###\n",
    "subplayers = players[(players.AB+players.BB >=500) & (players.G==162) & (players.yearID>1946)]\n",
    "subplayers[\"1B\"] = subplayers.H - subplayers[\"2B\"] - subplayers[\"3B\"] - subplayers[\"HR\"]\n",
    "subplayers[\"PA\"] = subplayers.BB + subplayers.AB\n",
    "for i in [\"1B\",\"2B\",\"3B\",\"HR\",\"BB\"]:\n",
    "    subplayers[i]=subplayers[i]/subplayers.PA\n",
    "playerstats=subplayers[['playerID','yearID',\"1B\",\"2B\",\"3B\",\"HR\",\"BB\"]].copy()\n",
    "playerstats.head()\n"
   ]
  },
  {
   "cell_type": "markdown",
   "metadata": {},
   "source": [
    "Show the head of the `playerstats` DataFrame. "
   ]
  },
  {
   "cell_type": "code",
   "execution_count": 19,
   "metadata": {
    "collapsed": false
   },
   "outputs": [
    {
     "data": {
      "text/html": [
       "<div>\n",
       "<table border=\"1\" class=\"dataframe\">\n",
       "  <thead>\n",
       "    <tr style=\"text-align: right;\">\n",
       "      <th></th>\n",
       "      <th>playerID</th>\n",
       "      <th>yearID</th>\n",
       "      <th>1B</th>\n",
       "      <th>2B</th>\n",
       "      <th>3B</th>\n",
       "      <th>HR</th>\n",
       "      <th>BB</th>\n",
       "    </tr>\n",
       "  </thead>\n",
       "  <tbody>\n",
       "    <tr>\n",
       "      <th>41776</th>\n",
       "      <td>richabo01</td>\n",
       "      <td>1961</td>\n",
       "      <td>0.017477</td>\n",
       "      <td>0.000494</td>\n",
       "      <td>-0.006096</td>\n",
       "      <td>-0.005461</td>\n",
       "      <td>-0.018546</td>\n",
       "    </tr>\n",
       "    <tr>\n",
       "      <th>41929</th>\n",
       "      <td>woodja01</td>\n",
       "      <td>1961</td>\n",
       "      <td>-0.017477</td>\n",
       "      <td>-0.000494</td>\n",
       "      <td>0.006096</td>\n",
       "      <td>0.005461</td>\n",
       "      <td>0.018546</td>\n",
       "    </tr>\n",
       "    <tr>\n",
       "      <th>42065</th>\n",
       "      <td>cepedor01</td>\n",
       "      <td>1962</td>\n",
       "      <td>0.024062</td>\n",
       "      <td>-0.006264</td>\n",
       "      <td>-0.005044</td>\n",
       "      <td>0.007112</td>\n",
       "      <td>-0.042883</td>\n",
       "    </tr>\n",
       "    <tr>\n",
       "      <th>42387</th>\n",
       "      <td>mayswi01</td>\n",
       "      <td>1962</td>\n",
       "      <td>-0.029171</td>\n",
       "      <td>0.005963</td>\n",
       "      <td>0.000599</td>\n",
       "      <td>0.024342</td>\n",
       "      <td>0.012813</td>\n",
       "    </tr>\n",
       "    <tr>\n",
       "      <th>42521</th>\n",
       "      <td>robinbr01</td>\n",
       "      <td>1962</td>\n",
       "      <td>0.022985</td>\n",
       "      <td>-0.002640</td>\n",
       "      <td>0.006759</td>\n",
       "      <td>-0.011735</td>\n",
       "      <td>-0.036644</td>\n",
       "    </tr>\n",
       "  </tbody>\n",
       "</table>\n",
       "</div>"
      ],
      "text/plain": [
       "        playerID  yearID        1B        2B        3B        HR        BB\n",
       "41776  richabo01    1961  0.017477  0.000494 -0.006096 -0.005461 -0.018546\n",
       "41929   woodja01    1961 -0.017477 -0.000494  0.006096  0.005461  0.018546\n",
       "42065  cepedor01    1962  0.024062 -0.006264 -0.005044  0.007112 -0.042883\n",
       "42387   mayswi01    1962 -0.029171  0.005963  0.000599  0.024342  0.012813\n",
       "42521  robinbr01    1962  0.022985 -0.002640  0.006759 -0.011735 -0.036644"
      ]
     },
     "execution_count": 19,
     "metadata": {},
     "output_type": "execute_result"
    }
   ],
   "source": [
    "### Your code here ###\n",
    "def normalize(df):\n",
    "    subRates = df[[\"1B\",\"2B\",\"3B\",\"HR\",\"BB\"]]\n",
    "    df[[\"1B\",\"2B\",\"3B\",\"HR\",\"BB\"]] = subRates - subRates.mean(axis=0)\n",
    "    return df\n",
    "playerstats =playerstats.groupby('yearID').apply(normalize)\n",
    "playerstats.head()\n"
   ]
  },
  {
   "cell_type": "markdown",
   "metadata": {},
   "source": [
    "#### Problem 1(h)\n",
    "\n",
    "Using the `playerstats` DataFrame created in Problem 1(g), create a new DataFrame called `playerLS` containing the player's lifetime stats. This DataFrame should contain the playerID, the year the player's career started, the year the player's career ended and the player's lifetime average for each of the quantities (singles, doubles, triples, HR, BB). For simplicity we will simply compute the avaerage of the rates by year (a more correct way is to go back to the totals). "
   ]
  },
  {
   "cell_type": "code",
   "execution_count": 20,
   "metadata": {
    "collapsed": false
   },
   "outputs": [
    {
     "data": {
      "text/html": [
       "<div>\n",
       "<table border=\"1\" class=\"dataframe\">\n",
       "  <thead>\n",
       "    <tr style=\"text-align: right;\">\n",
       "      <th></th>\n",
       "      <th>playerID</th>\n",
       "      <th>debut</th>\n",
       "      <th>finalGame</th>\n",
       "      <th>1B</th>\n",
       "      <th>2B</th>\n",
       "      <th>3B</th>\n",
       "      <th>HR</th>\n",
       "      <th>BB</th>\n",
       "    </tr>\n",
       "  </thead>\n",
       "  <tbody>\n",
       "    <tr>\n",
       "      <th>0</th>\n",
       "      <td>abreubo01</td>\n",
       "      <td>1996</td>\n",
       "      <td>2014</td>\n",
       "      <td>-0.022295</td>\n",
       "      <td>0.008226</td>\n",
       "      <td>-0.002379</td>\n",
       "      <td>-0.003980</td>\n",
       "      <td>0.054759</td>\n",
       "    </tr>\n",
       "    <tr>\n",
       "      <th>1</th>\n",
       "      <td>allendi01</td>\n",
       "      <td>1963</td>\n",
       "      <td>1977</td>\n",
       "      <td>-0.005771</td>\n",
       "      <td>0.016424</td>\n",
       "      <td>0.009082</td>\n",
       "      <td>0.014189</td>\n",
       "      <td>0.012272</td>\n",
       "    </tr>\n",
       "    <tr>\n",
       "      <th>2</th>\n",
       "      <td>alomasa01</td>\n",
       "      <td>1964</td>\n",
       "      <td>1978</td>\n",
       "      <td>0.011155</td>\n",
       "      <td>-0.008823</td>\n",
       "      <td>-0.002639</td>\n",
       "      <td>-0.012807</td>\n",
       "      <td>-0.030193</td>\n",
       "    </tr>\n",
       "    <tr>\n",
       "      <th>3</th>\n",
       "      <td>alouma01</td>\n",
       "      <td>1960</td>\n",
       "      <td>1974</td>\n",
       "      <td>0.078618</td>\n",
       "      <td>0.017006</td>\n",
       "      <td>0.003056</td>\n",
       "      <td>-0.034643</td>\n",
       "      <td>-0.065462</td>\n",
       "    </tr>\n",
       "    <tr>\n",
       "      <th>4</th>\n",
       "      <td>bagweje01</td>\n",
       "      <td>1991</td>\n",
       "      <td>2005</td>\n",
       "      <td>-0.026475</td>\n",
       "      <td>0.008020</td>\n",
       "      <td>-0.001249</td>\n",
       "      <td>0.012158</td>\n",
       "      <td>0.054203</td>\n",
       "    </tr>\n",
       "  </tbody>\n",
       "</table>\n",
       "</div>"
      ],
      "text/plain": [
       "    playerID  debut  finalGame        1B        2B        3B        HR  \\\n",
       "0  abreubo01   1996       2014 -0.022295  0.008226 -0.002379 -0.003980   \n",
       "1  allendi01   1963       1977 -0.005771  0.016424  0.009082  0.014189   \n",
       "2  alomasa01   1964       1978  0.011155 -0.008823 -0.002639 -0.012807   \n",
       "3   alouma01   1960       1974  0.078618  0.017006  0.003056 -0.034643   \n",
       "4  bagweje01   1991       2005 -0.026475  0.008020 -0.001249  0.012158   \n",
       "\n",
       "         BB  \n",
       "0  0.054759  \n",
       "1  0.012272  \n",
       "2 -0.030193  \n",
       "3 -0.065462  \n",
       "4  0.054203  "
      ]
     },
     "execution_count": 20,
     "metadata": {},
     "output_type": "execute_result"
    }
   ],
   "source": [
    "### Your code here ###\n",
    "grouped = playerstats.groupby('playerID')\n",
    "playerLS =grouped[['playerID','1B','2B','3B','HR','BB']].agg(np.mean).reset_index()\n",
    "playerLS=master[['playerID','debut','finalGame']].merge(playerLS, how='inner',on='playerID')\n",
    "playerLS.debut = playerLS.debut.map(lambda x: int(x[-4:]))\n",
    "playerLS.finalGame = playerLS.finalGame.map(lambda x: int(x[-4:]))\n",
    "playerLS.head()"
   ]
  },
  {
   "cell_type": "markdown",
   "metadata": {},
   "source": [
    "Show the head of the `playerLS` DataFrame. "
   ]
  },
  {
   "cell_type": "code",
   "execution_count": 21,
   "metadata": {
    "collapsed": false
   },
   "outputs": [],
   "source": [
    "### Your code here ###"
   ]
  },
  {
   "cell_type": "markdown",
   "metadata": {},
   "source": [
    "#### Problem 1(i)\n",
    "\n",
    "Compute the OPW for each player based on the average rates in the `playerLS` DataFrame. You can interpret this summary statistic as the predicted wins for a team with 9 batters exactly like the player in question. Add this column to the playerLS DataFrame. Call this colum OPW."
   ]
  },
  {
   "cell_type": "code",
   "execution_count": 22,
   "metadata": {
    "collapsed": false
   },
   "outputs": [
    {
     "data": {
      "text/html": [
       "<div>\n",
       "<table border=\"1\" class=\"dataframe\">\n",
       "  <thead>\n",
       "    <tr style=\"text-align: right;\">\n",
       "      <th></th>\n",
       "      <th>playerID</th>\n",
       "      <th>debut</th>\n",
       "      <th>finalGame</th>\n",
       "      <th>1B</th>\n",
       "      <th>2B</th>\n",
       "      <th>3B</th>\n",
       "      <th>HR</th>\n",
       "      <th>BB</th>\n",
       "      <th>OPW</th>\n",
       "    </tr>\n",
       "  </thead>\n",
       "  <tbody>\n",
       "    <tr>\n",
       "      <th>0</th>\n",
       "      <td>abreubo01</td>\n",
       "      <td>1996</td>\n",
       "      <td>2014</td>\n",
       "      <td>-0.022295</td>\n",
       "      <td>0.008226</td>\n",
       "      <td>-0.002379</td>\n",
       "      <td>-0.003980</td>\n",
       "      <td>0.054759</td>\n",
       "      <td>81.627509</td>\n",
       "    </tr>\n",
       "    <tr>\n",
       "      <th>1</th>\n",
       "      <td>allendi01</td>\n",
       "      <td>1963</td>\n",
       "      <td>1977</td>\n",
       "      <td>-0.005771</td>\n",
       "      <td>0.016424</td>\n",
       "      <td>0.009082</td>\n",
       "      <td>0.014189</td>\n",
       "      <td>0.012272</td>\n",
       "      <td>81.413611</td>\n",
       "    </tr>\n",
       "    <tr>\n",
       "      <th>2</th>\n",
       "      <td>alomasa01</td>\n",
       "      <td>1964</td>\n",
       "      <td>1978</td>\n",
       "      <td>0.011155</td>\n",
       "      <td>-0.008823</td>\n",
       "      <td>-0.002639</td>\n",
       "      <td>-0.012807</td>\n",
       "      <td>-0.030193</td>\n",
       "      <td>79.928380</td>\n",
       "    </tr>\n",
       "    <tr>\n",
       "      <th>3</th>\n",
       "      <td>alouma01</td>\n",
       "      <td>1960</td>\n",
       "      <td>1974</td>\n",
       "      <td>0.078618</td>\n",
       "      <td>0.017006</td>\n",
       "      <td>0.003056</td>\n",
       "      <td>-0.034643</td>\n",
       "      <td>-0.065462</td>\n",
       "      <td>80.189067</td>\n",
       "    </tr>\n",
       "    <tr>\n",
       "      <th>4</th>\n",
       "      <td>bagweje01</td>\n",
       "      <td>1991</td>\n",
       "      <td>2005</td>\n",
       "      <td>-0.026475</td>\n",
       "      <td>0.008020</td>\n",
       "      <td>-0.001249</td>\n",
       "      <td>0.012158</td>\n",
       "      <td>0.054203</td>\n",
       "      <td>81.925681</td>\n",
       "    </tr>\n",
       "  </tbody>\n",
       "</table>\n",
       "</div>"
      ],
      "text/plain": [
       "    playerID  debut  finalGame        1B        2B        3B        HR  \\\n",
       "0  abreubo01   1996       2014 -0.022295  0.008226 -0.002379 -0.003980   \n",
       "1  allendi01   1963       1977 -0.005771  0.016424  0.009082  0.014189   \n",
       "2  alomasa01   1964       1978  0.011155 -0.008823 -0.002639 -0.012807   \n",
       "3   alouma01   1960       1974  0.078618  0.017006  0.003056 -0.034643   \n",
       "4  bagweje01   1991       2005 -0.026475  0.008020 -0.001249  0.012158   \n",
       "\n",
       "         BB        OPW  \n",
       "0  0.054759  81.627509  \n",
       "1  0.012272  81.413611  \n",
       "2 -0.030193  79.928380  \n",
       "3 -0.065462  80.189067  \n",
       "4  0.054203  81.925681  "
      ]
     },
     "execution_count": 22,
     "metadata": {},
     "output_type": "execute_result"
    }
   ],
   "source": [
    "### Your code here ###\n",
    "playerLS['OPW'] = est.predict(playerLS[['1B','2B','3B','HR','BB']])\n",
    "playerLS.head()"
   ]
  },
  {
   "cell_type": "markdown",
   "metadata": {},
   "source": [
    "#### Problem 1(j)\n",
    "\n",
    "Add four columns to the `playerLS` DataFrame that contains the player's position (C, 1B, 2B, 3B, SS, LF, CF, RF, or OF), first name, last name and median salary. "
   ]
  },
  {
   "cell_type": "code",
   "execution_count": 23,
   "metadata": {
    "collapsed": false
   },
   "outputs": [],
   "source": [
    "### Your code here ###\n",
    "\n",
    "from collections import defaultdict\n",
    "\n",
    "def find_pos(df):\n",
    "    positions = df.POS\n",
    "    d = defaultdict(int)\n",
    "    for pos in positions:\n",
    "        d[pos] += 1\n",
    "    result = max(d.iteritems(), key=lambda x: x[1])\n",
    "    return result[0]\n",
    "\n",
    "positions_df = fielding.groupby(\"playerID\").apply(find_pos)\n",
    "positions_df = positions_df.reset_index()\n",
    "positions_df = positions_df.rename(columns={0:\"POS\"})"
   ]
  },
  {
   "cell_type": "markdown",
   "metadata": {},
   "source": [
    "Show the head of the `playerLS` DataFrame. "
   ]
  },
  {
   "cell_type": "code",
   "execution_count": 24,
   "metadata": {
    "collapsed": false
   },
   "outputs": [
    {
     "data": {
      "text/html": [
       "<div>\n",
       "<table border=\"1\" class=\"dataframe\">\n",
       "  <thead>\n",
       "    <tr style=\"text-align: right;\">\n",
       "      <th></th>\n",
       "      <th>playerID</th>\n",
       "      <th>POS</th>\n",
       "      <th>debut</th>\n",
       "      <th>finalGame</th>\n",
       "      <th>1B</th>\n",
       "      <th>2B</th>\n",
       "      <th>3B</th>\n",
       "      <th>HR</th>\n",
       "      <th>BB</th>\n",
       "      <th>OPW</th>\n",
       "      <th>nameLast</th>\n",
       "      <th>nameFirst</th>\n",
       "      <th>salary</th>\n",
       "    </tr>\n",
       "  </thead>\n",
       "  <tbody>\n",
       "    <tr>\n",
       "      <th>0</th>\n",
       "      <td>abreubo01</td>\n",
       "      <td>OF</td>\n",
       "      <td>1996</td>\n",
       "      <td>2014</td>\n",
       "      <td>-0.022295</td>\n",
       "      <td>0.008226</td>\n",
       "      <td>-0.002379</td>\n",
       "      <td>-0.003980</td>\n",
       "      <td>0.054759</td>\n",
       "      <td>81.627509</td>\n",
       "      <td>Abreu</td>\n",
       "      <td>Bobby</td>\n",
       "      <td>9000000</td>\n",
       "    </tr>\n",
       "    <tr>\n",
       "      <th>1</th>\n",
       "      <td>bagweje01</td>\n",
       "      <td>1B</td>\n",
       "      <td>1991</td>\n",
       "      <td>2005</td>\n",
       "      <td>-0.026475</td>\n",
       "      <td>0.008020</td>\n",
       "      <td>-0.001249</td>\n",
       "      <td>0.012158</td>\n",
       "      <td>0.054203</td>\n",
       "      <td>81.925681</td>\n",
       "      <td>Bagwell</td>\n",
       "      <td>Jeff</td>\n",
       "      <td>6875000</td>\n",
       "    </tr>\n",
       "    <tr>\n",
       "      <th>2</th>\n",
       "      <td>bayja01</td>\n",
       "      <td>OF</td>\n",
       "      <td>2003</td>\n",
       "      <td>2013</td>\n",
       "      <td>-0.023686</td>\n",
       "      <td>0.011852</td>\n",
       "      <td>0.002115</td>\n",
       "      <td>0.008111</td>\n",
       "      <td>0.037311</td>\n",
       "      <td>81.461449</td>\n",
       "      <td>Bay</td>\n",
       "      <td>Jason</td>\n",
       "      <td>4750000</td>\n",
       "    </tr>\n",
       "    <tr>\n",
       "      <th>3</th>\n",
       "      <td>baylodo01</td>\n",
       "      <td>DH</td>\n",
       "      <td>1970</td>\n",
       "      <td>1988</td>\n",
       "      <td>-0.018590</td>\n",
       "      <td>0.004053</td>\n",
       "      <td>-0.002398</td>\n",
       "      <td>0.020579</td>\n",
       "      <td>0.027008</td>\n",
       "      <td>81.610458</td>\n",
       "      <td>Baylor</td>\n",
       "      <td>Don</td>\n",
       "      <td>695909</td>\n",
       "    </tr>\n",
       "    <tr>\n",
       "      <th>4</th>\n",
       "      <td>bellbu01</td>\n",
       "      <td>3B</td>\n",
       "      <td>1972</td>\n",
       "      <td>1989</td>\n",
       "      <td>0.014034</td>\n",
       "      <td>0.016843</td>\n",
       "      <td>-0.002404</td>\n",
       "      <td>-0.005209</td>\n",
       "      <td>-0.031709</td>\n",
       "      <td>80.261613</td>\n",
       "      <td>Bell</td>\n",
       "      <td>Buddy</td>\n",
       "      <td>830454</td>\n",
       "    </tr>\n",
       "  </tbody>\n",
       "</table>\n",
       "</div>"
      ],
      "text/plain": [
       "    playerID POS  debut  finalGame        1B        2B        3B        HR  \\\n",
       "0  abreubo01  OF   1996       2014 -0.022295  0.008226 -0.002379 -0.003980   \n",
       "1  bagweje01  1B   1991       2005 -0.026475  0.008020 -0.001249  0.012158   \n",
       "2    bayja01  OF   2003       2013 -0.023686  0.011852  0.002115  0.008111   \n",
       "3  baylodo01  DH   1970       1988 -0.018590  0.004053 -0.002398  0.020579   \n",
       "4   bellbu01  3B   1972       1989  0.014034  0.016843 -0.002404 -0.005209   \n",
       "\n",
       "         BB        OPW nameLast nameFirst   salary  \n",
       "0  0.054759  81.627509    Abreu     Bobby  9000000  \n",
       "1  0.054203  81.925681  Bagwell      Jeff  6875000  \n",
       "2  0.037311  81.461449      Bay     Jason  4750000  \n",
       "3  0.027008  81.610458   Baylor       Don   695909  \n",
       "4 -0.031709  80.261613     Bell     Buddy   830454  "
      ]
     },
     "execution_count": 24,
     "metadata": {},
     "output_type": "execute_result"
    }
   ],
   "source": [
    "### Your code here ###\n",
    "playerLS_merged = positions_df.merge(playerLS, how='inner', on=\"playerID\")\n",
    "playerLS_merged = playerLS_merged.merge(median_salaries, how='inner', on=['playerID'])\n",
    "playerLS_merged.head()"
   ]
  },
  {
   "cell_type": "markdown",
   "metadata": {},
   "source": [
    "#### Problem 1(k)\n",
    "\n",
    "Subset the `playerLS` DataFrame for players active in 2002 and 2003 and played at least three years. Plot and describe the relationship bewteen the median salary (in millions) and the predicted number of wins. "
   ]
  },
  {
   "cell_type": "code",
   "execution_count": 25,
   "metadata": {
    "collapsed": false
   },
   "outputs": [
    {
     "data": {
      "text/plain": [
       "<matplotlib.collections.PathCollection at 0x109c04a8>"
      ]
     },
     "execution_count": 25,
     "metadata": {},
     "output_type": "execute_result"
    },
    {
     "data": {
      "image/png": "[encoded data removed]",
      "text/plain": [
       "<matplotlib.figure.Figure at 0x106c8208>"
      ]
     },
     "metadata": {},
     "output_type": "display_data"
    }
   ],
   "source": [
    "### Your code here ###\n",
    "active = playerLS_merged[(playerLS_merged[\"debut\"] <= 2005) & \\\n",
    "                         (playerLS_merged[\"finalGame\"] >= 2006) & \\\n",
    "                         (playerLS_merged[\"finalGame\"] - playerLS_merged[\"debut\"] >= 3)  ]\n",
    "\n",
    "plt.scatter(active.salary/10**6,active.OPW)"
   ]
  },
  {
   "cell_type": "markdown",
   "metadata": {},
   "source": [
    "#### Problem 1(l)\n",
    "Pick one players from one of each of these 10 position C, 1B, 2B, 3B, SS, LF, CF, RF, DH, or OF keeping the total median salary of all 10 players below 20 million. Report their averaged predicted wins and total salary."
   ]
  },
  {
   "cell_type": "code",
   "execution_count": 26,
   "metadata": {
    "collapsed": false
   },
   "outputs": [],
   "source": [
    "### Your code here ###"
   ]
  },
  {
   "cell_type": "markdown",
   "metadata": {},
   "source": [
    "#### Problem 1(m)\n",
    "What do these players outperform in? Singles, doubles, triples HR or BB?"
   ]
  },
  {
   "cell_type": "code",
   "execution_count": 27,
   "metadata": {
    "collapsed": false
   },
   "outputs": [],
   "source": [
    "### Your code here ###"
   ]
  },
  {
   "cell_type": "markdown",
   "metadata": {},
   "source": [
    "** Your answer here: **"
   ]
  },
  {
   "cell_type": "markdown",
   "metadata": {},
   "source": [
    "## Discussion for Problem 1\n",
    "\n",
    "*Write a brief discussion of your conclusions to the questions and tasks above in 100 words or less.*\n",
    "\n",
    "---"
   ]
  },
  {
   "cell_type": "markdown",
   "metadata": {},
   "source": [
    "# Problem 2:  $k$-Nearest Neighbors and Cross Validation \n",
    "\n",
    "What is the optimal $k$ for predicting species using $k$-nearest neighbor classification \n",
    "on the four features provided by the iris dataset.\n",
    "\n",
    "In this problem you will get to know the famous iris data set, and use cross validation to select the optimal $k$ for a $k$-nearest neighbor classification. This problem set makes heavy use of the [sklearn](http://scikit-learn.org/stable/) library. In addition to Pandas, it is one of the most useful libraries for data scientists! After completing this homework assignment you will know all the basics to get started with your own machine learning projects in sklearn. \n",
    "\n",
    "Future lectures will give further background information on different classifiers and their specific strengths and weaknesses, but when you have the basics for sklearn down, changing the classifier will boil down to exchanging one to two lines of code.\n",
    "\n",
    "The data set is so popular, that sklearn provides an extra function to load it:"
   ]
  },
  {
   "cell_type": "code",
   "execution_count": 28,
   "metadata": {
    "collapsed": false,
    "scrolled": true
   },
   "outputs": [
    {
     "name": "stdout",
     "output_type": "stream",
     "text": [
      "(100L, 4L) (100L,)\n"
     ]
    }
   ],
   "source": [
    "#load the iris data set\n",
    "iris = sklearn.datasets.load_iris()\n",
    "\n",
    "X = iris.data  \n",
    "Y = iris.target\n",
    "X_train, X_test, y_train, y_test = train_test_split( iris.data, iris.target, test_size=0.33, random_state=42)\n",
    "print X_train.shape, y_train.shape"
   ]
  },
  {
   "cell_type": "code",
   "execution_count": null,
   "metadata": {
    "collapsed": false
   },
   "outputs": [],
   "source": []
  },
  {
   "cell_type": "markdown",
   "metadata": {},
   "source": [
    "#### Problem 2(a) \n",
    "Split the data into a train and a test set. Use a random selection of 33% of the samples as test data. Sklearn provides the [`train_test_split`](http://scikit-learn.org/stable/modules/generated/sklearn.cross_validation.train_test_split.html) function for this purpose. Print the dimensions of all the train and test data sets you have created. "
   ]
  },
  {
   "cell_type": "code",
   "execution_count": 29,
   "metadata": {
    "collapsed": false
   },
   "outputs": [
    {
     "name": "stdout",
     "output_type": "stream",
     "text": [
      "(100L, 4L) (100L,)\n"
     ]
    }
   ],
   "source": [
    "### Your code here ###\n",
    "X_train, X_test, y_train, y_test = train_test_split( iris.data, iris.target, test_size=0.33, random_state=42)\n",
    "print X_train.shape, y_train.shape"
   ]
  },
  {
   "cell_type": "markdown",
   "metadata": {},
   "source": [
    "#### Problem 2(b)\n",
    "\n",
    "Examine the data further by looking at the projections to the first two principal components of the data. Use the [`TruncatedSVD`](http://scikit-learn.org/stable/modules/generated/sklearn.decomposition.TruncatedSVD.html) function for this purpose, and create a scatter plot. Use the colors on the scatter plot to represent the different classes in the target data. "
   ]
  },
  {
   "cell_type": "code",
   "execution_count": 30,
   "metadata": {
    "collapsed": false
   },
   "outputs": [
    {
     "name": "stdout",
     "output_type": "stream",
     "text": [
      "0.974979998661\n"
     ]
    },
    {
     "data": {
      "image/png": "[encoded data removed]",
      "text/plain": [
       "<matplotlib.figure.Figure at 0x1065bb38>"
      ]
     },
     "metadata": {},
     "output_type": "display_data"
    }
   ],
   "source": [
    "### Your code here ###\n",
    "from sklearn.decomposition import PCA, TruncatedSVD\n",
    "\n",
    "pca=PCA(n_components=2)\n",
    "X_pca = pca.fit_transform(X_train)\n",
    "print pca.explained_variance_ratio_.sum()\n",
    "svd = TruncatedSVD(n_components=2)\n",
    "X_svd=svd.fit_transform(X_train - np.mean(X_train, axis=0))\n",
    "svd.explained_variance_ratio_.sum()\n",
    "#plt.imshow(svd.components_[0])\n",
    "plt.scatter(X_svd[:,0], X_svd[:,1],s=50, c = y_train,cmap=plt.cm.prism) \n",
    "plt.show() "
   ]
  },
  {
   "cell_type": "code",
   "execution_count": 31,
   "metadata": {
    "collapsed": false
   },
   "outputs": [
    {
     "data": {
      "text/plain": [
       "(100L, 2L)"
      ]
     },
     "execution_count": 31,
     "metadata": {},
     "output_type": "execute_result"
    }
   ],
   "source": [
    "X_svd.shape"
   ]
  },
  {
   "cell_type": "markdown",
   "metadata": {},
   "source": [
    "#### Problem 2(c) \n",
    "\n",
    "In the lecture we discussed how to use cross validation to estimate the optimal value for $k$ (the number of nearest neighbors to base the classification on). Use ***ten fold cross validation*** to estimate the optimal value for $k$ for the iris data set. \n",
    "\n",
    "**Note**: For your convenience sklearn does not only include the [KNN classifier](http://scikit-learn.org/stable/modules/generated/sklearn.neighbors.KNeighborsClassifier.html), but also a [grid search function](http://scikit-learn.org/stable/modules/generated/sklearn.grid_search.GridSearchCV.html#sklearn.grid_search.GridSearchCV). The function is called grid search, because if you have to optimize more than one parameter, it is common practice to define a range of possible values for each parameter. An exhaustive search then runs over the complete grid defined by all the possible parameter combinations. This can get very computation heavy, but luckily our KNN classifier only requires tuning of a single parameter for this problem set. "
   ]
  },
  {
   "cell_type": "code",
   "execution_count": 55,
   "metadata": {
    "collapsed": false
   },
   "outputs": [
    {
     "name": "stdout",
     "output_type": "stream",
     "text": [
      "Help on GridSearchCV in module sklearn.grid_search object:\n",
      "\n",
      "class GridSearchCV(BaseSearchCV)\n",
      " |  Exhaustive search over specified parameter values for an estimator.\n",
      " |  \n",
      " |  Important members are fit, predict.\n",
      " |  \n",
      " |  GridSearchCV implements a \"fit\" and a \"score\" method.\n",
      " |  It also implements \"predict\", \"predict_proba\", \"decision_function\",\n",
      " |  \"transform\" and \"inverse_transform\" if they are implemented in the\n",
      " |  estimator used.\n",
      " |  \n",
      " |  The parameters of the estimator used to apply these methods are optimized\n",
      " |  by cross-validated grid-search over a parameter grid.\n",
      " |  \n",
      " |  Read more in the :ref:`User Guide <grid_search>`.\n",
      " |  \n",
      " |  Parameters\n",
      " |  ----------\n",
      " |  estimator : estimator object.\n",
      " |      A object of that type is instantiated for each grid point.\n",
      " |      This is assumed to implement the scikit-learn estimator interface.\n",
      " |      Either estimator needs to provide a ``score`` function,\n",
      " |      or ``scoring`` must be passed.\n",
      " |  \n",
      " |  param_grid : dict or list of dictionaries\n",
      " |      Dictionary with parameters names (string) as keys and lists of\n",
      " |      parameter settings to try as values, or a list of such\n",
      " |      dictionaries, in which case the grids spanned by each dictionary\n",
      " |      in the list are explored. This enables searching over any sequence\n",
      " |      of parameter settings.\n",
      " |  \n",
      " |  scoring : string, callable or None, default=None\n",
      " |      A string (see model evaluation documentation) or\n",
      " |      a scorer callable object / function with signature\n",
      " |      ``scorer(estimator, X, y)``.\n",
      " |      If ``None``, the ``score`` method of the estimator is used.\n",
      " |  \n",
      " |  fit_params : dict, optional\n",
      " |      Parameters to pass to the fit method.\n",
      " |  \n",
      " |  n_jobs : int, default=1\n",
      " |      Number of jobs to run in parallel.\n",
      " |  \n",
      " |      .. versionchanged:: 0.17\n",
      " |         Upgraded to joblib 0.9.3.\n",
      " |  \n",
      " |  pre_dispatch : int, or string, optional\n",
      " |      Controls the number of jobs that get dispatched during parallel\n",
      " |      execution. Reducing this number can be useful to avoid an\n",
      " |      explosion of memory consumption when more jobs get dispatched\n",
      " |      than CPUs can process. This parameter can be:\n",
      " |  \n",
      " |          - None, in which case all the jobs are immediately\n",
      " |            created and spawned. Use this for lightweight and\n",
      " |            fast-running jobs, to avoid delays due to on-demand\n",
      " |            spawning of the jobs\n",
      " |  \n",
      " |          - An int, giving the exact number of total jobs that are\n",
      " |            spawned\n",
      " |  \n",
      " |          - A string, giving an expression as a function of n_jobs,\n",
      " |            as in '2*n_jobs'\n",
      " |  \n",
      " |  iid : boolean, default=True\n",
      " |      If True, the data is assumed to be identically distributed across\n",
      " |      the folds, and the loss minimized is the total loss per sample,\n",
      " |      and not the mean loss across the folds.\n",
      " |  \n",
      " |  cv : int, cross-validation generator or an iterable, optional\n",
      " |      Determines the cross-validation splitting strategy.\n",
      " |      Possible inputs for cv are:\n",
      " |  \n",
      " |      - None, to use the default 3-fold cross-validation,\n",
      " |      - integer, to specify the number of folds.\n",
      " |      - An object to be used as a cross-validation generator.\n",
      " |      - An iterable yielding train/test splits.\n",
      " |  \n",
      " |      For integer/None inputs, if ``y`` is binary or multiclass,\n",
      " |      :class:`StratifiedKFold` used. If the estimator is a classifier\n",
      " |      or if ``y`` is neither binary nor multiclass, :class:`KFold` is used.\n",
      " |  \n",
      " |      Refer :ref:`User Guide <cross_validation>` for the various\n",
      " |      cross-validation strategies that can be used here.\n",
      " |  \n",
      " |  refit : boolean, default=True\n",
      " |      Refit the best estimator with the entire dataset.\n",
      " |      If \"False\", it is impossible to make predictions using\n",
      " |      this GridSearchCV instance after fitting.\n",
      " |  \n",
      " |  verbose : integer\n",
      " |      Controls the verbosity: the higher, the more messages.\n",
      " |  \n",
      " |  error_score : 'raise' (default) or numeric\n",
      " |      Value to assign to the score if an error occurs in estimator fitting.\n",
      " |      If set to 'raise', the error is raised. If a numeric value is given,\n",
      " |      FitFailedWarning is raised. This parameter does not affect the refit\n",
      " |      step, which will always raise the error.\n",
      " |  \n",
      " |  \n",
      " |  Examples\n",
      " |  --------\n",
      " |  >>> from sklearn import svm, grid_search, datasets\n",
      " |  >>> iris = datasets.load_iris()\n",
      " |  >>> parameters = {'kernel':('linear', 'rbf'), 'C':[1, 10]}\n",
      " |  >>> svr = svm.SVC()\n",
      " |  >>> clf = grid_search.GridSearchCV(svr, parameters)\n",
      " |  >>> clf.fit(iris.data, iris.target)\n",
      " |  ...                             # doctest: +NORMALIZE_WHITESPACE +ELLIPSIS\n",
      " |  GridSearchCV(cv=None, error_score=...,\n",
      " |         estimator=SVC(C=1.0, cache_size=..., class_weight=..., coef0=...,\n",
      " |                       decision_function_shape=None, degree=..., gamma=...,\n",
      " |                       kernel='rbf', max_iter=-1, probability=False,\n",
      " |                       random_state=None, shrinking=True, tol=...,\n",
      " |                       verbose=False),\n",
      " |         fit_params={}, iid=..., n_jobs=1,\n",
      " |         param_grid=..., pre_dispatch=..., refit=...,\n",
      " |         scoring=..., verbose=...)\n",
      " |  \n",
      " |  \n",
      " |  Attributes\n",
      " |  ----------\n",
      " |  grid_scores_ : list of named tuples\n",
      " |      Contains scores for all parameter combinations in param_grid.\n",
      " |      Each entry corresponds to one parameter setting.\n",
      " |      Each named tuple has the attributes:\n",
      " |  \n",
      " |          * ``parameters``, a dict of parameter settings\n",
      " |          * ``mean_validation_score``, the mean score over the\n",
      " |            cross-validation folds\n",
      " |          * ``cv_validation_scores``, the list of scores for each fold\n",
      " |  \n",
      " |  best_estimator_ : estimator\n",
      " |      Estimator that was chosen by the search, i.e. estimator\n",
      " |      which gave highest score (or smallest loss if specified)\n",
      " |      on the left out data. Not available if refit=False.\n",
      " |  \n",
      " |  best_score_ : float\n",
      " |      Score of best_estimator on the left out data.\n",
      " |  \n",
      " |  best_params_ : dict\n",
      " |      Parameter setting that gave the best results on the hold out data.\n",
      " |  \n",
      " |  scorer_ : function\n",
      " |      Scorer function used on the held out data to choose the best\n",
      " |      parameters for the model.\n",
      " |  \n",
      " |  Notes\n",
      " |  ------\n",
      " |  The parameters selected are those that maximize the score of the left out\n",
      " |  data, unless an explicit score is passed in which case it is used instead.\n",
      " |  \n",
      " |  If `n_jobs` was set to a value higher than one, the data is copied for each\n",
      " |  point in the grid (and not `n_jobs` times). This is done for efficiency\n",
      " |  reasons if individual jobs take very little time, but may raise errors if\n",
      " |  the dataset is large and not enough memory is available.  A workaround in\n",
      " |  this case is to set `pre_dispatch`. Then, the memory is copied only\n",
      " |  `pre_dispatch` many times. A reasonable value for `pre_dispatch` is `2 *\n",
      " |  n_jobs`.\n",
      " |  \n",
      " |  See Also\n",
      " |  ---------\n",
      " |  :class:`ParameterGrid`:\n",
      " |      generates all the combinations of a an hyperparameter grid.\n",
      " |  \n",
      " |  :func:`sklearn.cross_validation.train_test_split`:\n",
      " |      utility function to split the data into a development set usable\n",
      " |      for fitting a GridSearchCV instance and an evaluation set for\n",
      " |      its final evaluation.\n",
      " |  \n",
      " |  :func:`sklearn.metrics.make_scorer`:\n",
      " |      Make a scorer from a performance metric or loss function.\n",
      " |  \n",
      " |  Method resolution order:\n",
      " |      GridSearchCV\n",
      " |      BaseSearchCV\n",
      " |      abc.NewBase\n",
      " |      sklearn.base.BaseEstimator\n",
      " |      sklearn.base.MetaEstimatorMixin\n",
      " |      __builtin__.object\n",
      " |  \n",
      " |  Methods defined here:\n",
      " |  \n",
      " |  __init__(self, estimator, param_grid, scoring=None, fit_params=None, n_jobs=1, iid=True, refit=True, cv=None, verbose=0, pre_dispatch='2*n_jobs', error_score='raise')\n",
      " |  \n",
      " |  fit(self, X, y=None)\n",
      " |      Run fit with all sets of parameters.\n",
      " |      \n",
      " |      Parameters\n",
      " |      ----------\n",
      " |      \n",
      " |      X : array-like, shape = [n_samples, n_features]\n",
      " |          Training vector, where n_samples is the number of samples and\n",
      " |          n_features is the number of features.\n",
      " |      \n",
      " |      y : array-like, shape = [n_samples] or [n_samples, n_output], optional\n",
      " |          Target relative to X for classification or regression;\n",
      " |          None for unsupervised learning.\n",
      " |  \n",
      " |  ----------------------------------------------------------------------\n",
      " |  Data and other attributes defined here:\n",
      " |  \n",
      " |  __abstractmethods__ = frozenset([])\n",
      " |  \n",
      " |  ----------------------------------------------------------------------\n",
      " |  Methods inherited from BaseSearchCV:\n",
      " |  \n",
      " |  decision_function(*args, **kwargs)\n",
      " |      Call decision_function on the estimator with the best found parameters.\n",
      " |      \n",
      " |      Only available if ``refit=True`` and the underlying estimator supports\n",
      " |      ``decision_function``.\n",
      " |      \n",
      " |      Parameters\n",
      " |      -----------\n",
      " |      X : indexable, length n_samples\n",
      " |          Must fulfill the input assumptions of the\n",
      " |          underlying estimator.\n",
      " |  \n",
      " |  inverse_transform(*args, **kwargs)\n",
      " |      Call inverse_transform on the estimator with the best found parameters.\n",
      " |      \n",
      " |      Only available if the underlying estimator implements ``inverse_transform`` and\n",
      " |      ``refit=True``.\n",
      " |      \n",
      " |      Parameters\n",
      " |      -----------\n",
      " |      Xt : indexable, length n_samples\n",
      " |          Must fulfill the input assumptions of the\n",
      " |          underlying estimator.\n",
      " |  \n",
      " |  predict(*args, **kwargs)\n",
      " |      Call predict on the estimator with the best found parameters.\n",
      " |      \n",
      " |      Only available if ``refit=True`` and the underlying estimator supports\n",
      " |      ``predict``.\n",
      " |      \n",
      " |      Parameters\n",
      " |      -----------\n",
      " |      X : indexable, length n_samples\n",
      " |          Must fulfill the input assumptions of the\n",
      " |          underlying estimator.\n",
      " |  \n",
      " |  predict_log_proba(*args, **kwargs)\n",
      " |      Call predict_log_proba on the estimator with the best found parameters.\n",
      " |      \n",
      " |      Only available if ``refit=True`` and the underlying estimator supports\n",
      " |      ``predict_log_proba``.\n",
      " |      \n",
      " |      Parameters\n",
      " |      -----------\n",
      " |      X : indexable, length n_samples\n",
      " |          Must fulfill the input assumptions of the\n",
      " |          underlying estimator.\n",
      " |  \n",
      " |  predict_proba(*args, **kwargs)\n",
      " |      Call predict_proba on the estimator with the best found parameters.\n",
      " |      \n",
      " |      Only available if ``refit=True`` and the underlying estimator supports\n",
      " |      ``predict_proba``.\n",
      " |      \n",
      " |      Parameters\n",
      " |      -----------\n",
      " |      X : indexable, length n_samples\n",
      " |          Must fulfill the input assumptions of the\n",
      " |          underlying estimator.\n",
      " |  \n",
      " |  score(self, X, y=None)\n",
      " |      Returns the score on the given data, if the estimator has been refit.\n",
      " |      \n",
      " |      This uses the score defined by ``scoring`` where provided, and the\n",
      " |      ``best_estimator_.score`` method otherwise.\n",
      " |      \n",
      " |      Parameters\n",
      " |      ----------\n",
      " |      X : array-like, shape = [n_samples, n_features]\n",
      " |          Input data, where n_samples is the number of samples and\n",
      " |          n_features is the number of features.\n",
      " |      \n",
      " |      y : array-like, shape = [n_samples] or [n_samples, n_output], optional\n",
      " |          Target relative to X for classification or regression;\n",
      " |          None for unsupervised learning.\n",
      " |      \n",
      " |      Returns\n",
      " |      -------\n",
      " |      score : float\n",
      " |      \n",
      " |      Notes\n",
      " |      -----\n",
      " |       * The long-standing behavior of this method changed in version 0.16.\n",
      " |       * It no longer uses the metric provided by ``estimator.score`` if the\n",
      " |         ``scoring`` parameter was set when fitting.\n",
      " |  \n",
      " |  transform(*args, **kwargs)\n",
      " |      Call transform on the estimator with the best found parameters.\n",
      " |      \n",
      " |      Only available if the underlying estimator supports ``transform`` and\n",
      " |      ``refit=True``.\n",
      " |      \n",
      " |      Parameters\n",
      " |      -----------\n",
      " |      X : indexable, length n_samples\n",
      " |          Must fulfill the input assumptions of the\n",
      " |          underlying estimator.\n",
      " |  \n",
      " |  ----------------------------------------------------------------------\n",
      " |  Methods inherited from sklearn.base.BaseEstimator:\n",
      " |  \n",
      " |  __repr__(self)\n",
      " |  \n",
      " |  get_params(self, deep=True)\n",
      " |      Get parameters for this estimator.\n",
      " |      \n",
      " |      Parameters\n",
      " |      ----------\n",
      " |      deep: boolean, optional\n",
      " |          If True, will return the parameters for this estimator and\n",
      " |          contained subobjects that are estimators.\n",
      " |      \n",
      " |      Returns\n",
      " |      -------\n",
      " |      params : mapping of string to any\n",
      " |          Parameter names mapped to their values.\n",
      " |  \n",
      " |  set_params(self, **params)\n",
      " |      Set the parameters of this estimator.\n",
      " |      \n",
      " |      The method works on simple estimators as well as on nested objects\n",
      " |      (such as pipelines). The former have parameters of the form\n",
      " |      ``<component>__<parameter>`` so that it's possible to update each\n",
      " |      component of a nested object.\n",
      " |      \n",
      " |      Returns\n",
      " |      -------\n",
      " |      self\n",
      " |  \n",
      " |  ----------------------------------------------------------------------\n",
      " |  Data descriptors inherited from sklearn.base.BaseEstimator:\n",
      " |  \n",
      " |  __dict__\n",
      " |      dictionary for instance variables (if defined)\n",
      " |  \n",
      " |  __weakref__\n",
      " |      list of weak references to the object (if defined)\n",
      "\n"
     ]
    }
   ],
   "source": [
    "### Your code here ###\n",
    "from sklearn.grid_search import GridSearchCV\n",
    "from sklearn.neighbors import KNeighborsClassifier\n",
    "knn = KNeighborsClassifier()\n",
    "k=np.arange(1,51,1)\n",
    "params = {'n_neighbors':k}\n",
    "gs = GridSearchCV(knn, param_grid=params, cv=10)\n",
    "gs.fit(X_train,y_train)\n",
    "gs.best_params_, gs.best_estimator_, gs.best_score_, gs.grid_scores_\n",
    "#print gs.iter().cv_validation_scores_\n",
    "help(gs)"
   ]
  },
  {
   "cell_type": "code",
   "execution_count": 33,
   "metadata": {
    "collapsed": false
   },
   "outputs": [
    {
     "data": {
      "text/plain": [
       "2"
      ]
     },
     "execution_count": 33,
     "metadata": {},
     "output_type": "execute_result"
    }
   ],
   "source": []
  },
  {
   "cell_type": "code",
   "execution_count": null,
   "metadata": {
    "collapsed": false
   },
   "outputs": [],
   "source": []
  },
  {
   "cell_type": "code",
   "execution_count": 66,
   "metadata": {
    "collapsed": false
   },
   "outputs": [
    {
     "name": "stdout",
     "output_type": "stream",
     "text": [
      "True\n",
      "0.942525252525\n",
      "True\n",
      "0.935101010101\n",
      "True\n",
      "0.943282828283\n",
      "True\n",
      "0.951262626263\n",
      "True\n",
      "0.951616161616\n",
      "True\n",
      "0.934191919192\n",
      "True\n",
      "0.952525252525\n",
      "True\n",
      "0.944191919192\n",
      "True\n",
      "0.944191919192\n",
      "True\n",
      "0.944191919192\n",
      "True\n",
      "0.942525252525\n",
      "True\n",
      "0.934191919192\n",
      "True\n",
      "0.934191919192\n",
      "True\n",
      "0.944191919192\n",
      "True\n",
      "0.942525252525\n",
      "True\n",
      "0.934191919192\n",
      "True\n",
      "0.942525252525\n",
      "True\n",
      "0.932525252525\n",
      "True\n",
      "0.942525252525\n",
      "True\n",
      "0.933434343434\n",
      "True\n",
      "0.942525252525\n",
      "True\n",
      "0.922323232323\n",
      "True\n",
      "0.931414141414\n",
      "True\n",
      "0.933080808081\n",
      "True\n",
      "0.950505050505\n",
      "True\n",
      "0.932323232323\n",
      "True\n",
      "0.912121212121\n",
      "True\n",
      "0.900101010101\n",
      "True\n",
      "0.909191919192\n",
      "True\n",
      "0.900101010101\n",
      "True\n",
      "0.89101010101\n",
      "True\n",
      "0.911212121212\n",
      "True\n",
      "0.900101010101\n",
      "True\n",
      "0.900101010101\n",
      "True\n",
      "0.909191919192\n",
      "True\n",
      "0.911212121212\n",
      "True\n",
      "0.900101010101\n",
      "True\n",
      "0.902878787879\n",
      "True\n",
      "0.891767676768\n",
      "True\n",
      "0.891767676768\n",
      "True\n",
      "0.902878787879\n",
      "True\n",
      "0.891767676768\n",
      "True\n",
      "0.891767676768\n",
      "True\n",
      "0.882676767677\n",
      "True\n",
      "0.882676767677\n",
      "True\n",
      "0.882676767677\n",
      "True\n",
      "0.882676767677\n",
      "True\n",
      "0.882676767677\n",
      "True\n",
      "0.871565656566\n",
      "True\n",
      "0.882676767677\n"
     ]
    },
    {
     "data": {
      "text/plain": [
       "(0.93, 0.96)"
      ]
     },
     "execution_count": 66,
     "metadata": {},
     "output_type": "execute_result"
    },
    {
     "data": {
      "image/png": "[encoded data removed]",
      "text/plain": [
       "<matplotlib.figure.Figure at 0x11109438>"
      ]
     },
     "metadata": {},
     "output_type": "display_data"
    }
   ],
   "source": []
  },
  {
   "cell_type": "markdown",
   "metadata": {},
   "source": [
    "#### Problem 2(d)\n",
    "\n",
    "Visualize the result by plotting the score results versus values for $k$. "
   ]
  },
  {
   "cell_type": "code",
   "execution_count": 86,
   "metadata": {
    "collapsed": false
   },
   "outputs": [
    {
     "data": {
      "text/plain": [
       "(0.93, 0.96)"
      ]
     },
     "execution_count": 86,
     "metadata": {},
     "output_type": "execute_result"
    },
    {
     "data": {
      "image/png": "[encoded data removed]",
      "text/plain": [
       "<matplotlib.figure.Figure at 0x11b7f0b8>"
      ]
     },
     "metadata": {},
     "output_type": "display_data"
    }
   ],
   "source": [
    "### Your code here ###\n",
    "k=np.arange(1,50,1)\n",
    "for score in gs.grid_scores_:\n",
    "    plt.scatter(score[0].get('n_neighbors'),score.cv_validation_scores.mean())\n",
    "    #print (score[2]==score.cv_validation_scores).all()\n",
    "    #print np.mean(score[2])\n",
    "plt.xlim([0,10])\n",
    "plt.ylim([0.93,0.96])\n",
    "# http://stackoverflow.com/questions/35706433/evaluating-mean-stddev-of-cross-validation-scores-in-scikit-learn-gridsearchcv?rq=1\n",
    "#help(gs.grid_scores_[0])\n",
    "\n"
   ]
  },
  {
   "cell_type": "code",
   "execution_count": null,
   "metadata": {
    "collapsed": true
   },
   "outputs": [],
   "source": [
    "KNeighborsClassifier?"
   ]
  },
  {
   "cell_type": "markdown",
   "metadata": {},
   "source": [
    "Verify that the grid search has indeed chosen the right parameter value for $k$."
   ]
  },
  {
   "cell_type": "code",
   "execution_count": null,
   "metadata": {
    "collapsed": false
   },
   "outputs": [],
   "source": [
    "### Your code here ###\n",
    "# http://stackoverflow.com/questions/35706433/evaluating-mean-stddev-of-cross-validation-scores-in-scikit-learn-gridsearchcv?rq=1\n"
   ]
  },
  {
   "cell_type": "markdown",
   "metadata": {},
   "source": [
    "#### Problem 2(e)\n",
    "\n",
    "Test the performance of our tuned KNN classifier on the test set."
   ]
  },
  {
   "cell_type": "code",
   "execution_count": 87,
   "metadata": {
    "collapsed": false
   },
   "outputs": [
    {
     "data": {
      "text/plain": [
       "0.97999999999999998"
      ]
     },
     "execution_count": 87,
     "metadata": {},
     "output_type": "execute_result"
    }
   ],
   "source": [
    "### Your code here ###\n",
    "sklearn.metrics.accuracy_score(y_test, gs.predict(X_test))\n"
   ]
  },
  {
   "cell_type": "markdown",
   "metadata": {},
   "source": [
    "## Discussion for Problem 2\n",
    "\n",
    "*Write a brief discussion of your conclusions to the questions and tasks above in 100 words or less.*\n",
    "\n",
    "---"
   ]
  },
  {
   "cell_type": "markdown",
   "metadata": {},
   "source": [
    "# Problem 3: The Curse and Blessing of Higher Dimensions\n",
    "\n",
    "In this problem we will investigate the influence of higher dimensional spaces on the classification. The data set is again one of the standard data sets from sklearn. The [digits data set](http://scikit-learn.org/stable/modules/generated/sklearn.datasets.load_digits.html) is similar to the MNIST data set discussed in the lecture. The main difference is, that each digit is represented by an 8x8 pixel image patch, which is considerably smaller than the 28x28 pixels from MNIST. In addition, the gray values are restricted to 16 different values (4 bit), instead of 256 (8 bit) for MNIST. \n",
    "\n",
    "First we again load our data set."
   ]
  },
  {
   "cell_type": "code",
   "execution_count": 88,
   "metadata": {
    "collapsed": false
   },
   "outputs": [
    {
     "name": "stdout",
     "output_type": "stream",
     "text": [
      "(1797L, 64L) (1797L,)\n"
     ]
    }
   ],
   "source": [
    "digits = sklearn.datasets.load_digits()\n",
    "\n",
    "X = digits.data  \n",
    "Y = digits.target\n",
    "\n",
    "print X.shape, Y.shape"
   ]
  },
  {
   "cell_type": "markdown",
   "metadata": {},
   "source": [
    "#### Problem 3(a) \n",
    "\n",
    "Start with the same steps as in Problem 2. Split the data into train and test set. Use 33% of the samples as test data. Print the dimensions of all the train and test data sets you created. "
   ]
  },
  {
   "cell_type": "code",
   "execution_count": 90,
   "metadata": {
    "collapsed": false
   },
   "outputs": [
    {
     "name": "stdout",
     "output_type": "stream",
     "text": [
      "(1203L, 64L) (1203L,)\n"
     ]
    }
   ],
   "source": [
    "### Your code here ###\n",
    "X_train, X_test, y_train, y_test = train_test_split( digits.data, digits.target, test_size=0.33, random_state=42)\n",
    "print X_train.shape, y_train.shape"
   ]
  },
  {
   "cell_type": "markdown",
   "metadata": {},
   "source": [
    "#### Problem 3(b) \n",
    "\n",
    "Similar to Problem 2(b), create a scatter plot of the projections to the first two PCs.  Use the colors on the scatter plot to represent the different classes in the target data. How well can we separate the classes?\n",
    "\n",
    "**Hint**: Use a `Colormap` in matplotlib to represent the diferent classes in the target data. "
   ]
  },
  {
   "cell_type": "code",
   "execution_count": 91,
   "metadata": {
    "collapsed": false
   },
   "outputs": [
    {
     "name": "stdout",
     "output_type": "stream",
     "text": [
      "0.286170579689\n"
     ]
    },
    {
     "data": {
      "image/png": "[encoded data removed]",
      "text/plain": [
       "<matplotlib.figure.Figure at 0x11b7f8d0>"
      ]
     },
     "metadata": {},
     "output_type": "display_data"
    }
   ],
   "source": [
    "### Your code here ###\n",
    "from sklearn.decomposition import PCA, TruncatedSVD\n",
    "\n",
    "pca=PCA(n_components=2)\n",
    "X_pca = pca.fit_transform(X_train)\n",
    "print pca.explained_variance_ratio_.sum()\n",
    "svd = TruncatedSVD(n_components=2)\n",
    "X_svd=svd.fit_transform(X_train - np.mean(X_train, axis=0))\n",
    "svd.explained_variance_ratio_.sum()\n",
    "#plt.imshow(svd.components_[0])\n",
    "plt.scatter(X_svd[:,0], X_svd[:,1],s=50, c = y_train,cmap=plt.cm.prism) \n",
    "plt.show() "
   ]
  },
  {
   "cell_type": "markdown",
   "metadata": {},
   "source": [
    "Create individual scatter plots using only two classes at a time to explore which classes are most difficult to distinguish in terms of class separability.  You do not need to create scatter plots for all pairwise comparisons, but at least show one. "
   ]
  },
  {
   "cell_type": "code",
   "execution_count": 94,
   "metadata": {
    "collapsed": false
   },
   "outputs": [
    {
     "data": {
      "text/plain": [
       "<matplotlib.collections.PathCollection at 0x1105f470>"
      ]
     },
     "execution_count": 94,
     "metadata": {},
     "output_type": "execute_result"
    },
    {
     "data": {
      "image/png": "[encoded data removed]",
      "text/plain": [
       "<matplotlib.figure.Figure at 0x110fdb00>"
      ]
     },
     "metadata": {},
     "output_type": "display_data"
    }
   ],
   "source": [
    "### Your code here ###\n",
    "plt.scatter(X_svd[(y_train==1)|(y_train==2),0], X_svd[(y_train==1)|(y_train==2),1],s=50, c = y_train[(y_train==1)|(y_train==2)],cmap=plt.cm.prism) \n"
   ]
  },
  {
   "cell_type": "code",
   "execution_count": 95,
   "metadata": {
    "collapsed": false
   },
   "outputs": [
    {
     "data": {
      "text/plain": [
       "<matplotlib.collections.PathCollection at 0x11890f98>"
      ]
     },
     "execution_count": 95,
     "metadata": {},
     "output_type": "execute_result"
    },
    {
     "data": {
      "image/png": "[encoded data removed]",
      "text/plain": [
       "<matplotlib.figure.Figure at 0x11b60240>"
      ]
     },
     "metadata": {},
     "output_type": "display_data"
    }
   ],
   "source": [
    "plt.scatter(X_svd[(y_train==8)|(y_train==9),0], X_svd[(y_train==8)|(y_train==9),1],s=50, c = y_train[(y_train==8)|(y_train==9)],cmap=plt.cm.prism) \n"
   ]
  },
  {
   "cell_type": "code",
   "execution_count": 96,
   "metadata": {
    "collapsed": false
   },
   "outputs": [
    {
     "data": {
      "text/plain": [
       "<matplotlib.collections.PathCollection at 0x10e677f0>"
      ]
     },
     "execution_count": 96,
     "metadata": {},
     "output_type": "execute_result"
    },
    {
     "data": {
      "image/png": "[encoded data removed]",
      "text/plain": [
       "<matplotlib.figure.Figure at 0x10eff278>"
      ]
     },
     "metadata": {},
     "output_type": "display_data"
    }
   ],
   "source": [
    "plt.scatter(X_svd[(y_train==5)|(y_train==9),0], X_svd[(y_train==5)|(y_train==9),1],s=50, c = y_train[(y_train==5)|(y_train==9)],cmap=plt.cm.prism) \n"
   ]
  },
  {
   "cell_type": "code",
   "execution_count": 97,
   "metadata": {
    "collapsed": false
   },
   "outputs": [
    {
     "data": {
      "text/plain": [
       "<matplotlib.collections.PathCollection at 0x110d7828>"
      ]
     },
     "execution_count": 97,
     "metadata": {},
     "output_type": "execute_result"
    },
    {
     "data": {
      "image/png": "[encoded data removed]",
      "text/plain": [
       "<matplotlib.figure.Figure at 0x10e6db00>"
      ]
     },
     "metadata": {},
     "output_type": "display_data"
    }
   ],
   "source": [
    "plt.scatter(X_svd[(y_train==1)|(y_train==9),0], X_svd[(y_train==1)|(y_train==9),1],s=50, c = y_train[(y_train==1)|(y_train==9)],cmap=plt.cm.prism) \n"
   ]
  },
  {
   "cell_type": "markdown",
   "metadata": {},
   "source": [
    "Give a brief interpretation of the scatter plot. Which classes look like hard to distinguish? Do both feature dimensions contribute to the class separability? "
   ]
  },
  {
   "cell_type": "markdown",
   "metadata": {},
   "source": [
    "** Your answer here: **"
   ]
  },
  {
   "cell_type": "markdown",
   "metadata": {},
   "source": [
    "#### Problem 3(c) \n",
    "\n",
    "Write a **ten-fold cross validation** to estimate the optimal value for $k$ for the digits data set. *However*, this time we are interested in the influence of the number of dimensions we project the data down as well. \n",
    "\n",
    "Extend the cross validation as done for the iris data set, to optimize $k$ for different dimensional projections of the data. Create a boxplot showing test scores for the optimal $k$ for each $d$-dimensional subspace with $d$ ranging from one to ten. The plot should have the scores on the y-axis and the different dimensions $d$ on the x-axis. You can use your favorite plot function for the boxplots. [Seaborn](http://web.stanford.edu/~mwaskom/software/seaborn/index.html) is worth having a look at though. It is a great library for statistical visualization and of course also comes with a [`boxplot`](http://web.stanford.edu/~mwaskom/software/seaborn/generated/seaborn.boxplot.html) function that has simple means for changing the labels on the x-axis."
   ]
  },
  {
   "cell_type": "code",
   "execution_count": 116,
   "metadata": {
    "collapsed": false
   },
   "outputs": [
    {
     "data": {
      "text/plain": [
       "({'n_neighbors': 7},\n",
       " KNeighborsClassifier(algorithm='auto', leaf_size=30, metric='minkowski',\n",
       "            metric_params=None, n_jobs=1, n_neighbors=7, p=2,\n",
       "            weights='uniform'),\n",
       " 0.62842892768079806,\n",
       " [mean: 0.55611, std: 0.04245, params: {'n_neighbors': 1},\n",
       "  mean: 0.55943, std: 0.03524, params: {'n_neighbors': 2},\n",
       "  mean: 0.57938, std: 0.03528, params: {'n_neighbors': 3},\n",
       "  mean: 0.60349, std: 0.03363, params: {'n_neighbors': 4},\n",
       "  mean: 0.61513, std: 0.02666, params: {'n_neighbors': 5},\n",
       "  mean: 0.62178, std: 0.03549, params: {'n_neighbors': 6},\n",
       "  mean: 0.62843, std: 0.03529, params: {'n_neighbors': 7},\n",
       "  mean: 0.62843, std: 0.02767, params: {'n_neighbors': 8},\n",
       "  mean: 0.62012, std: 0.03271, params: {'n_neighbors': 9},\n",
       "  mean: 0.61845, std: 0.03446, params: {'n_neighbors': 10}])"
      ]
     },
     "execution_count": 116,
     "metadata": {},
     "output_type": "execute_result"
    }
   ],
   "source": [
    "### Your cross validation and evaluation code here ###\n",
    "from sklearn.grid_search import GridSearchCV\n",
    "from sklearn.neighbors import KNeighborsClassifier\n",
    "knn = KNeighborsClassifier()\n",
    "k=np.arange(1,11,1)\n",
    "params = {'n_neighbors':k}\n",
    "gs = GridSearchCV(knn, param_grid=params, cv=10)\n",
    "gs.fit(X_svd,y_train)\n",
    "gs.best_params_, gs.best_estimator_, gs.best_score_, gs.grid_scores_"
   ]
  },
  {
   "cell_type": "code",
   "execution_count": 117,
   "metadata": {
    "collapsed": false
   },
   "outputs": [
    {
     "data": {
      "text/plain": [
       "<matplotlib.collections.PathCollection at 0x165462e8>"
      ]
     },
     "execution_count": 117,
     "metadata": {},
     "output_type": "execute_result"
    },
    {
     "data": {
      "image/png": "[encoded data removed]",
      "text/plain": [
       "<matplotlib.figure.Figure at 0x16546320>"
      ]
     },
     "metadata": {},
     "output_type": "display_data"
    }
   ],
   "source": [
    "### Your boxplot code here ### \n",
    "grid_scores = gs.grid_scores_\n",
    "scores = [x.cv_validation_scores  for x in grid_scores]\n",
    "means = np.mean(scores, axis=1)\n",
    "plt.boxplot(scores)\n",
    "plt.scatter(k,means, c='k', zorder=2)\n"
   ]
  },
  {
   "cell_type": "code",
   "execution_count": 106,
   "metadata": {
    "collapsed": false
   },
   "outputs": [],
   "source": [
    "#help(grid_scores[0])"
   ]
  },
  {
   "cell_type": "markdown",
   "metadata": {},
   "source": [
    "Write a short interpretation of the generated plot, answering the following questions:\n",
    "\n",
    "* What trend do you see in the plot for increasing dimensions?\n",
    "\n",
    "* Why do you think this is happening?"
   ]
  },
  {
   "cell_type": "markdown",
   "metadata": {},
   "source": [
    "** Your answer here: **"
   ]
  },
  {
   "cell_type": "markdown",
   "metadata": {},
   "source": [
    "#### Problem 3(d) \n",
    "\n",
    "**For AC209 Students**: Change the boxplot we generated above to also show the optimal value for $k$ chosen by the cross validation grid search. "
   ]
  },
  {
   "cell_type": "code",
   "execution_count": null,
   "metadata": {
    "collapsed": false
   },
   "outputs": [],
   "source": [
    "### Your code here ### "
   ]
  },
  {
   "cell_type": "markdown",
   "metadata": {},
   "source": [
    "Write a short interpretation answering the following questions:\n",
    "\n",
    "* Which trend do you observe for the optimal value of $k$?\n",
    "\n",
    "* Why do you think this is happening?"
   ]
  },
  {
   "cell_type": "markdown",
   "metadata": {},
   "source": [
    "** Your answer here: **"
   ]
  },
  {
   "cell_type": "markdown",
   "metadata": {},
   "source": [
    "## Discussion for Problem 3\n",
    "\n",
    "*Write a brief discussion of your conclusions to the questions and tasks above in 100 words or less.*\n",
    "\n",
    "---"
   ]
  },
  {
   "cell_type": "markdown",
   "metadata": {},
   "source": [
    "# Submission Instructions\n",
    "\n",
    "To submit your homework, create a folder named **lastname_firstinitial_hw#** and place your IPython notebooks, data files, and any other files in this folder. Your IPython Notebooks should be completely executed with the results visible in the notebook. We should not have to run any code.  Compress the folder (please use .zip compression) and submit to the CS109 dropbox in the appropriate folder. *If we cannot access your work because these directions are not followed correctly, we will not grade your work.*\n"
   ]
  },
  {
   "cell_type": "code",
   "execution_count": null,
   "metadata": {
    "collapsed": false
   },
   "outputs": [],
   "source": []
  }
 ],
 "metadata": {
  "anaconda-cloud": {},
  "kernelspec": {
   "display_name": "Python [Root]",
   "language": "python",
   "name": "Python [Root]"
  },
  "language_info": {
   "codemirror_mode": {
    "name": "ipython",
    "version": 2
   },
   "file_extension": ".py",
   "mimetype": "text/x-python",
   "name": "python",
   "nbconvert_exporter": "python",
   "pygments_lexer": "ipython2",
   "version": "2.7.12"
  }
 },
 "nbformat": 4,
 "nbformat_minor": 0
}
