{
 "cells": [
  {
   "cell_type": "markdown",
   "metadata": {},
   "source": [
    "# Homework 2: More Exploratory Data Analysis\n",
    "## Gene Expression Data and Election Polls \n",
    "\n",
    "Due: Thursday, October 2, 2014 11:59 PM\n",
    "\n",
    "<a href=https://raw.githubusercontent.com/cs109/2014/master/homework/HW2.ipynb download=HW2.ipynb> Download this assignment</a>\n",
    "\n",
    "#### Submission Instructions\n",
    "To submit your homework, create a folder named lastname_firstinitial_hw# and place your IPython notebooks, data files, and any other files in this folder. Your IPython Notebooks should be completely executed with the results visible in the notebook. We should not have to run any code. Compress the folder (please use .zip compression) and submit to the CS109 dropbox in the appropriate folder. If we cannot access your work because these directions are not followed correctly, we will not grade your work.\n",
    "\n",
    "\n",
    "---"
   ]
  },
  {
   "cell_type": "markdown",
   "metadata": {},
   "source": [
    "## Introduction\n",
    "\n",
    "John Tukey wrote in [Exploratory Data Analysis, 1977](http://www.amazon.com/Exploratory-Data-Analysis-Wilder-Tukey/dp/0201076160/ref=pd_bbs_sr_2/103-4466654-5303007?ie=UTF8&s=books&qid=1189739816&sr=8-2): \"The greatest value of a picture is when it forces us to notice what we never expected to see.\" In this assignment we will continue using our exploratory data analysis tools, but apply it to new sets of data: [gene expression](http://en.wikipedia.org/wiki/Gene_expression) and polls from the [2012 Presidental Election](http://en.wikipedia.org/wiki/United_States_presidential_election,_2012) and from the [2014 Senate Midterm Elections](http://en.wikipedia.org/wiki/United_States_Senate_elections,_2014).   \n",
    "\n",
    "**First**: You will use exploratory data analysis and apply the [singular value decomposition](http://en.wikipedia.org/wiki/Singular_value_decomposition) (SVD) to a gene expression data matrix to determine if the the date that the gene expression samples are processed has large effect on the variability seen in the data.  \n",
    "\n",
    "**Second**: You will use the polls from the 2012 Presidential Elections to determine (1) Is there a pollster bias in presidential election polls? and (2) Is the average of polls better than just one poll?\n",
    "\n",
    "**Finally**: You will use the [HuffPost Pollster API](http://elections.huffingtonpost.com/pollster/api) to extract the polls for the current 2014 Senate Midterm Elections and provide a preliminary prediction of the result of each state.\n",
    "\n",
    "#### Data\n",
    "\n",
    "We will use the following data sets: \n",
    "\n",
    "1. A gene expression data set called `exprs_GSE5859.csv` and sample annotation table called `sampleinfo_GSE5859.csv` which are both available on Github in the 2014_data repository: [expression data set](https://github.com/cs109/2014_data/blob/master/exprs_GSE5859.csv) and [sample annotation table](https://github.com/cs109/2014_data/blob/master/sampleinfo_GSE5859.csv).  \n",
    "\n",
    "2. Polls from the [2012 Presidential Election: Barack Obama vs Mitt Romney](http://elections.huffingtonpost.com/pollster/2012-general-election-romney-vs-obama). The polls we will use are from the [Huffington Post Pollster](http://elections.huffingtonpost.com/pollster).  \n",
    "\n",
    "3. Polls from the [2014 Senate Midterm Elections](http://elections.huffingtonpost.com/pollster) from the [HuffPost Pollster API](http://elections.huffingtonpost.com/pollster/api). \n",
    "\n",
    "---"
   ]
  },
  {
   "cell_type": "markdown",
   "metadata": {},
   "source": [
    "## Load Python modules"
   ]
  },
  {
   "cell_type": "code",
   "execution_count": 3,
   "metadata": {
    "collapsed": false
   },
   "outputs": [],
   "source": [
    "# special IPython command to prepare the notebook for matplotlib\n",
    "%matplotlib inline \n",
    "\n",
    "import requests \n",
    "from StringIO import StringIO\n",
    "import numpy as np\n",
    "import pandas as pd # pandas\n",
    "import matplotlib.pyplot as plt # module for plotting \n",
    "import datetime as dt # module for manipulating dates and times\n",
    "import numpy.linalg as lin # module for performing linear algebra operations"
   ]
  },
  {
   "cell_type": "markdown",
   "metadata": {},
   "source": [
    "## Problem 1\n",
    "\n",
    "In this problem we will be using a [gene expression](http://en.wikipedia.org/wiki/Gene_expression) data set obtained from a [microarray](http://en.wikipedia.org/wiki/DNA_microarray) experiement [Read more about the specific experiment here](http://www.ncbi.nlm.nih.gov/geo/query/acc.cgi?acc=GSE5859).  There are two data sets we will use:  \n",
    "\n",
    "1. The gene expression intensities where the rows represent the features on the microarray (e.g. genes) and the columsns represent the different microarray samples.  \n",
    "\n",
    "2. A table that contains the information about each of the samples (columns in the gene expression data set) such as the sex, the age, the treatment status, the date the samples were processed.  Each row represents one sample. "
   ]
  },
  {
   "cell_type": "markdown",
   "metadata": {},
   "source": [
    "#### Problem 1(a) \n",
    "Read in the two files from Github: [exprs_GSE5859.csv](https://github.com/cs109/2014_data/blob/master/exprs_GSE5859.csv) and [sampleinfo_GSE5859.csv](https://github.com/cs109/2014_data/blob/master/sampleinfo_GSE5859.csv) as pandas DataFrames called `exprs` and `sampleinfo`. Use the gene names as the index of the `exprs` DataFrame."
   ]
  },
  {
   "cell_type": "code",
   "execution_count": 3,
   "metadata": {
    "collapsed": false
   },
   "outputs": [
    {
     "data": {
      "text/html": [
       "<div>\n",
       "<table border=\"1\" class=\"dataframe\">\n",
       "  <thead>\n",
       "    <tr style=\"text-align: right;\">\n",
       "      <th></th>\n",
       "      <th>Unnamed: 0</th>\n",
       "      <th>GSM25581.CEL.gz</th>\n",
       "      <th>GSM25681.CEL.gz</th>\n",
       "      <th>GSM136524.CEL.gz</th>\n",
       "      <th>GSM136707.CEL.gz</th>\n",
       "      <th>GSM25553.CEL.gz</th>\n",
       "      <th>GSM136676.CEL.gz</th>\n",
       "      <th>GSM136711.CEL.gz</th>\n",
       "      <th>GSM136542.CEL.gz</th>\n",
       "      <th>GSM136535.CEL.gz</th>\n",
       "      <th>...</th>\n",
       "      <th>GSM48650.CEL.gz</th>\n",
       "      <th>GSM25687.CEL.gz</th>\n",
       "      <th>GSM25685.CEL.gz</th>\n",
       "      <th>GSM136549.CEL.gz</th>\n",
       "      <th>GSM25427.CEL.gz</th>\n",
       "      <th>GSM25525.CEL.gz</th>\n",
       "      <th>GSM25349.CEL.gz</th>\n",
       "      <th>GSM136727.CEL.gz</th>\n",
       "      <th>GSM25626.CEL.gz</th>\n",
       "      <th>GSM136725.CEL.gz</th>\n",
       "    </tr>\n",
       "  </thead>\n",
       "  <tbody>\n",
       "    <tr>\n",
       "      <th>0</th>\n",
       "      <td>1007_s_at</td>\n",
       "      <td>6.333951</td>\n",
       "      <td>5.736190</td>\n",
       "      <td>6.156754</td>\n",
       "      <td>6.513010</td>\n",
       "      <td>6.061013</td>\n",
       "      <td>6.506493</td>\n",
       "      <td>6.863426</td>\n",
       "      <td>6.369645</td>\n",
       "      <td>6.646321</td>\n",
       "      <td>...</td>\n",
       "      <td>7.082636</td>\n",
       "      <td>6.315866</td>\n",
       "      <td>7.010165</td>\n",
       "      <td>6.460107</td>\n",
       "      <td>6.122355</td>\n",
       "      <td>6.330314</td>\n",
       "      <td>6.627014</td>\n",
       "      <td>6.133068</td>\n",
       "      <td>6.419444</td>\n",
       "      <td>6.488579</td>\n",
       "    </tr>\n",
       "    <tr>\n",
       "      <th>1</th>\n",
       "      <td>1053_at</td>\n",
       "      <td>7.255622</td>\n",
       "      <td>7.399993</td>\n",
       "      <td>7.491967</td>\n",
       "      <td>7.006123</td>\n",
       "      <td>7.250995</td>\n",
       "      <td>7.082581</td>\n",
       "      <td>6.842236</td>\n",
       "      <td>7.048487</td>\n",
       "      <td>7.042361</td>\n",
       "      <td>...</td>\n",
       "      <td>6.599718</td>\n",
       "      <td>7.412731</td>\n",
       "      <td>7.274429</td>\n",
       "      <td>6.928642</td>\n",
       "      <td>7.168782</td>\n",
       "      <td>7.235648</td>\n",
       "      <td>6.939184</td>\n",
       "      <td>7.280781</td>\n",
       "      <td>6.351776</td>\n",
       "      <td>7.517410</td>\n",
       "    </tr>\n",
       "    <tr>\n",
       "      <th>2</th>\n",
       "      <td>117_at</td>\n",
       "      <td>5.760106</td>\n",
       "      <td>4.825169</td>\n",
       "      <td>5.039387</td>\n",
       "      <td>5.414160</td>\n",
       "      <td>5.205697</td>\n",
       "      <td>5.300078</td>\n",
       "      <td>5.099337</td>\n",
       "      <td>5.156459</td>\n",
       "      <td>5.736109</td>\n",
       "      <td>...</td>\n",
       "      <td>6.231457</td>\n",
       "      <td>5.240717</td>\n",
       "      <td>5.275062</td>\n",
       "      <td>5.759827</td>\n",
       "      <td>5.409720</td>\n",
       "      <td>5.491938</td>\n",
       "      <td>5.113570</td>\n",
       "      <td>5.401876</td>\n",
       "      <td>5.537605</td>\n",
       "      <td>5.247190</td>\n",
       "    </tr>\n",
       "    <tr>\n",
       "      <th>3</th>\n",
       "      <td>121_at</td>\n",
       "      <td>6.935451</td>\n",
       "      <td>7.025210</td>\n",
       "      <td>7.543667</td>\n",
       "      <td>7.959781</td>\n",
       "      <td>7.223323</td>\n",
       "      <td>8.006816</td>\n",
       "      <td>8.102504</td>\n",
       "      <td>7.434617</td>\n",
       "      <td>7.532321</td>\n",
       "      <td>...</td>\n",
       "      <td>8.215096</td>\n",
       "      <td>7.677593</td>\n",
       "      <td>7.923624</td>\n",
       "      <td>7.219401</td>\n",
       "      <td>7.432338</td>\n",
       "      <td>6.785174</td>\n",
       "      <td>7.833862</td>\n",
       "      <td>7.607461</td>\n",
       "      <td>7.302935</td>\n",
       "      <td>7.331864</td>\n",
       "    </tr>\n",
       "    <tr>\n",
       "      <th>4</th>\n",
       "      <td>1255_g_at</td>\n",
       "      <td>3.597872</td>\n",
       "      <td>3.108801</td>\n",
       "      <td>3.128269</td>\n",
       "      <td>3.364947</td>\n",
       "      <td>3.125909</td>\n",
       "      <td>3.186834</td>\n",
       "      <td>3.311022</td>\n",
       "      <td>3.092042</td>\n",
       "      <td>3.167737</td>\n",
       "      <td>...</td>\n",
       "      <td>3.331424</td>\n",
       "      <td>3.043856</td>\n",
       "      <td>3.151900</td>\n",
       "      <td>3.132253</td>\n",
       "      <td>3.250600</td>\n",
       "      <td>2.984125</td>\n",
       "      <td>3.152269</td>\n",
       "      <td>3.225123</td>\n",
       "      <td>3.222731</td>\n",
       "      <td>3.175846</td>\n",
       "    </tr>\n",
       "  </tbody>\n",
       "</table>\n",
       "<p>5 rows × 209 columns</p>\n",
       "</div>"
      ],
      "text/plain": [
       "  Unnamed: 0  GSM25581.CEL.gz  GSM25681.CEL.gz  GSM136524.CEL.gz  \\\n",
       "0  1007_s_at         6.333951         5.736190          6.156754   \n",
       "1    1053_at         7.255622         7.399993          7.491967   \n",
       "2     117_at         5.760106         4.825169          5.039387   \n",
       "3     121_at         6.935451         7.025210          7.543667   \n",
       "4  1255_g_at         3.597872         3.108801          3.128269   \n",
       "\n",
       "   GSM136707.CEL.gz  GSM25553.CEL.gz  GSM136676.CEL.gz  GSM136711.CEL.gz  \\\n",
       "0          6.513010         6.061013          6.506493          6.863426   \n",
       "1          7.006123         7.250995          7.082581          6.842236   \n",
       "2          5.414160         5.205697          5.300078          5.099337   \n",
       "3          7.959781         7.223323          8.006816          8.102504   \n",
       "4          3.364947         3.125909          3.186834          3.311022   \n",
       "\n",
       "   GSM136542.CEL.gz  GSM136535.CEL.gz        ...         GSM48650.CEL.gz  \\\n",
       "0          6.369645          6.646321        ...                7.082636   \n",
       "1          7.048487          7.042361        ...                6.599718   \n",
       "2          5.156459          5.736109        ...                6.231457   \n",
       "3          7.434617          7.532321        ...                8.215096   \n",
       "4          3.092042          3.167737        ...                3.331424   \n",
       "\n",
       "   GSM25687.CEL.gz  GSM25685.CEL.gz  GSM136549.CEL.gz  GSM25427.CEL.gz  \\\n",
       "0         6.315866         7.010165          6.460107         6.122355   \n",
       "1         7.412731         7.274429          6.928642         7.168782   \n",
       "2         5.240717         5.275062          5.759827         5.409720   \n",
       "3         7.677593         7.923624          7.219401         7.432338   \n",
       "4         3.043856         3.151900          3.132253         3.250600   \n",
       "\n",
       "   GSM25525.CEL.gz  GSM25349.CEL.gz  GSM136727.CEL.gz  GSM25626.CEL.gz  \\\n",
       "0         6.330314         6.627014          6.133068         6.419444   \n",
       "1         7.235648         6.939184          7.280781         6.351776   \n",
       "2         5.491938         5.113570          5.401876         5.537605   \n",
       "3         6.785174         7.833862          7.607461         7.302935   \n",
       "4         2.984125         3.152269          3.225123         3.222731   \n",
       "\n",
       "   GSM136725.CEL.gz  \n",
       "0          6.488579  \n",
       "1          7.517410  \n",
       "2          5.247190  \n",
       "3          7.331864  \n",
       "4          3.175846  \n",
       "\n",
       "[5 rows x 209 columns]"
      ]
     },
     "execution_count": 3,
     "metadata": {},
     "output_type": "execute_result"
    }
   ],
   "source": [
    "#your code here\n",
    "import urllib2\n",
    "\n",
    "url=\"https://raw.githubusercontent.com/cs109/2014_data/master/exprs_GSE5859.csv\"\n",
    "csvfile = urllib2.urlopen(url)\n",
    "exprs = pd.read_csv(csvfile)\n",
    "exprs.head()\n"
   ]
  },
  {
   "cell_type": "code",
   "execution_count": 4,
   "metadata": {
    "collapsed": false
   },
   "outputs": [
    {
     "data": {
      "text/plain": [
       "array(['Unnamed: 0', 'GSM25581.CEL.gz', 'GSM25681.CEL.gz',\n",
       "       'GSM136524.CEL.gz', 'GSM136707.CEL.gz', 'GSM25553.CEL.gz',\n",
       "       'GSM136676.CEL.gz', 'GSM136711.CEL.gz', 'GSM136542.CEL.gz',\n",
       "       'GSM136535.CEL.gz', 'GSM25399.CEL.gz', 'GSM25552.CEL.gz',\n",
       "       'GSM25542.CEL.gz', 'GSM136544.CEL.gz', 'GSM25662.CEL.gz',\n",
       "       'GSM136563.CEL.gz', 'GSM48663.CEL.gz', 'GSM136547.CEL.gz',\n",
       "       'GSM136710.CEL.gz', 'GSM25660.CEL.gz', 'GSM136557.CEL.gz',\n",
       "       'GSM136669.CEL.gz', 'GSM25551.CEL.gz', 'GSM136530.CEL.gz',\n",
       "       'GSM25482.CEL.gz', 'GSM25569.CEL.gz', 'GSM25658.CEL.gz',\n",
       "       'GSM25356.CEL.gz', 'GSM25657.CEL.gz', 'GSM136570.CEL.gz',\n",
       "       'GSM25628.CEL.gz', 'GSM48651.CEL.gz', 'GSM136508.CEL.gz',\n",
       "       'GSM48652.CEL.gz', 'GSM25540.CEL.gz', 'GSM136553.CEL.gz',\n",
       "       'GSM136521.CEL.gz', 'GSM136546.CEL.gz', 'GSM25426.CEL.gz',\n",
       "       'GSM136532.CEL.gz', 'GSM136674.CEL.gz', 'GSM136712.CEL.gz',\n",
       "       'GSM136510.CEL.gz', 'GSM136539.CEL.gz', 'GSM48657.CEL.gz',\n",
       "       'GSM136708.CEL.gz', 'GSM136538.CEL.gz', 'GSM25357.CEL.gz',\n",
       "       'GSM25680.CEL.gz', 'GSM136523.CEL.gz', 'GSM136515.CEL.gz',\n",
       "       'GSM25663.CEL.gz', 'GSM136545.CEL.gz', 'GSM25656.CEL.gz',\n",
       "       'GSM25549.CEL.gz', 'GSM25385.CEL.gz', 'GSM25402.CEL.gz',\n",
       "       'GSM25568.CEL.gz', 'GSM25682.CEL.gz', 'GSM136441.CEL.gz',\n",
       "       'GSM136672.CEL.gz', 'GSM136673.CEL.gz', 'GSM25562.CEL.gz',\n",
       "       'GSM25635.CEL.gz', 'GSM136565.CEL.gz', 'GSM48660.CEL.gz',\n",
       "       'GSM25548.CEL.gz', 'GSM136556.CEL.gz', 'GSM136660.CEL.gz',\n",
       "       'GSM25386.CEL.gz', 'GSM136706.CEL.gz', 'GSM25565.CEL.gz',\n",
       "       'GSM136666.CEL.gz', 'GSM25566.CEL.gz', 'GSM25564.CEL.gz',\n",
       "       'GSM25631.CEL.gz', 'GSM136726.CEL.gz', 'GSM136520.CEL.gz',\n",
       "       'GSM25571.CEL.gz', 'GSM136443.CEL.gz', 'GSM136663.CEL.gz',\n",
       "       'GSM136729.CEL.gz', 'GSM48656.CEL.gz', 'GSM25570.CEL.gz',\n",
       "       'GSM136718.CEL.gz', 'GSM136667.CEL.gz', 'GSM25524.CEL.gz',\n",
       "       'GSM136577.CEL.gz', 'GSM25401.CEL.gz', 'GSM25529.CEL.gz',\n",
       "       'GSM25410.CEL.gz', 'GSM25528.CEL.gz', 'GSM25360.CEL.gz',\n",
       "       'GSM136715.CEL.gz', 'GSM136442.CEL.gz', 'GSM48654.CEL.gz',\n",
       "       'GSM136536.CEL.gz', 'GSM136720.CEL.gz', 'GSM136716.CEL.gz',\n",
       "       'GSM48655.CEL.gz', 'GSM25633.CEL.gz', 'GSM136723.CEL.gz',\n",
       "       'GSM136568.CEL.gz', 'GSM136573.CEL.gz', 'GSM136506.CEL.gz',\n",
       "       'GSM136550.CEL.gz', 'GSM25480.CEL.gz', 'GSM25400.CEL.gz',\n",
       "       'GSM136555.CEL.gz', 'GSM48658.CEL.gz', 'GSM25627.CEL.gz',\n",
       "       'GSM48662.CEL.gz', 'GSM136509.CEL.gz', 'GSM136717.CEL.gz',\n",
       "       'GSM136534.CEL.gz', 'GSM136659.CEL.gz', 'GSM25350.CEL.gz',\n",
       "       'GSM136445.CEL.gz', 'GSM25378.CEL.gz', 'GSM48661.CEL.gz',\n",
       "       'GSM25624.CEL.gz', 'GSM48653.CEL.gz', 'GSM136709.CEL.gz',\n",
       "       'GSM136724.CEL.gz', 'GSM136529.CEL.gz', 'GSM136543.CEL.gz',\n",
       "       'GSM136670.CEL.gz', 'GSM136671.CEL.gz', 'GSM25409.CEL.gz',\n",
       "       'GSM136664.CEL.gz', 'GSM136558.CEL.gz', 'GSM25563.CEL.gz',\n",
       "       'GSM25359.CEL.gz', 'GSM136675.CEL.gz', 'GSM136541.CEL.gz',\n",
       "       'GSM136569.CEL.gz', 'GSM136548.CEL.gz', 'GSM136514.CEL.gz',\n",
       "       'GSM25686.CEL.gz', 'GSM25661.CEL.gz', 'GSM25543.CEL.gz',\n",
       "       'GSM136661.CEL.gz', 'GSM25659.CEL.gz', 'GSM136566.CEL.gz',\n",
       "       'GSM25684.CEL.gz', 'GSM136551.CEL.gz', 'GSM136507.CEL.gz',\n",
       "       'GSM136567.CEL.gz', 'GSM136572.CEL.gz', 'GSM136522.CEL.gz',\n",
       "       'GSM136540.CEL.gz', 'GSM136662.CEL.gz', 'GSM25531.CEL.gz',\n",
       "       'GSM25683.CEL.gz', 'GSM136531.CEL.gz', 'GSM25527.CEL.gz',\n",
       "       'GSM136517.CEL.gz', 'GSM25579.CEL.gz', 'GSM136575.CEL.gz',\n",
       "       'GSM136576.CEL.gz', 'GSM25629.CEL.gz', 'GSM136677.CEL.gz',\n",
       "       'GSM25561.CEL.gz', 'GSM25479.CEL.gz', 'GSM25625.CEL.gz',\n",
       "       'GSM25550.CEL.gz', 'GSM136721.CEL.gz', 'GSM136571.CEL.gz',\n",
       "       'GSM136564.CEL.gz', 'GSM25630.CEL.gz', 'GSM25634.CEL.gz',\n",
       "       'GSM136705.CEL.gz', 'GSM136518.CEL.gz', 'GSM25530.CEL.gz',\n",
       "       'GSM136722.CEL.gz', 'GSM136719.CEL.gz', 'GSM136528.CEL.gz',\n",
       "       'GSM136559.CEL.gz', 'GSM25481.CEL.gz', 'GSM136537.CEL.gz',\n",
       "       'GSM25526.CEL.gz', 'GSM25377.CEL.gz', 'GSM136574.CEL.gz',\n",
       "       'GSM136713.CEL.gz', 'GSM25541.CEL.gz', 'GSM136444.CEL.gz',\n",
       "       'GSM25358.CEL.gz', 'GSM25632.CEL.gz', 'GSM136658.CEL.gz',\n",
       "       'GSM136668.CEL.gz', 'GSM136665.CEL.gz', 'GSM25580.CEL.gz',\n",
       "       'GSM48665.CEL.gz', 'GSM136714.CEL.gz', 'GSM48664.CEL.gz',\n",
       "       'GSM136516.CEL.gz', 'GSM25361.CEL.gz', 'GSM136552.CEL.gz',\n",
       "       'GSM25578.CEL.gz', 'GSM48650.CEL.gz', 'GSM25687.CEL.gz',\n",
       "       'GSM25685.CEL.gz', 'GSM136549.CEL.gz', 'GSM25427.CEL.gz',\n",
       "       'GSM25525.CEL.gz', 'GSM25349.CEL.gz', 'GSM136727.CEL.gz',\n",
       "       'GSM25626.CEL.gz', 'GSM136725.CEL.gz'], dtype=object)"
      ]
     },
     "execution_count": 4,
     "metadata": {},
     "output_type": "execute_result"
    }
   ],
   "source": [
    "exprs.columns.values\n"
   ]
  },
  {
   "cell_type": "code",
   "execution_count": 5,
   "metadata": {
    "collapsed": false
   },
   "outputs": [
    {
     "data": {
      "text/html": [
       "<div>\n",
       "<table border=\"1\" class=\"dataframe\">\n",
       "  <thead>\n",
       "    <tr style=\"text-align: right;\">\n",
       "      <th></th>\n",
       "      <th>ethnicity</th>\n",
       "      <th>date</th>\n",
       "      <th>filename</th>\n",
       "      <th>sex</th>\n",
       "    </tr>\n",
       "  </thead>\n",
       "  <tbody>\n",
       "    <tr>\n",
       "      <th>0</th>\n",
       "      <td>CEU</td>\n",
       "      <td>2003-02-04</td>\n",
       "      <td>GSM25349.CEL.gz</td>\n",
       "      <td>M</td>\n",
       "    </tr>\n",
       "    <tr>\n",
       "      <th>1</th>\n",
       "      <td>CEU</td>\n",
       "      <td>2003-02-04</td>\n",
       "      <td>GSM25350.CEL.gz</td>\n",
       "      <td>M</td>\n",
       "    </tr>\n",
       "    <tr>\n",
       "      <th>2</th>\n",
       "      <td>CEU</td>\n",
       "      <td>2002-12-17</td>\n",
       "      <td>GSM25356.CEL.gz</td>\n",
       "      <td>M</td>\n",
       "    </tr>\n",
       "    <tr>\n",
       "      <th>3</th>\n",
       "      <td>CEU</td>\n",
       "      <td>2003-01-30</td>\n",
       "      <td>GSM25357.CEL.gz</td>\n",
       "      <td>M</td>\n",
       "    </tr>\n",
       "    <tr>\n",
       "      <th>4</th>\n",
       "      <td>CEU</td>\n",
       "      <td>2003-01-03</td>\n",
       "      <td>GSM25358.CEL.gz</td>\n",
       "      <td>M</td>\n",
       "    </tr>\n",
       "  </tbody>\n",
       "</table>\n",
       "</div>"
      ],
      "text/plain": [
       "  ethnicity        date         filename sex\n",
       "0       CEU  2003-02-04  GSM25349.CEL.gz   M\n",
       "1       CEU  2003-02-04  GSM25350.CEL.gz   M\n",
       "2       CEU  2002-12-17  GSM25356.CEL.gz   M\n",
       "3       CEU  2003-01-30  GSM25357.CEL.gz   M\n",
       "4       CEU  2003-01-03  GSM25358.CEL.gz   M"
      ]
     },
     "execution_count": 5,
     "metadata": {},
     "output_type": "execute_result"
    }
   ],
   "source": [
    "url = \"https://raw.githubusercontent.com/cs109/2014_data/master/sampleinfo_GSE5859.csv\"\n",
    "csvdoc = urllib2.urlopen(url)\n",
    "sampleinfo = pd.read_csv(csvdoc)\n",
    "sampleinfo.head()"
   ]
  },
  {
   "cell_type": "code",
   "execution_count": 6,
   "metadata": {
    "collapsed": false
   },
   "outputs": [
    {
     "data": {
      "text/plain": [
       "array(['ethnicity', 'date', 'filename', 'sex'], dtype=object)"
      ]
     },
     "execution_count": 6,
     "metadata": {},
     "output_type": "execute_result"
    }
   ],
   "source": [
    "sampleinfo.columns.values"
   ]
  },
  {
   "cell_type": "code",
   "execution_count": 7,
   "metadata": {
    "collapsed": false
   },
   "outputs": [
    {
     "data": {
      "text/plain": [
       "array([  0,   1,   2,   3,   4,   5,   6,   7,   8,   9,  10,  11,  12,\n",
       "        13,  14,  15,  16,  17,  18,  19,  20,  21,  22,  23,  24,  25,\n",
       "        26,  27,  28,  29,  30,  31,  32,  33,  34,  35,  36,  37,  38,\n",
       "        39,  40,  41,  42,  43,  44,  45,  46,  47,  48,  49,  50,  51,\n",
       "        52,  53,  54,  55,  56,  57,  58,  59,  60,  61,  62,  63,  64,\n",
       "        65,  66,  67,  68,  69,  70,  71,  72,  73,  74,  75,  76,  77,\n",
       "        78,  79,  80,  81,  82,  83,  84,  85,  86,  87,  88,  89,  90,\n",
       "        91,  92,  93,  94,  95,  96,  97,  98,  99, 100, 101, 102, 103,\n",
       "       104, 105, 106, 107, 108, 109, 110, 111, 112, 113, 114, 115, 116,\n",
       "       117, 118, 119, 120, 121, 122, 123, 124, 125, 126, 127, 128, 129,\n",
       "       130, 131, 132, 133, 134, 135, 136, 137, 138, 139, 140, 141, 142,\n",
       "       143, 144, 145, 146, 147, 148, 149, 150, 151, 152, 153, 154, 155,\n",
       "       156, 157, 158, 159, 160, 161, 162, 163, 164, 165, 166, 167, 168,\n",
       "       169, 170, 171, 172, 173, 174, 175, 176, 177, 178, 179, 180, 181,\n",
       "       182, 183, 184, 185, 186, 187, 188, 189, 190, 191, 192, 193, 194,\n",
       "       195, 196, 197, 198, 199, 200, 201, 202, 203, 204, 205, 206, 207], dtype=int64)"
      ]
     },
     "execution_count": 7,
     "metadata": {},
     "output_type": "execute_result"
    }
   ],
   "source": [
    "sampleinfo.index.values"
   ]
  },
  {
   "cell_type": "markdown",
   "metadata": {},
   "source": [
    "Make sure the order of the columns in the gene expression DataFrame match the order of file names in the sample annotation DataFrame. If the order of the columns the `exprs` DataFrame do not match the order of the file names in the `sampleinfo` DataFrame, reorder the columns in the `exprs` DataFrame. \n",
    "\n",
    "**Note**: The column names of the gene expression DataFrame are the filenames of the orignal files from which these data were obtained.  \n",
    "\n",
    "**Hint**: The method `list.index(x)` [[read here](https://docs.python.org/2/tutorial/datastructures.html)] can be used to return the index in the list of the first item whose value is x. It is an error if there is no such item. To check if the order of the columns in `exprs` matches the order of the rows in `sampleinfo`, you can check using the method `.all()` on a Boolean or list of Booleans: \n",
    "\n",
    "Example code: `(exprs.columns == sampleinfo.filename).all()`"
   ]
  },
  {
   "cell_type": "code",
   "execution_count": 8,
   "metadata": {
    "collapsed": false
   },
   "outputs": [
    {
     "data": {
      "text/html": [
       "<div>\n",
       "<table border=\"1\" class=\"dataframe\">\n",
       "  <thead>\n",
       "    <tr style=\"text-align: right;\">\n",
       "      <th></th>\n",
       "      <th>0</th>\n",
       "      <th>1</th>\n",
       "      <th>2</th>\n",
       "      <th>3</th>\n",
       "      <th>4</th>\n",
       "      <th>5</th>\n",
       "      <th>6</th>\n",
       "      <th>7</th>\n",
       "      <th>8</th>\n",
       "      <th>9</th>\n",
       "      <th>...</th>\n",
       "      <th>8783</th>\n",
       "      <th>8784</th>\n",
       "      <th>8785</th>\n",
       "      <th>8786</th>\n",
       "      <th>8787</th>\n",
       "      <th>8788</th>\n",
       "      <th>8789</th>\n",
       "      <th>8790</th>\n",
       "      <th>8791</th>\n",
       "      <th>8792</th>\n",
       "    </tr>\n",
       "  </thead>\n",
       "  <tbody>\n",
       "    <tr>\n",
       "      <th>Unnamed: 0</th>\n",
       "      <td>1007_s_at</td>\n",
       "      <td>1053_at</td>\n",
       "      <td>117_at</td>\n",
       "      <td>121_at</td>\n",
       "      <td>1255_g_at</td>\n",
       "      <td>1294_at</td>\n",
       "      <td>1316_at</td>\n",
       "      <td>1320_at</td>\n",
       "      <td>1431_at</td>\n",
       "      <td>1438_at</td>\n",
       "      <td>...</td>\n",
       "      <td>AFFX-r2-Bs-thr-M_s_at</td>\n",
       "      <td>AFFX-r2-Ec-bioB-3_at</td>\n",
       "      <td>AFFX-r2-Ec-bioB-5_at</td>\n",
       "      <td>AFFX-r2-Ec-bioB-M_at</td>\n",
       "      <td>AFFX-r2-Ec-bioC-3_at</td>\n",
       "      <td>AFFX-r2-Ec-bioC-5_at</td>\n",
       "      <td>AFFX-r2-Ec-bioD-3_at</td>\n",
       "      <td>AFFX-r2-Ec-bioD-5_at</td>\n",
       "      <td>AFFX-r2-P1-cre-3_at</td>\n",
       "      <td>AFFX-r2-P1-cre-5_at</td>\n",
       "    </tr>\n",
       "    <tr>\n",
       "      <th>GSM25581.CEL.gz</th>\n",
       "      <td>6.33395</td>\n",
       "      <td>7.25562</td>\n",
       "      <td>5.76011</td>\n",
       "      <td>6.93545</td>\n",
       "      <td>3.59787</td>\n",
       "      <td>7.79763</td>\n",
       "      <td>4.09572</td>\n",
       "      <td>3.14225</td>\n",
       "      <td>2.56796</td>\n",
       "      <td>4.90286</td>\n",
       "      <td>...</td>\n",
       "      <td>3.145</td>\n",
       "      <td>6.05264</td>\n",
       "      <td>5.54841</td>\n",
       "      <td>5.53004</td>\n",
       "      <td>7.51364</td>\n",
       "      <td>7.40373</td>\n",
       "      <td>9.49983</td>\n",
       "      <td>9.08792</td>\n",
       "      <td>10.4992</td>\n",
       "      <td>10.9591</td>\n",
       "    </tr>\n",
       "    <tr>\n",
       "      <th>GSM25681.CEL.gz</th>\n",
       "      <td>5.73619</td>\n",
       "      <td>7.39999</td>\n",
       "      <td>4.82517</td>\n",
       "      <td>7.02521</td>\n",
       "      <td>3.1088</td>\n",
       "      <td>7.12888</td>\n",
       "      <td>3.97013</td>\n",
       "      <td>3.61471</td>\n",
       "      <td>2.6205</td>\n",
       "      <td>4.79606</td>\n",
       "      <td>...</td>\n",
       "      <td>3.21491</td>\n",
       "      <td>6.26074</td>\n",
       "      <td>6.11055</td>\n",
       "      <td>6.03692</td>\n",
       "      <td>8.2282</td>\n",
       "      <td>8.17318</td>\n",
       "      <td>10.148</td>\n",
       "      <td>9.35649</td>\n",
       "      <td>11.0391</td>\n",
       "      <td>11.5593</td>\n",
       "    </tr>\n",
       "    <tr>\n",
       "      <th>GSM136524.CEL.gz</th>\n",
       "      <td>6.15675</td>\n",
       "      <td>7.49197</td>\n",
       "      <td>5.03939</td>\n",
       "      <td>7.54367</td>\n",
       "      <td>3.12827</td>\n",
       "      <td>7.35904</td>\n",
       "      <td>4.06906</td>\n",
       "      <td>3.72061</td>\n",
       "      <td>2.86673</td>\n",
       "      <td>5.22085</td>\n",
       "      <td>...</td>\n",
       "      <td>3.57492</td>\n",
       "      <td>6.0714</td>\n",
       "      <td>6.01724</td>\n",
       "      <td>5.69927</td>\n",
       "      <td>8.09246</td>\n",
       "      <td>7.97303</td>\n",
       "      <td>11.5275</td>\n",
       "      <td>11.1169</td>\n",
       "      <td>2.72137</td>\n",
       "      <td>2.85022</td>\n",
       "    </tr>\n",
       "    <tr>\n",
       "      <th>GSM136707.CEL.gz</th>\n",
       "      <td>6.51301</td>\n",
       "      <td>7.00612</td>\n",
       "      <td>5.41416</td>\n",
       "      <td>7.95978</td>\n",
       "      <td>3.36495</td>\n",
       "      <td>6.88345</td>\n",
       "      <td>4.43937</td>\n",
       "      <td>3.71844</td>\n",
       "      <td>3.00339</td>\n",
       "      <td>5.30919</td>\n",
       "      <td>...</td>\n",
       "      <td>3.90945</td>\n",
       "      <td>5.4473</td>\n",
       "      <td>4.90752</td>\n",
       "      <td>4.65725</td>\n",
       "      <td>7.0807</td>\n",
       "      <td>6.99344</td>\n",
       "      <td>10.8142</td>\n",
       "      <td>10.0564</td>\n",
       "      <td>2.7343</td>\n",
       "      <td>3.27828</td>\n",
       "    </tr>\n",
       "  </tbody>\n",
       "</table>\n",
       "<p>5 rows × 8793 columns</p>\n",
       "</div>"
      ],
      "text/plain": [
       "                       0        1        2        3          4        5     \\\n",
       "Unnamed: 0        1007_s_at  1053_at   117_at   121_at  1255_g_at  1294_at   \n",
       "GSM25581.CEL.gz     6.33395  7.25562  5.76011  6.93545    3.59787  7.79763   \n",
       "GSM25681.CEL.gz     5.73619  7.39999  4.82517  7.02521     3.1088  7.12888   \n",
       "GSM136524.CEL.gz    6.15675  7.49197  5.03939  7.54367    3.12827  7.35904   \n",
       "GSM136707.CEL.gz    6.51301  7.00612  5.41416  7.95978    3.36495  6.88345   \n",
       "\n",
       "                     6        7        8        9            ...           \\\n",
       "Unnamed: 0        1316_at  1320_at  1431_at  1438_at         ...            \n",
       "GSM25581.CEL.gz   4.09572  3.14225  2.56796  4.90286         ...            \n",
       "GSM25681.CEL.gz   3.97013  3.61471   2.6205  4.79606         ...            \n",
       "GSM136524.CEL.gz  4.06906  3.72061  2.86673  5.22085         ...            \n",
       "GSM136707.CEL.gz  4.43937  3.71844  3.00339  5.30919         ...            \n",
       "\n",
       "                                   8783                  8784  \\\n",
       "Unnamed: 0        AFFX-r2-Bs-thr-M_s_at  AFFX-r2-Ec-bioB-3_at   \n",
       "GSM25581.CEL.gz                   3.145               6.05264   \n",
       "GSM25681.CEL.gz                 3.21491               6.26074   \n",
       "GSM136524.CEL.gz                3.57492                6.0714   \n",
       "GSM136707.CEL.gz                3.90945                5.4473   \n",
       "\n",
       "                                  8785                  8786  \\\n",
       "Unnamed: 0        AFFX-r2-Ec-bioB-5_at  AFFX-r2-Ec-bioB-M_at   \n",
       "GSM25581.CEL.gz                5.54841               5.53004   \n",
       "GSM25681.CEL.gz                6.11055               6.03692   \n",
       "GSM136524.CEL.gz               6.01724               5.69927   \n",
       "GSM136707.CEL.gz               4.90752               4.65725   \n",
       "\n",
       "                                  8787                  8788  \\\n",
       "Unnamed: 0        AFFX-r2-Ec-bioC-3_at  AFFX-r2-Ec-bioC-5_at   \n",
       "GSM25581.CEL.gz                7.51364               7.40373   \n",
       "GSM25681.CEL.gz                 8.2282               8.17318   \n",
       "GSM136524.CEL.gz               8.09246               7.97303   \n",
       "GSM136707.CEL.gz                7.0807               6.99344   \n",
       "\n",
       "                                  8789                  8790  \\\n",
       "Unnamed: 0        AFFX-r2-Ec-bioD-3_at  AFFX-r2-Ec-bioD-5_at   \n",
       "GSM25581.CEL.gz                9.49983               9.08792   \n",
       "GSM25681.CEL.gz                 10.148               9.35649   \n",
       "GSM136524.CEL.gz               11.5275               11.1169   \n",
       "GSM136707.CEL.gz               10.8142               10.0564   \n",
       "\n",
       "                                 8791                 8792  \n",
       "Unnamed: 0        AFFX-r2-P1-cre-3_at  AFFX-r2-P1-cre-5_at  \n",
       "GSM25581.CEL.gz               10.4992              10.9591  \n",
       "GSM25681.CEL.gz               11.0391              11.5593  \n",
       "GSM136524.CEL.gz              2.72137              2.85022  \n",
       "GSM136707.CEL.gz               2.7343              3.27828  \n",
       "\n",
       "[5 rows x 8793 columns]"
      ]
     },
     "execution_count": 8,
     "metadata": {},
     "output_type": "execute_result"
    }
   ],
   "source": [
    "#your code here\n",
    "exprs = exprs.transpose()\n",
    "exprs.head()"
   ]
  },
  {
   "cell_type": "code",
   "execution_count": 9,
   "metadata": {
    "collapsed": false
   },
   "outputs": [
    {
     "name": "stdout",
     "output_type": "stream",
     "text": [
      "209\n",
      "208\n"
     ]
    },
    {
     "data": {
      "text/plain": [
       "True"
      ]
     },
     "execution_count": 9,
     "metadata": {},
     "output_type": "execute_result"
    }
   ],
   "source": [
    "#print sampleinfo.head(20)\n",
    "#print sampleinfo.tail(20)\n",
    "from natsort import natsort_keygen, natsorted, ns\n",
    "exprs.index=natsorted(exprs.index.values)\n",
    "exprs\n",
    "exprssize = exprs.index.size\n",
    "print exprssize\n",
    "print sampleinfo.index.size\n",
    "(exprs.index[0 : (exprssize-1)] == sampleinfo.filename).all()\n",
    "\n"
   ]
  },
  {
   "cell_type": "code",
   "execution_count": 10,
   "metadata": {
    "collapsed": false
   },
   "outputs": [
    {
     "data": {
      "text/html": [
       "<div>\n",
       "<table border=\"1\" class=\"dataframe\">\n",
       "  <thead>\n",
       "    <tr style=\"text-align: right;\">\n",
       "      <th></th>\n",
       "      <th>0</th>\n",
       "      <th>1</th>\n",
       "      <th>2</th>\n",
       "      <th>3</th>\n",
       "      <th>4</th>\n",
       "      <th>5</th>\n",
       "      <th>6</th>\n",
       "      <th>7</th>\n",
       "      <th>8</th>\n",
       "      <th>9</th>\n",
       "      <th>...</th>\n",
       "      <th>8783</th>\n",
       "      <th>8784</th>\n",
       "      <th>8785</th>\n",
       "      <th>8786</th>\n",
       "      <th>8787</th>\n",
       "      <th>8788</th>\n",
       "      <th>8789</th>\n",
       "      <th>8790</th>\n",
       "      <th>8791</th>\n",
       "      <th>8792</th>\n",
       "    </tr>\n",
       "  </thead>\n",
       "  <tbody>\n",
       "    <tr>\n",
       "      <th>GSM25349.CEL.gz</th>\n",
       "      <td>1007_s_at</td>\n",
       "      <td>1053_at</td>\n",
       "      <td>117_at</td>\n",
       "      <td>121_at</td>\n",
       "      <td>1255_g_at</td>\n",
       "      <td>1294_at</td>\n",
       "      <td>1316_at</td>\n",
       "      <td>1320_at</td>\n",
       "      <td>1431_at</td>\n",
       "      <td>1438_at</td>\n",
       "      <td>...</td>\n",
       "      <td>AFFX-r2-Bs-thr-M_s_at</td>\n",
       "      <td>AFFX-r2-Ec-bioB-3_at</td>\n",
       "      <td>AFFX-r2-Ec-bioB-5_at</td>\n",
       "      <td>AFFX-r2-Ec-bioB-M_at</td>\n",
       "      <td>AFFX-r2-Ec-bioC-3_at</td>\n",
       "      <td>AFFX-r2-Ec-bioC-5_at</td>\n",
       "      <td>AFFX-r2-Ec-bioD-3_at</td>\n",
       "      <td>AFFX-r2-Ec-bioD-5_at</td>\n",
       "      <td>AFFX-r2-P1-cre-3_at</td>\n",
       "      <td>AFFX-r2-P1-cre-5_at</td>\n",
       "    </tr>\n",
       "    <tr>\n",
       "      <th>GSM25350.CEL.gz</th>\n",
       "      <td>6.33395</td>\n",
       "      <td>7.25562</td>\n",
       "      <td>5.76011</td>\n",
       "      <td>6.93545</td>\n",
       "      <td>3.59787</td>\n",
       "      <td>7.79763</td>\n",
       "      <td>4.09572</td>\n",
       "      <td>3.14225</td>\n",
       "      <td>2.56796</td>\n",
       "      <td>4.90286</td>\n",
       "      <td>...</td>\n",
       "      <td>3.145</td>\n",
       "      <td>6.05264</td>\n",
       "      <td>5.54841</td>\n",
       "      <td>5.53004</td>\n",
       "      <td>7.51364</td>\n",
       "      <td>7.40373</td>\n",
       "      <td>9.49983</td>\n",
       "      <td>9.08792</td>\n",
       "      <td>10.4992</td>\n",
       "      <td>10.9591</td>\n",
       "    </tr>\n",
       "    <tr>\n",
       "      <th>GSM25356.CEL.gz</th>\n",
       "      <td>5.73619</td>\n",
       "      <td>7.39999</td>\n",
       "      <td>4.82517</td>\n",
       "      <td>7.02521</td>\n",
       "      <td>3.1088</td>\n",
       "      <td>7.12888</td>\n",
       "      <td>3.97013</td>\n",
       "      <td>3.61471</td>\n",
       "      <td>2.6205</td>\n",
       "      <td>4.79606</td>\n",
       "      <td>...</td>\n",
       "      <td>3.21491</td>\n",
       "      <td>6.26074</td>\n",
       "      <td>6.11055</td>\n",
       "      <td>6.03692</td>\n",
       "      <td>8.2282</td>\n",
       "      <td>8.17318</td>\n",
       "      <td>10.148</td>\n",
       "      <td>9.35649</td>\n",
       "      <td>11.0391</td>\n",
       "      <td>11.5593</td>\n",
       "    </tr>\n",
       "    <tr>\n",
       "      <th>GSM25357.CEL.gz</th>\n",
       "      <td>6.15675</td>\n",
       "      <td>7.49197</td>\n",
       "      <td>5.03939</td>\n",
       "      <td>7.54367</td>\n",
       "      <td>3.12827</td>\n",
       "      <td>7.35904</td>\n",
       "      <td>4.06906</td>\n",
       "      <td>3.72061</td>\n",
       "      <td>2.86673</td>\n",
       "      <td>5.22085</td>\n",
       "      <td>...</td>\n",
       "      <td>3.57492</td>\n",
       "      <td>6.0714</td>\n",
       "      <td>6.01724</td>\n",
       "      <td>5.69927</td>\n",
       "      <td>8.09246</td>\n",
       "      <td>7.97303</td>\n",
       "      <td>11.5275</td>\n",
       "      <td>11.1169</td>\n",
       "      <td>2.72137</td>\n",
       "      <td>2.85022</td>\n",
       "    </tr>\n",
       "    <tr>\n",
       "      <th>GSM25358.CEL.gz</th>\n",
       "      <td>6.51301</td>\n",
       "      <td>7.00612</td>\n",
       "      <td>5.41416</td>\n",
       "      <td>7.95978</td>\n",
       "      <td>3.36495</td>\n",
       "      <td>6.88345</td>\n",
       "      <td>4.43937</td>\n",
       "      <td>3.71844</td>\n",
       "      <td>3.00339</td>\n",
       "      <td>5.30919</td>\n",
       "      <td>...</td>\n",
       "      <td>3.90945</td>\n",
       "      <td>5.4473</td>\n",
       "      <td>4.90752</td>\n",
       "      <td>4.65725</td>\n",
       "      <td>7.0807</td>\n",
       "      <td>6.99344</td>\n",
       "      <td>10.8142</td>\n",
       "      <td>10.0564</td>\n",
       "      <td>2.7343</td>\n",
       "      <td>3.27828</td>\n",
       "    </tr>\n",
       "  </tbody>\n",
       "</table>\n",
       "<p>5 rows × 8793 columns</p>\n",
       "</div>"
      ],
      "text/plain": [
       "                      0        1        2        3          4        5     \\\n",
       "GSM25349.CEL.gz  1007_s_at  1053_at   117_at   121_at  1255_g_at  1294_at   \n",
       "GSM25350.CEL.gz    6.33395  7.25562  5.76011  6.93545    3.59787  7.79763   \n",
       "GSM25356.CEL.gz    5.73619  7.39999  4.82517  7.02521     3.1088  7.12888   \n",
       "GSM25357.CEL.gz    6.15675  7.49197  5.03939  7.54367    3.12827  7.35904   \n",
       "GSM25358.CEL.gz    6.51301  7.00612  5.41416  7.95978    3.36495  6.88345   \n",
       "\n",
       "                    6        7        8        9            ...           \\\n",
       "GSM25349.CEL.gz  1316_at  1320_at  1431_at  1438_at         ...            \n",
       "GSM25350.CEL.gz  4.09572  3.14225  2.56796  4.90286         ...            \n",
       "GSM25356.CEL.gz  3.97013  3.61471   2.6205  4.79606         ...            \n",
       "GSM25357.CEL.gz  4.06906  3.72061  2.86673  5.22085         ...            \n",
       "GSM25358.CEL.gz  4.43937  3.71844  3.00339  5.30919         ...            \n",
       "\n",
       "                                  8783                  8784  \\\n",
       "GSM25349.CEL.gz  AFFX-r2-Bs-thr-M_s_at  AFFX-r2-Ec-bioB-3_at   \n",
       "GSM25350.CEL.gz                  3.145               6.05264   \n",
       "GSM25356.CEL.gz                3.21491               6.26074   \n",
       "GSM25357.CEL.gz                3.57492                6.0714   \n",
       "GSM25358.CEL.gz                3.90945                5.4473   \n",
       "\n",
       "                                 8785                  8786  \\\n",
       "GSM25349.CEL.gz  AFFX-r2-Ec-bioB-5_at  AFFX-r2-Ec-bioB-M_at   \n",
       "GSM25350.CEL.gz               5.54841               5.53004   \n",
       "GSM25356.CEL.gz               6.11055               6.03692   \n",
       "GSM25357.CEL.gz               6.01724               5.69927   \n",
       "GSM25358.CEL.gz               4.90752               4.65725   \n",
       "\n",
       "                                 8787                  8788  \\\n",
       "GSM25349.CEL.gz  AFFX-r2-Ec-bioC-3_at  AFFX-r2-Ec-bioC-5_at   \n",
       "GSM25350.CEL.gz               7.51364               7.40373   \n",
       "GSM25356.CEL.gz                8.2282               8.17318   \n",
       "GSM25357.CEL.gz               8.09246               7.97303   \n",
       "GSM25358.CEL.gz                7.0807               6.99344   \n",
       "\n",
       "                                 8789                  8790  \\\n",
       "GSM25349.CEL.gz  AFFX-r2-Ec-bioD-3_at  AFFX-r2-Ec-bioD-5_at   \n",
       "GSM25350.CEL.gz               9.49983               9.08792   \n",
       "GSM25356.CEL.gz                10.148               9.35649   \n",
       "GSM25357.CEL.gz               11.5275               11.1169   \n",
       "GSM25358.CEL.gz               10.8142               10.0564   \n",
       "\n",
       "                                8791                 8792  \n",
       "GSM25349.CEL.gz  AFFX-r2-P1-cre-3_at  AFFX-r2-P1-cre-5_at  \n",
       "GSM25350.CEL.gz              10.4992              10.9591  \n",
       "GSM25356.CEL.gz              11.0391              11.5593  \n",
       "GSM25357.CEL.gz              2.72137              2.85022  \n",
       "GSM25358.CEL.gz               2.7343              3.27828  \n",
       "\n",
       "[5 rows x 8793 columns]"
      ]
     },
     "execution_count": 10,
     "metadata": {},
     "output_type": "execute_result"
    }
   ],
   "source": [
    "exprs.head()"
   ]
  },
  {
   "cell_type": "code",
   "execution_count": 11,
   "metadata": {
    "collapsed": false
   },
   "outputs": [
    {
     "data": {
      "text/plain": [
       "<bound method Index.value_counts of Index([u'GSM25349.CEL.gz', u'GSM25350.CEL.gz', u'GSM25356.CEL.gz',\n",
       "       u'GSM25357.CEL.gz', u'GSM25358.CEL.gz', u'GSM25359.CEL.gz',\n",
       "       u'GSM25360.CEL.gz', u'GSM25361.CEL.gz', u'GSM25377.CEL.gz',\n",
       "       u'GSM25378.CEL.gz',\n",
       "       ...\n",
       "       u'GSM136720.CEL.gz', u'GSM136721.CEL.gz', u'GSM136722.CEL.gz',\n",
       "       u'GSM136723.CEL.gz', u'GSM136724.CEL.gz', u'GSM136725.CEL.gz',\n",
       "       u'GSM136726.CEL.gz', u'GSM136727.CEL.gz', u'GSM136729.CEL.gz',\n",
       "       u'Unnamed: 0'],\n",
       "      dtype='object', length=209)>"
      ]
     },
     "execution_count": 11,
     "metadata": {},
     "output_type": "execute_result"
    }
   ],
   "source": [
    "exprs.index.value_counts"
   ]
  },
  {
   "cell_type": "code",
   "execution_count": 12,
   "metadata": {
    "collapsed": false
   },
   "outputs": [
    {
     "data": {
      "text/plain": [
       "<bound method Series.value_counts of 0       GSM25349.CEL.gz\n",
       "1       GSM25350.CEL.gz\n",
       "2       GSM25356.CEL.gz\n",
       "3       GSM25357.CEL.gz\n",
       "4       GSM25358.CEL.gz\n",
       "5       GSM25359.CEL.gz\n",
       "6       GSM25360.CEL.gz\n",
       "7       GSM25361.CEL.gz\n",
       "8       GSM25377.CEL.gz\n",
       "9       GSM25378.CEL.gz\n",
       "10      GSM25385.CEL.gz\n",
       "11      GSM25386.CEL.gz\n",
       "12      GSM25399.CEL.gz\n",
       "13      GSM25400.CEL.gz\n",
       "14      GSM25401.CEL.gz\n",
       "15      GSM25402.CEL.gz\n",
       "16      GSM25409.CEL.gz\n",
       "17      GSM25410.CEL.gz\n",
       "18      GSM25426.CEL.gz\n",
       "19      GSM25427.CEL.gz\n",
       "20      GSM25479.CEL.gz\n",
       "21      GSM25480.CEL.gz\n",
       "22      GSM25481.CEL.gz\n",
       "23      GSM25482.CEL.gz\n",
       "24      GSM25524.CEL.gz\n",
       "25      GSM25525.CEL.gz\n",
       "26      GSM25526.CEL.gz\n",
       "27      GSM25527.CEL.gz\n",
       "28      GSM25528.CEL.gz\n",
       "29      GSM25529.CEL.gz\n",
       "             ...       \n",
       "178    GSM136672.CEL.gz\n",
       "179    GSM136673.CEL.gz\n",
       "180    GSM136674.CEL.gz\n",
       "181    GSM136675.CEL.gz\n",
       "182    GSM136676.CEL.gz\n",
       "183    GSM136677.CEL.gz\n",
       "184    GSM136705.CEL.gz\n",
       "185    GSM136706.CEL.gz\n",
       "186    GSM136707.CEL.gz\n",
       "187    GSM136708.CEL.gz\n",
       "188    GSM136709.CEL.gz\n",
       "189    GSM136710.CEL.gz\n",
       "190    GSM136711.CEL.gz\n",
       "191    GSM136712.CEL.gz\n",
       "192    GSM136713.CEL.gz\n",
       "193    GSM136714.CEL.gz\n",
       "194    GSM136715.CEL.gz\n",
       "195    GSM136716.CEL.gz\n",
       "196    GSM136717.CEL.gz\n",
       "197    GSM136718.CEL.gz\n",
       "198    GSM136719.CEL.gz\n",
       "199    GSM136720.CEL.gz\n",
       "200    GSM136721.CEL.gz\n",
       "201    GSM136722.CEL.gz\n",
       "202    GSM136723.CEL.gz\n",
       "203    GSM136724.CEL.gz\n",
       "204    GSM136725.CEL.gz\n",
       "205    GSM136726.CEL.gz\n",
       "206    GSM136727.CEL.gz\n",
       "207    GSM136729.CEL.gz\n",
       "Name: filename, dtype: object>"
      ]
     },
     "execution_count": 12,
     "metadata": {},
     "output_type": "execute_result"
    }
   ],
   "source": [
    "sampleinfo.filename.value_counts"
   ]
  },
  {
   "cell_type": "code",
   "execution_count": 13,
   "metadata": {
    "collapsed": false
   },
   "outputs": [],
   "source": [
    "indexlistExprs = pd.Series(exprs.index)\n",
    "indexlistExprs\n",
    "indexsample = pd.Series(sampleinfo.filename)"
   ]
  },
  {
   "cell_type": "code",
   "execution_count": 14,
   "metadata": {
    "collapsed": false
   },
   "outputs": [
    {
     "data": {
      "text/html": [
       "<div>\n",
       "<table border=\"1\" class=\"dataframe\">\n",
       "  <thead>\n",
       "    <tr style=\"text-align: right;\">\n",
       "      <th></th>\n",
       "      <th>ethnicity</th>\n",
       "      <th>date</th>\n",
       "      <th>filename</th>\n",
       "      <th>sex</th>\n",
       "    </tr>\n",
       "  </thead>\n",
       "  <tbody>\n",
       "    <tr>\n",
       "      <th>0</th>\n",
       "      <td>CEU</td>\n",
       "      <td>2003-02-04</td>\n",
       "      <td>GSM25349.CEL.gz</td>\n",
       "      <td>M</td>\n",
       "    </tr>\n",
       "    <tr>\n",
       "      <th>1</th>\n",
       "      <td>CEU</td>\n",
       "      <td>2003-02-04</td>\n",
       "      <td>GSM25350.CEL.gz</td>\n",
       "      <td>M</td>\n",
       "    </tr>\n",
       "    <tr>\n",
       "      <th>2</th>\n",
       "      <td>CEU</td>\n",
       "      <td>2002-12-17</td>\n",
       "      <td>GSM25356.CEL.gz</td>\n",
       "      <td>M</td>\n",
       "    </tr>\n",
       "    <tr>\n",
       "      <th>3</th>\n",
       "      <td>CEU</td>\n",
       "      <td>2003-01-30</td>\n",
       "      <td>GSM25357.CEL.gz</td>\n",
       "      <td>M</td>\n",
       "    </tr>\n",
       "    <tr>\n",
       "      <th>4</th>\n",
       "      <td>CEU</td>\n",
       "      <td>2003-01-03</td>\n",
       "      <td>GSM25358.CEL.gz</td>\n",
       "      <td>M</td>\n",
       "    </tr>\n",
       "  </tbody>\n",
       "</table>\n",
       "</div>"
      ],
      "text/plain": [
       "  ethnicity        date         filename sex\n",
       "0       CEU  2003-02-04  GSM25349.CEL.gz   M\n",
       "1       CEU  2003-02-04  GSM25350.CEL.gz   M\n",
       "2       CEU  2002-12-17  GSM25356.CEL.gz   M\n",
       "3       CEU  2003-01-30  GSM25357.CEL.gz   M\n",
       "4       CEU  2003-01-03  GSM25358.CEL.gz   M"
      ]
     },
     "execution_count": 14,
     "metadata": {},
     "output_type": "execute_result"
    }
   ],
   "source": [
    "sampleinfo.head()"
   ]
  },
  {
   "cell_type": "markdown",
   "metadata": {},
   "source": [
    "Show the head of the two tables: `exprs` and `sampleinfo`. "
   ]
  },
  {
   "cell_type": "code",
   "execution_count": 15,
   "metadata": {
    "collapsed": false
   },
   "outputs": [],
   "source": [
    "#your code here\n"
   ]
  },
  {
   "cell_type": "markdown",
   "metadata": {},
   "source": [
    "#### Problem 1(b)\n",
    "\n",
    "Extract the year and month as integers from the `sampleinfo` table. \n",
    "\n",
    "**Hint**: To convert a Series or a column of a pandas DataFrame that contains a date-like object, you can use the `to_datetime` function [[read here](http://pandas.pydata.org/pandas-docs/stable/timeseries.html)].  This will create a `DatetimeIndex` which can be used to extract the month and year for each row in the DataFrame. "
   ]
  },
  {
   "cell_type": "code",
   "execution_count": 16,
   "metadata": {
    "collapsed": false
   },
   "outputs": [
    {
     "name": "stdout",
     "output_type": "stream",
     "text": [
      "  ethnicity        date         filename sex\n",
      "0       CEU  2003-02-04  GSM25349.CEL.gz   M\n",
      "1       CEU  2003-02-04  GSM25350.CEL.gz   M\n",
      "2       CEU  2002-12-17  GSM25356.CEL.gz   M\n",
      "3       CEU  2003-01-30  GSM25357.CEL.gz   M\n",
      "4       CEU  2003-01-03  GSM25358.CEL.gz   M\n"
     ]
    }
   ],
   "source": [
    "#your code here\n",
    "dates = pd.to_datetime(sampleinfo.date)\n",
    "print sampleinfo.head()\n",
    "months = []\n",
    "days = []\n",
    "for i in range(sampleinfo.index.size):\n",
    "    months.append(dates[i].month)\n",
    "    days.append(dates[i].day)\n"
   ]
  },
  {
   "cell_type": "raw",
   "metadata": {},
   "source": [
    "#### Problem 1(c)\n",
    "\n",
    "Convert the dates in the `date` column from the `sampleinfo` table into days since October 31, 2002. Add a column to the `sampleinfo` DataFrame titled `elapsedInDays` containing the days since October 31, 2002.  Show the head of the `sampleinfo` DataFrame which includes the new column.  \n",
    "\n",
    "**Hint**: Use the `datetime` module to create a new `datetime` object for the specific date October 31, 2002. Then, subtract the October 31, 2002 date from each date from the `date` column in the `sampleinfo` DataFrame. "
   ]
  },
  {
   "cell_type": "code",
   "execution_count": 17,
   "metadata": {
    "collapsed": false
   },
   "outputs": [
    {
     "data": {
      "text/html": [
       "<div>\n",
       "<table border=\"1\" class=\"dataframe\">\n",
       "  <thead>\n",
       "    <tr style=\"text-align: right;\">\n",
       "      <th></th>\n",
       "      <th>ethnicity</th>\n",
       "      <th>date</th>\n",
       "      <th>filename</th>\n",
       "      <th>sex</th>\n",
       "    </tr>\n",
       "  </thead>\n",
       "  <tbody>\n",
       "    <tr>\n",
       "      <th>0</th>\n",
       "      <td>CEU</td>\n",
       "      <td>96 days</td>\n",
       "      <td>GSM25349.CEL.gz</td>\n",
       "      <td>M</td>\n",
       "    </tr>\n",
       "    <tr>\n",
       "      <th>1</th>\n",
       "      <td>CEU</td>\n",
       "      <td>96 days</td>\n",
       "      <td>GSM25350.CEL.gz</td>\n",
       "      <td>M</td>\n",
       "    </tr>\n",
       "    <tr>\n",
       "      <th>2</th>\n",
       "      <td>CEU</td>\n",
       "      <td>47 days</td>\n",
       "      <td>GSM25356.CEL.gz</td>\n",
       "      <td>M</td>\n",
       "    </tr>\n",
       "    <tr>\n",
       "      <th>3</th>\n",
       "      <td>CEU</td>\n",
       "      <td>91 days</td>\n",
       "      <td>GSM25357.CEL.gz</td>\n",
       "      <td>M</td>\n",
       "    </tr>\n",
       "    <tr>\n",
       "      <th>4</th>\n",
       "      <td>CEU</td>\n",
       "      <td>64 days</td>\n",
       "      <td>GSM25358.CEL.gz</td>\n",
       "      <td>M</td>\n",
       "    </tr>\n",
       "  </tbody>\n",
       "</table>\n",
       "</div>"
      ],
      "text/plain": [
       "  ethnicity    date         filename sex\n",
       "0       CEU 96 days  GSM25349.CEL.gz   M\n",
       "1       CEU 96 days  GSM25350.CEL.gz   M\n",
       "2       CEU 47 days  GSM25356.CEL.gz   M\n",
       "3       CEU 91 days  GSM25357.CEL.gz   M\n",
       "4       CEU 64 days  GSM25358.CEL.gz   M"
      ]
     },
     "execution_count": 17,
     "metadata": {},
     "output_type": "execute_result"
    }
   ],
   "source": [
    "#your code here\n",
    "sampleinfo.date = pd.to_datetime(sampleinfo.date)\n",
    "sampleinfo.head()\n",
    "lista=[]\n",
    "sampleinfo2 = sampleinfo\n",
    "startdate = pd.to_datetime('2002-10-31')\n",
    "for i in range(sampleinfo.date.size):\n",
    "    lista.append(((sampleinfo.date[i] - startdate)))\n",
    "#print sampleinfo2.tail()\n",
    "sampleinfo2.date = lista\n",
    "sampleinfo2.head()"
   ]
  },
  {
   "cell_type": "markdown",
   "metadata": {},
   "source": [
    "#### Problem 1(d)\n",
    "\n",
    "Use exploratory analysis and the singular value decomposition (SVD) of the gene expression data matrix to determine if the date the samples were processed has large effect on the variability seen in the data or if it is just ethnicity (which is confounded with date). \n",
    "\n",
    "**Hint**: See the end of the [lecture from 9/23/2014 for help with SVD](http://nbviewer.ipython.org/github/cs109/2014/blob/master/lectures/lecture07/data_scraping_transcript.ipynb). \n",
    "\n",
    "First subset the the `sampleinfo` DataFrame to include only the CEU ethnicity.  Call this new subsetted DataFrame `sampleinfoCEU`.  Show the head of `sampleinfoCEU` DataFrame. "
   ]
  },
  {
   "cell_type": "code",
   "execution_count": 18,
   "metadata": {
    "collapsed": false
   },
   "outputs": [],
   "source": [
    "#your code here\n",
    "exprs.head()\n",
    "sampleinfoCEU = sampleinfo[sampleinfo.ethnicity == 'CEU']\n"
   ]
  },
  {
   "cell_type": "markdown",
   "metadata": {},
   "source": [
    "Next, subset the `exprs` DataFrame to only include the samples with the CEU ethnicity. Name this new subsetted DataFrame `exprsCEU`. Show the head of the `exprsCEU` DataFrame. "
   ]
  },
  {
   "cell_type": "code",
   "execution_count": 19,
   "metadata": {
    "collapsed": false
   },
   "outputs": [
    {
     "data": {
      "text/html": [
       "<div>\n",
       "<table border=\"1\" class=\"dataframe\">\n",
       "  <thead>\n",
       "    <tr style=\"text-align: right;\">\n",
       "      <th></th>\n",
       "      <th>0</th>\n",
       "      <th>1</th>\n",
       "      <th>2</th>\n",
       "      <th>3</th>\n",
       "      <th>4</th>\n",
       "      <th>5</th>\n",
       "      <th>6</th>\n",
       "      <th>7</th>\n",
       "      <th>8</th>\n",
       "      <th>9</th>\n",
       "      <th>...</th>\n",
       "      <th>8783</th>\n",
       "      <th>8784</th>\n",
       "      <th>8785</th>\n",
       "      <th>8786</th>\n",
       "      <th>8787</th>\n",
       "      <th>8788</th>\n",
       "      <th>8789</th>\n",
       "      <th>8790</th>\n",
       "      <th>8791</th>\n",
       "      <th>8792</th>\n",
       "    </tr>\n",
       "  </thead>\n",
       "  <tbody>\n",
       "    <tr>\n",
       "      <th>GSM25349.CEL.gz</th>\n",
       "      <td>1007_s_at</td>\n",
       "      <td>1053_at</td>\n",
       "      <td>117_at</td>\n",
       "      <td>121_at</td>\n",
       "      <td>1255_g_at</td>\n",
       "      <td>1294_at</td>\n",
       "      <td>1316_at</td>\n",
       "      <td>1320_at</td>\n",
       "      <td>1431_at</td>\n",
       "      <td>1438_at</td>\n",
       "      <td>...</td>\n",
       "      <td>AFFX-r2-Bs-thr-M_s_at</td>\n",
       "      <td>AFFX-r2-Ec-bioB-3_at</td>\n",
       "      <td>AFFX-r2-Ec-bioB-5_at</td>\n",
       "      <td>AFFX-r2-Ec-bioB-M_at</td>\n",
       "      <td>AFFX-r2-Ec-bioC-3_at</td>\n",
       "      <td>AFFX-r2-Ec-bioC-5_at</td>\n",
       "      <td>AFFX-r2-Ec-bioD-3_at</td>\n",
       "      <td>AFFX-r2-Ec-bioD-5_at</td>\n",
       "      <td>AFFX-r2-P1-cre-3_at</td>\n",
       "      <td>AFFX-r2-P1-cre-5_at</td>\n",
       "    </tr>\n",
       "    <tr>\n",
       "      <th>GSM25350.CEL.gz</th>\n",
       "      <td>6.33395</td>\n",
       "      <td>7.25562</td>\n",
       "      <td>5.76011</td>\n",
       "      <td>6.93545</td>\n",
       "      <td>3.59787</td>\n",
       "      <td>7.79763</td>\n",
       "      <td>4.09572</td>\n",
       "      <td>3.14225</td>\n",
       "      <td>2.56796</td>\n",
       "      <td>4.90286</td>\n",
       "      <td>...</td>\n",
       "      <td>3.145</td>\n",
       "      <td>6.05264</td>\n",
       "      <td>5.54841</td>\n",
       "      <td>5.53004</td>\n",
       "      <td>7.51364</td>\n",
       "      <td>7.40373</td>\n",
       "      <td>9.49983</td>\n",
       "      <td>9.08792</td>\n",
       "      <td>10.4992</td>\n",
       "      <td>10.9591</td>\n",
       "    </tr>\n",
       "    <tr>\n",
       "      <th>GSM25356.CEL.gz</th>\n",
       "      <td>5.73619</td>\n",
       "      <td>7.39999</td>\n",
       "      <td>4.82517</td>\n",
       "      <td>7.02521</td>\n",
       "      <td>3.1088</td>\n",
       "      <td>7.12888</td>\n",
       "      <td>3.97013</td>\n",
       "      <td>3.61471</td>\n",
       "      <td>2.6205</td>\n",
       "      <td>4.79606</td>\n",
       "      <td>...</td>\n",
       "      <td>3.21491</td>\n",
       "      <td>6.26074</td>\n",
       "      <td>6.11055</td>\n",
       "      <td>6.03692</td>\n",
       "      <td>8.2282</td>\n",
       "      <td>8.17318</td>\n",
       "      <td>10.148</td>\n",
       "      <td>9.35649</td>\n",
       "      <td>11.0391</td>\n",
       "      <td>11.5593</td>\n",
       "    </tr>\n",
       "    <tr>\n",
       "      <th>GSM25357.CEL.gz</th>\n",
       "      <td>6.15675</td>\n",
       "      <td>7.49197</td>\n",
       "      <td>5.03939</td>\n",
       "      <td>7.54367</td>\n",
       "      <td>3.12827</td>\n",
       "      <td>7.35904</td>\n",
       "      <td>4.06906</td>\n",
       "      <td>3.72061</td>\n",
       "      <td>2.86673</td>\n",
       "      <td>5.22085</td>\n",
       "      <td>...</td>\n",
       "      <td>3.57492</td>\n",
       "      <td>6.0714</td>\n",
       "      <td>6.01724</td>\n",
       "      <td>5.69927</td>\n",
       "      <td>8.09246</td>\n",
       "      <td>7.97303</td>\n",
       "      <td>11.5275</td>\n",
       "      <td>11.1169</td>\n",
       "      <td>2.72137</td>\n",
       "      <td>2.85022</td>\n",
       "    </tr>\n",
       "    <tr>\n",
       "      <th>GSM25358.CEL.gz</th>\n",
       "      <td>6.51301</td>\n",
       "      <td>7.00612</td>\n",
       "      <td>5.41416</td>\n",
       "      <td>7.95978</td>\n",
       "      <td>3.36495</td>\n",
       "      <td>6.88345</td>\n",
       "      <td>4.43937</td>\n",
       "      <td>3.71844</td>\n",
       "      <td>3.00339</td>\n",
       "      <td>5.30919</td>\n",
       "      <td>...</td>\n",
       "      <td>3.90945</td>\n",
       "      <td>5.4473</td>\n",
       "      <td>4.90752</td>\n",
       "      <td>4.65725</td>\n",
       "      <td>7.0807</td>\n",
       "      <td>6.99344</td>\n",
       "      <td>10.8142</td>\n",
       "      <td>10.0564</td>\n",
       "      <td>2.7343</td>\n",
       "      <td>3.27828</td>\n",
       "    </tr>\n",
       "  </tbody>\n",
       "</table>\n",
       "<p>5 rows × 8793 columns</p>\n",
       "</div>"
      ],
      "text/plain": [
       "                      0        1        2        3          4        5     \\\n",
       "GSM25349.CEL.gz  1007_s_at  1053_at   117_at   121_at  1255_g_at  1294_at   \n",
       "GSM25350.CEL.gz    6.33395  7.25562  5.76011  6.93545    3.59787  7.79763   \n",
       "GSM25356.CEL.gz    5.73619  7.39999  4.82517  7.02521     3.1088  7.12888   \n",
       "GSM25357.CEL.gz    6.15675  7.49197  5.03939  7.54367    3.12827  7.35904   \n",
       "GSM25358.CEL.gz    6.51301  7.00612  5.41416  7.95978    3.36495  6.88345   \n",
       "\n",
       "                    6        7        8        9            ...           \\\n",
       "GSM25349.CEL.gz  1316_at  1320_at  1431_at  1438_at         ...            \n",
       "GSM25350.CEL.gz  4.09572  3.14225  2.56796  4.90286         ...            \n",
       "GSM25356.CEL.gz  3.97013  3.61471   2.6205  4.79606         ...            \n",
       "GSM25357.CEL.gz  4.06906  3.72061  2.86673  5.22085         ...            \n",
       "GSM25358.CEL.gz  4.43937  3.71844  3.00339  5.30919         ...            \n",
       "\n",
       "                                  8783                  8784  \\\n",
       "GSM25349.CEL.gz  AFFX-r2-Bs-thr-M_s_at  AFFX-r2-Ec-bioB-3_at   \n",
       "GSM25350.CEL.gz                  3.145               6.05264   \n",
       "GSM25356.CEL.gz                3.21491               6.26074   \n",
       "GSM25357.CEL.gz                3.57492                6.0714   \n",
       "GSM25358.CEL.gz                3.90945                5.4473   \n",
       "\n",
       "                                 8785                  8786  \\\n",
       "GSM25349.CEL.gz  AFFX-r2-Ec-bioB-5_at  AFFX-r2-Ec-bioB-M_at   \n",
       "GSM25350.CEL.gz               5.54841               5.53004   \n",
       "GSM25356.CEL.gz               6.11055               6.03692   \n",
       "GSM25357.CEL.gz               6.01724               5.69927   \n",
       "GSM25358.CEL.gz               4.90752               4.65725   \n",
       "\n",
       "                                 8787                  8788  \\\n",
       "GSM25349.CEL.gz  AFFX-r2-Ec-bioC-3_at  AFFX-r2-Ec-bioC-5_at   \n",
       "GSM25350.CEL.gz               7.51364               7.40373   \n",
       "GSM25356.CEL.gz                8.2282               8.17318   \n",
       "GSM25357.CEL.gz               8.09246               7.97303   \n",
       "GSM25358.CEL.gz                7.0807               6.99344   \n",
       "\n",
       "                                 8789                  8790  \\\n",
       "GSM25349.CEL.gz  AFFX-r2-Ec-bioD-3_at  AFFX-r2-Ec-bioD-5_at   \n",
       "GSM25350.CEL.gz               9.49983               9.08792   \n",
       "GSM25356.CEL.gz                10.148               9.35649   \n",
       "GSM25357.CEL.gz               11.5275               11.1169   \n",
       "GSM25358.CEL.gz               10.8142               10.0564   \n",
       "\n",
       "                                8791                 8792  \n",
       "GSM25349.CEL.gz  AFFX-r2-P1-cre-3_at  AFFX-r2-P1-cre-5_at  \n",
       "GSM25350.CEL.gz              10.4992              10.9591  \n",
       "GSM25356.CEL.gz              11.0391              11.5593  \n",
       "GSM25357.CEL.gz              2.72137              2.85022  \n",
       "GSM25358.CEL.gz               2.7343              3.27828  \n",
       "\n",
       "[5 rows x 8793 columns]"
      ]
     },
     "execution_count": 19,
     "metadata": {},
     "output_type": "execute_result"
    }
   ],
   "source": [
    "#your code here\n",
    "values = sampleinfoCEU.filename.values\n",
    "exprsCEU = exprs[exprs.index.isin(values)]\n",
    "exprsCEU.head()\n"
   ]
  },
  {
   "cell_type": "markdown",
   "metadata": {},
   "source": [
    "Check to make sure the order of the columns in the `exprsCEU` DataFrame matches the rows in the `sampleinfoCEU` DataFrame.  "
   ]
  },
  {
   "cell_type": "code",
   "execution_count": 20,
   "metadata": {
    "collapsed": false
   },
   "outputs": [
    {
     "data": {
      "text/plain": [
       "True"
      ]
     },
     "execution_count": 20,
     "metadata": {},
     "output_type": "execute_result"
    }
   ],
   "source": [
    "#your code here\n",
    "(exprsCEU.index.values == sampleinfoCEU.filename).all()"
   ]
  },
  {
   "cell_type": "markdown",
   "metadata": {},
   "source": [
    "Compute the average gene expression intensity in the `exprsCEU` DataFrame across all the samples. For each sample in the `exprsCEU` DataFrame, subtract the average gene expression intensity from each of the samples. Show the head of the mean normalized gene expression data.  "
   ]
  },
  {
   "cell_type": "code",
   "execution_count": 21,
   "metadata": {
    "collapsed": false
   },
   "outputs": [
    {
     "name": "stderr",
     "output_type": "stream",
     "text": [
      "C:\\Anaconda2\\lib\\site-packages\\ipykernel\\__main__.py:4: FutureWarning: convert_objects is deprecated.  Use the data-type specific converters pd.to_datetime, pd.to_timedelta and pd.to_numeric.\n"
     ]
    },
    {
     "data": {
      "text/html": [
       "<div>\n",
       "<table border=\"1\" class=\"dataframe\">\n",
       "  <thead>\n",
       "    <tr style=\"text-align: right;\">\n",
       "      <th></th>\n",
       "      <th>0</th>\n",
       "      <th>1</th>\n",
       "      <th>2</th>\n",
       "      <th>3</th>\n",
       "      <th>4</th>\n",
       "      <th>5</th>\n",
       "      <th>6</th>\n",
       "      <th>7</th>\n",
       "      <th>8</th>\n",
       "      <th>9</th>\n",
       "      <th>...</th>\n",
       "      <th>8783</th>\n",
       "      <th>8784</th>\n",
       "      <th>8785</th>\n",
       "      <th>8786</th>\n",
       "      <th>8787</th>\n",
       "      <th>8788</th>\n",
       "      <th>8789</th>\n",
       "      <th>8790</th>\n",
       "      <th>8791</th>\n",
       "      <th>8792</th>\n",
       "    </tr>\n",
       "  </thead>\n",
       "  <tbody>\n",
       "    <tr>\n",
       "      <th>GSM25349.CEL.gz</th>\n",
       "      <td>NaN</td>\n",
       "      <td>NaN</td>\n",
       "      <td>NaN</td>\n",
       "      <td>NaN</td>\n",
       "      <td>NaN</td>\n",
       "      <td>NaN</td>\n",
       "      <td>NaN</td>\n",
       "      <td>NaN</td>\n",
       "      <td>NaN</td>\n",
       "      <td>NaN</td>\n",
       "      <td>...</td>\n",
       "      <td>NaN</td>\n",
       "      <td>NaN</td>\n",
       "      <td>NaN</td>\n",
       "      <td>NaN</td>\n",
       "      <td>NaN</td>\n",
       "      <td>NaN</td>\n",
       "      <td>NaN</td>\n",
       "      <td>NaN</td>\n",
       "      <td>NaN</td>\n",
       "      <td>NaN</td>\n",
       "    </tr>\n",
       "    <tr>\n",
       "      <th>GSM25350.CEL.gz</th>\n",
       "      <td>0.629953</td>\n",
       "      <td>1.551624</td>\n",
       "      <td>0.056108</td>\n",
       "      <td>1.231453</td>\n",
       "      <td>-2.106126</td>\n",
       "      <td>2.093635</td>\n",
       "      <td>-1.608280</td>\n",
       "      <td>-2.561750</td>\n",
       "      <td>-3.136038</td>\n",
       "      <td>-0.801134</td>\n",
       "      <td>...</td>\n",
       "      <td>-2.558994</td>\n",
       "      <td>0.348643</td>\n",
       "      <td>-0.155590</td>\n",
       "      <td>-0.173956</td>\n",
       "      <td>1.809638</td>\n",
       "      <td>1.699734</td>\n",
       "      <td>3.795831</td>\n",
       "      <td>3.383919</td>\n",
       "      <td>4.795178</td>\n",
       "      <td>5.255056</td>\n",
       "    </tr>\n",
       "    <tr>\n",
       "      <th>GSM25356.CEL.gz</th>\n",
       "      <td>0.032192</td>\n",
       "      <td>1.695995</td>\n",
       "      <td>-0.878829</td>\n",
       "      <td>1.321212</td>\n",
       "      <td>-2.595197</td>\n",
       "      <td>1.424879</td>\n",
       "      <td>-1.733870</td>\n",
       "      <td>-2.089286</td>\n",
       "      <td>-3.083496</td>\n",
       "      <td>-0.907940</td>\n",
       "      <td>...</td>\n",
       "      <td>-2.489084</td>\n",
       "      <td>0.556745</td>\n",
       "      <td>0.406556</td>\n",
       "      <td>0.332927</td>\n",
       "      <td>2.524207</td>\n",
       "      <td>2.469184</td>\n",
       "      <td>4.443963</td>\n",
       "      <td>3.652496</td>\n",
       "      <td>5.335105</td>\n",
       "      <td>5.855277</td>\n",
       "    </tr>\n",
       "    <tr>\n",
       "      <th>GSM25357.CEL.gz</th>\n",
       "      <td>0.452757</td>\n",
       "      <td>1.787969</td>\n",
       "      <td>-0.664610</td>\n",
       "      <td>1.839669</td>\n",
       "      <td>-2.575729</td>\n",
       "      <td>1.655042</td>\n",
       "      <td>-1.634934</td>\n",
       "      <td>-1.983390</td>\n",
       "      <td>-2.837264</td>\n",
       "      <td>-0.483143</td>\n",
       "      <td>...</td>\n",
       "      <td>-2.129074</td>\n",
       "      <td>0.367402</td>\n",
       "      <td>0.313245</td>\n",
       "      <td>-0.004726</td>\n",
       "      <td>2.388464</td>\n",
       "      <td>2.269035</td>\n",
       "      <td>5.823505</td>\n",
       "      <td>5.412877</td>\n",
       "      <td>-2.982628</td>\n",
       "      <td>-2.853782</td>\n",
       "    </tr>\n",
       "    <tr>\n",
       "      <th>GSM25358.CEL.gz</th>\n",
       "      <td>0.809012</td>\n",
       "      <td>1.302125</td>\n",
       "      <td>-0.289838</td>\n",
       "      <td>2.255783</td>\n",
       "      <td>-2.339050</td>\n",
       "      <td>1.179454</td>\n",
       "      <td>-1.264632</td>\n",
       "      <td>-1.985560</td>\n",
       "      <td>-2.700609</td>\n",
       "      <td>-0.394812</td>\n",
       "      <td>...</td>\n",
       "      <td>-1.794549</td>\n",
       "      <td>-0.256697</td>\n",
       "      <td>-0.796483</td>\n",
       "      <td>-1.046747</td>\n",
       "      <td>1.376705</td>\n",
       "      <td>1.289443</td>\n",
       "      <td>5.110208</td>\n",
       "      <td>4.352378</td>\n",
       "      <td>-2.969694</td>\n",
       "      <td>-2.425722</td>\n",
       "    </tr>\n",
       "  </tbody>\n",
       "</table>\n",
       "<p>5 rows × 8793 columns</p>\n",
       "</div>"
      ],
      "text/plain": [
       "                     0         1         2         3         4         5     \\\n",
       "GSM25349.CEL.gz       NaN       NaN       NaN       NaN       NaN       NaN   \n",
       "GSM25350.CEL.gz  0.629953  1.551624  0.056108  1.231453 -2.106126  2.093635   \n",
       "GSM25356.CEL.gz  0.032192  1.695995 -0.878829  1.321212 -2.595197  1.424879   \n",
       "GSM25357.CEL.gz  0.452757  1.787969 -0.664610  1.839669 -2.575729  1.655042   \n",
       "GSM25358.CEL.gz  0.809012  1.302125 -0.289838  2.255783 -2.339050  1.179454   \n",
       "\n",
       "                     6         7         8         9       ...         8783  \\\n",
       "GSM25349.CEL.gz       NaN       NaN       NaN       NaN    ...          NaN   \n",
       "GSM25350.CEL.gz -1.608280 -2.561750 -3.136038 -0.801134    ...    -2.558994   \n",
       "GSM25356.CEL.gz -1.733870 -2.089286 -3.083496 -0.907940    ...    -2.489084   \n",
       "GSM25357.CEL.gz -1.634934 -1.983390 -2.837264 -0.483143    ...    -2.129074   \n",
       "GSM25358.CEL.gz -1.264632 -1.985560 -2.700609 -0.394812    ...    -1.794549   \n",
       "\n",
       "                     8784      8785      8786      8787      8788      8789  \\\n",
       "GSM25349.CEL.gz       NaN       NaN       NaN       NaN       NaN       NaN   \n",
       "GSM25350.CEL.gz  0.348643 -0.155590 -0.173956  1.809638  1.699734  3.795831   \n",
       "GSM25356.CEL.gz  0.556745  0.406556  0.332927  2.524207  2.469184  4.443963   \n",
       "GSM25357.CEL.gz  0.367402  0.313245 -0.004726  2.388464  2.269035  5.823505   \n",
       "GSM25358.CEL.gz -0.256697 -0.796483 -1.046747  1.376705  1.289443  5.110208   \n",
       "\n",
       "                     8790      8791      8792  \n",
       "GSM25349.CEL.gz       NaN       NaN       NaN  \n",
       "GSM25350.CEL.gz  3.383919  4.795178  5.255056  \n",
       "GSM25356.CEL.gz  3.652496  5.335105  5.855277  \n",
       "GSM25357.CEL.gz  5.412877 -2.982628 -2.853782  \n",
       "GSM25358.CEL.gz  4.352378 -2.969694 -2.425722  \n",
       "\n",
       "[5 rows x 8793 columns]"
      ]
     },
     "execution_count": 21,
     "metadata": {},
     "output_type": "execute_result"
    }
   ],
   "source": [
    "#your code here\n",
    "averagegene = (exprsCEU.iloc[1,:].mean()).mean()\n",
    "averagegene\n",
    "exprsInt = exprsCEU.convert_objects(convert_numeric=True)\n",
    "exprsInt = exprsInt-averagegene\n",
    "exprsInt.head()"
   ]
  },
  {
   "cell_type": "markdown",
   "metadata": {},
   "source": [
    "Using this mean normalized gene expression data, compute the projection to the first Principal Component (PC1).  \n",
    "\n",
    "**Hint**: Use the `numpy.linalg.svd()` function in the `numpy.linalg` module (or the `scipy.linalg.svd()` function in the `scipy.linalg` module) to apply an [singular value decomposition](http://en.wikipedia.org/wiki/Singular_value_decomposition) to a matrix.  "
   ]
  },
  {
   "cell_type": "code",
   "execution_count": 22,
   "metadata": {
    "collapsed": false
   },
   "outputs": [
    {
     "name": "stdout",
     "output_type": "stream",
     "text": [
      "8793\n"
     ]
    }
   ],
   "source": [
    "#your code here\n",
    "from scipy import linalg\n",
    "exprsSVD = exprsInt.T\n",
    "size= exprsSVD.index.size\n",
    "print size\n",
    "exprsSVD.iloc[:,0]= np.zeros(shape=(size,1))\n",
    "#exprsSVD.describe()\n",
    "U,s,Vh = linalg.svd(exprsSVD.values)\n",
    "#s"
   ]
  },
  {
   "cell_type": "markdown",
   "metadata": {},
   "source": [
    "Create a histogram using the values from PC1.  Use a bin size of 25.  "
   ]
  },
  {
   "cell_type": "code",
   "execution_count": 23,
   "metadata": {
    "collapsed": false
   },
   "outputs": [
    {
     "data": {
      "text/plain": [
       "(array([  1.,   0.,   0.,   0.,   0.,   0.,   0.,   0.,   0.,   0.,   0.,\n",
       "          0.,   0.,   0.,   0.,   0.,   0.,   0.,   0.,   0.,   0.,   2.,\n",
       "         15.,  46.,  38.]),\n",
       " array([  3.16680760e-19,   4.19304917e-03,   8.38609833e-03,\n",
       "          1.25791475e-02,   1.67721967e-02,   2.09652458e-02,\n",
       "          2.51582950e-02,   2.93513442e-02,   3.35443933e-02,\n",
       "          3.77374425e-02,   4.19304917e-02,   4.61235408e-02,\n",
       "          5.03165900e-02,   5.45096392e-02,   5.87026883e-02,\n",
       "          6.28957375e-02,   6.70887867e-02,   7.12818358e-02,\n",
       "          7.54748850e-02,   7.96679342e-02,   8.38609833e-02,\n",
       "          8.80540325e-02,   9.22470817e-02,   9.64401308e-02,\n",
       "          1.00633180e-01,   1.04826229e-01]),\n",
       " <a list of 25 Patch objects>)"
      ]
     },
     "execution_count": 23,
     "metadata": {},
     "output_type": "execute_result"
    },
    {
     "data": {
      "image/png": "[encoded data removed]",
      "text/plain": [
       "<matplotlib.figure.Figure at 0xd3d5d68>"
      ]
     },
     "metadata": {},
     "output_type": "display_data"
    }
   ],
   "source": [
    "\n",
    "S = np.diag(s)\n",
    "V = Vh.T\n",
    "plt.hist(V[:,0], bins=25)"
   ]
  },
  {
   "cell_type": "code",
   "execution_count": 24,
   "metadata": {
    "collapsed": false
   },
   "outputs": [
    {
     "data": {
      "text/plain": [
       "102"
      ]
     },
     "execution_count": 24,
     "metadata": {},
     "output_type": "execute_result"
    }
   ],
   "source": [
    "#your code here\n",
    "V[:,0].size"
   ]
  },
  {
   "cell_type": "markdown",
   "metadata": {},
   "source": [
    "Create a scatter plot with the days since October 31, 2002 on the x-axis and PC1 on the y-axis."
   ]
  },
  {
   "cell_type": "code",
   "execution_count": 25,
   "metadata": {
    "collapsed": false
   },
   "outputs": [
    {
     "ename": "TypeError",
     "evalue": "Cannot cast scalar from dtype('float64') to dtype('<m8[ns]') according to the rule 'same_kind'",
     "output_type": "error",
     "traceback": [
      "\u001b[1;31m---------------------------------------------------------------------------\u001b[0m",
      "\u001b[1;31mTypeError\u001b[0m                                 Traceback (most recent call last)",
      "\u001b[1;32m<ipython-input-25-e34b281c027d>\u001b[0m in \u001b[0;36m<module>\u001b[1;34m()\u001b[0m\n\u001b[0;32m      1\u001b[0m \u001b[1;31m#your code here\u001b[0m\u001b[1;33m\u001b[0m\u001b[1;33m\u001b[0m\u001b[0m\n\u001b[1;32m----> 2\u001b[1;33m \u001b[0mplt\u001b[0m\u001b[1;33m.\u001b[0m\u001b[0mscatter\u001b[0m\u001b[1;33m(\u001b[0m\u001b[0msampleinfoCEU\u001b[0m\u001b[1;33m.\u001b[0m\u001b[0mdate\u001b[0m\u001b[1;33m,\u001b[0m \u001b[0mV\u001b[0m\u001b[1;33m[\u001b[0m\u001b[1;33m:\u001b[0m\u001b[1;33m,\u001b[0m\u001b[1;36m0\u001b[0m\u001b[1;33m]\u001b[0m\u001b[1;33m)\u001b[0m\u001b[1;33m\u001b[0m\u001b[0m\n\u001b[0m",
      "\u001b[1;32mC:\\Anaconda2\\lib\\site-packages\\matplotlib\\pyplot.pyc\u001b[0m in \u001b[0;36mscatter\u001b[1;34m(x, y, s, c, marker, cmap, norm, vmin, vmax, alpha, linewidths, verts, edgecolors, hold, data, **kwargs)\u001b[0m\n\u001b[0;32m   3249\u001b[0m                          \u001b[0mvmin\u001b[0m\u001b[1;33m=\u001b[0m\u001b[0mvmin\u001b[0m\u001b[1;33m,\u001b[0m \u001b[0mvmax\u001b[0m\u001b[1;33m=\u001b[0m\u001b[0mvmax\u001b[0m\u001b[1;33m,\u001b[0m \u001b[0malpha\u001b[0m\u001b[1;33m=\u001b[0m\u001b[0malpha\u001b[0m\u001b[1;33m,\u001b[0m\u001b[1;33m\u001b[0m\u001b[0m\n\u001b[0;32m   3250\u001b[0m                          \u001b[0mlinewidths\u001b[0m\u001b[1;33m=\u001b[0m\u001b[0mlinewidths\u001b[0m\u001b[1;33m,\u001b[0m \u001b[0mverts\u001b[0m\u001b[1;33m=\u001b[0m\u001b[0mverts\u001b[0m\u001b[1;33m,\u001b[0m\u001b[1;33m\u001b[0m\u001b[0m\n\u001b[1;32m-> 3251\u001b[1;33m                          edgecolors=edgecolors, data=data, **kwargs)\n\u001b[0m\u001b[0;32m   3252\u001b[0m     \u001b[1;32mfinally\u001b[0m\u001b[1;33m:\u001b[0m\u001b[1;33m\u001b[0m\u001b[0m\n\u001b[0;32m   3253\u001b[0m         \u001b[0max\u001b[0m\u001b[1;33m.\u001b[0m\u001b[0mhold\u001b[0m\u001b[1;33m(\u001b[0m\u001b[0mwashold\u001b[0m\u001b[1;33m)\u001b[0m\u001b[1;33m\u001b[0m\u001b[0m\n",
      "\u001b[1;32mC:\\Anaconda2\\lib\\site-packages\\matplotlib\\__init__.pyc\u001b[0m in \u001b[0;36minner\u001b[1;34m(ax, *args, **kwargs)\u001b[0m\n\u001b[0;32m   1809\u001b[0m                     warnings.warn(msg % (label_namer, func.__name__),\n\u001b[0;32m   1810\u001b[0m                                   RuntimeWarning, stacklevel=2)\n\u001b[1;32m-> 1811\u001b[1;33m             \u001b[1;32mreturn\u001b[0m \u001b[0mfunc\u001b[0m\u001b[1;33m(\u001b[0m\u001b[0max\u001b[0m\u001b[1;33m,\u001b[0m \u001b[1;33m*\u001b[0m\u001b[0margs\u001b[0m\u001b[1;33m,\u001b[0m \u001b[1;33m**\u001b[0m\u001b[0mkwargs\u001b[0m\u001b[1;33m)\u001b[0m\u001b[1;33m\u001b[0m\u001b[0m\n\u001b[0m\u001b[0;32m   1812\u001b[0m         \u001b[0mpre_doc\u001b[0m \u001b[1;33m=\u001b[0m \u001b[0minner\u001b[0m\u001b[1;33m.\u001b[0m\u001b[0m__doc__\u001b[0m\u001b[1;33m\u001b[0m\u001b[0m\n\u001b[0;32m   1813\u001b[0m         \u001b[1;32mif\u001b[0m \u001b[0mpre_doc\u001b[0m \u001b[1;32mis\u001b[0m \u001b[0mNone\u001b[0m\u001b[1;33m:\u001b[0m\u001b[1;33m\u001b[0m\u001b[0m\n",
      "\u001b[1;32mC:\\Anaconda2\\lib\\site-packages\\matplotlib\\axes\\_axes.pyc\u001b[0m in \u001b[0;36mscatter\u001b[1;34m(self, x, y, s, c, marker, cmap, norm, vmin, vmax, alpha, linewidths, verts, edgecolors, **kwargs)\u001b[0m\n\u001b[0;32m   3882\u001b[0m             \u001b[0medgecolors\u001b[0m \u001b[1;33m=\u001b[0m \u001b[1;34m'face'\u001b[0m\u001b[1;33m\u001b[0m\u001b[0m\n\u001b[0;32m   3883\u001b[0m \u001b[1;33m\u001b[0m\u001b[0m\n\u001b[1;32m-> 3884\u001b[1;33m         \u001b[0moffsets\u001b[0m \u001b[1;33m=\u001b[0m \u001b[0mnp\u001b[0m\u001b[1;33m.\u001b[0m\u001b[0mdstack\u001b[0m\u001b[1;33m(\u001b[0m\u001b[1;33m(\u001b[0m\u001b[0mx\u001b[0m\u001b[1;33m,\u001b[0m \u001b[0my\u001b[0m\u001b[1;33m)\u001b[0m\u001b[1;33m)\u001b[0m\u001b[1;33m\u001b[0m\u001b[0m\n\u001b[0m\u001b[0;32m   3885\u001b[0m \u001b[1;33m\u001b[0m\u001b[0m\n\u001b[0;32m   3886\u001b[0m         collection = mcoll.PathCollection(\n",
      "\u001b[1;32mC:\\Anaconda2\\lib\\site-packages\\numpy\\lib\\shape_base.pyc\u001b[0m in \u001b[0;36mdstack\u001b[1;34m(tup)\u001b[0m\n\u001b[0;32m    366\u001b[0m \u001b[1;33m\u001b[0m\u001b[0m\n\u001b[0;32m    367\u001b[0m     \"\"\"\n\u001b[1;32m--> 368\u001b[1;33m     \u001b[1;32mreturn\u001b[0m \u001b[0m_nx\u001b[0m\u001b[1;33m.\u001b[0m\u001b[0mconcatenate\u001b[0m\u001b[1;33m(\u001b[0m\u001b[1;33m[\u001b[0m\u001b[0matleast_3d\u001b[0m\u001b[1;33m(\u001b[0m\u001b[0m_m\u001b[0m\u001b[1;33m)\u001b[0m \u001b[1;32mfor\u001b[0m \u001b[0m_m\u001b[0m \u001b[1;32min\u001b[0m \u001b[0mtup\u001b[0m\u001b[1;33m]\u001b[0m\u001b[1;33m,\u001b[0m \u001b[1;36m2\u001b[0m\u001b[1;33m)\u001b[0m\u001b[1;33m\u001b[0m\u001b[0m\n\u001b[0m\u001b[0;32m    369\u001b[0m \u001b[1;33m\u001b[0m\u001b[0m\n\u001b[0;32m    370\u001b[0m \u001b[1;32mdef\u001b[0m \u001b[0m_replace_zero_by_x_arrays\u001b[0m\u001b[1;33m(\u001b[0m\u001b[0msub_arys\u001b[0m\u001b[1;33m)\u001b[0m\u001b[1;33m:\u001b[0m\u001b[1;33m\u001b[0m\u001b[0m\n",
      "\u001b[1;31mTypeError\u001b[0m: Cannot cast scalar from dtype('float64') to dtype('<m8[ns]') according to the rule 'same_kind'"
     ]
    },
    {
     "data": {
      "image/png": "[encoded data removed]",
      "text/plain": [
       "<matplotlib.figure.Figure at 0xd3d55f8>"
      ]
     },
     "metadata": {},
     "output_type": "display_data"
    }
   ],
   "source": [
    "#your code here\n",
    "plt.scatter(sampleinfoCEU.date, V[:,0])"
   ]
  },
  {
   "cell_type": "markdown",
   "metadata": {},
   "source": [
    "Around what day do you notice a difference in the way the samples were processed?"
   ]
  },
  {
   "cell_type": "code",
   "execution_count": null,
   "metadata": {
    "collapsed": false
   },
   "outputs": [],
   "source": [
    "#your code here"
   ]
  },
  {
   "cell_type": "markdown",
   "metadata": {},
   "source": [
    "Answer:"
   ]
  },
  {
   "cell_type": "markdown",
   "metadata": {},
   "source": [
    "## Discussion for Problem 1\n",
    "\n",
    "*Write a brief discussion of your conclusions to the questions and tasks above in 100 words or less.*\n",
    "\n",
    "---\n"
   ]
  },
  {
   "cell_type": "markdown",
   "metadata": {},
   "source": [
    "## Problem 2: Is there a pollster bias in presidential election polls?"
   ]
  },
  {
   "cell_type": "markdown",
   "metadata": {},
   "source": [
    "#### Problem 2(a)\n",
    "\n",
    "The [HuffPost Pollster](http://elections.huffingtonpost.com/pollster) contains many political polls. You can access these polls from individual races as a CSV but you can also access polls through the [HuffPost Pollster API](http://elections.huffingtonpost.com/pollster/api) to access the data.  \n",
    "\n",
    "Read in the polls from the [2012 Presidential Election: Barack Obama vs Mitt Romney](http://elections.huffingtonpost.com/pollster/2012-general-election-romney-vs-obama) into a pandas DataFrame called `election`. For this problem, you may read in the polls for this race directly using [the CSV file](http://elections.huffingtonpost.com/pollster/2012-general-election-romney-vs-obama.csv) available from the HuffPost Pollster page."
   ]
  },
  {
   "cell_type": "code",
   "execution_count": 109,
   "metadata": {
    "collapsed": false
   },
   "outputs": [
    {
     "data": {
      "text/html": [
       "<div>\n",
       "<table border=\"1\" class=\"dataframe\">\n",
       "  <thead>\n",
       "    <tr style=\"text-align: right;\">\n",
       "      <th></th>\n",
       "      <th>Pollster</th>\n",
       "      <th>Start Date</th>\n",
       "      <th>End Date</th>\n",
       "      <th>Entry Date/Time (ET)</th>\n",
       "      <th>Number of Observations</th>\n",
       "      <th>Population</th>\n",
       "      <th>Mode</th>\n",
       "      <th>Obama</th>\n",
       "      <th>Romney</th>\n",
       "      <th>Undecided</th>\n",
       "      <th>Other</th>\n",
       "      <th>Pollster URL</th>\n",
       "      <th>Source URL</th>\n",
       "      <th>Partisan</th>\n",
       "      <th>Affiliation</th>\n",
       "      <th>Question Text</th>\n",
       "      <th>Question Iteration</th>\n",
       "    </tr>\n",
       "  </thead>\n",
       "  <tbody>\n",
       "    <tr>\n",
       "      <th>0</th>\n",
       "      <td>Politico/GWU/Battleground</td>\n",
       "      <td>2012-11-04</td>\n",
       "      <td>2012-11-05</td>\n",
       "      <td>2012-11-06T08:40:26Z</td>\n",
       "      <td>1000.0</td>\n",
       "      <td>Likely Voters</td>\n",
       "      <td>Live Phone</td>\n",
       "      <td>47.0</td>\n",
       "      <td>47.0</td>\n",
       "      <td>6.0</td>\n",
       "      <td>NaN</td>\n",
       "      <td>http://elections.huffingtonpost.com/pollster/p...</td>\n",
       "      <td>http://www.politico.com/news/stories/1112/8338...</td>\n",
       "      <td>Nonpartisan</td>\n",
       "      <td>None</td>\n",
       "      <td>NaN</td>\n",
       "      <td>1</td>\n",
       "    </tr>\n",
       "    <tr>\n",
       "      <th>1</th>\n",
       "      <td>YouGov/Economist</td>\n",
       "      <td>2012-11-03</td>\n",
       "      <td>2012-11-05</td>\n",
       "      <td>2012-11-26T15:31:23Z</td>\n",
       "      <td>740.0</td>\n",
       "      <td>Likely Voters</td>\n",
       "      <td>Internet</td>\n",
       "      <td>49.0</td>\n",
       "      <td>47.0</td>\n",
       "      <td>3.0</td>\n",
       "      <td>NaN</td>\n",
       "      <td>http://elections.huffingtonpost.com/pollster/p...</td>\n",
       "      <td>http://cdn.yougov.com/cumulus_uploads/document...</td>\n",
       "      <td>Nonpartisan</td>\n",
       "      <td>None</td>\n",
       "      <td>NaN</td>\n",
       "      <td>1</td>\n",
       "    </tr>\n",
       "    <tr>\n",
       "      <th>2</th>\n",
       "      <td>Gravis Marketing</td>\n",
       "      <td>2012-11-03</td>\n",
       "      <td>2012-11-05</td>\n",
       "      <td>2012-11-06T09:22:02Z</td>\n",
       "      <td>872.0</td>\n",
       "      <td>Likely Voters</td>\n",
       "      <td>Automated Phone</td>\n",
       "      <td>48.0</td>\n",
       "      <td>48.0</td>\n",
       "      <td>4.0</td>\n",
       "      <td>NaN</td>\n",
       "      <td>http://elections.huffingtonpost.com/pollster/p...</td>\n",
       "      <td>http://www.gravispolls.com/2012/11/gravis-mark...</td>\n",
       "      <td>Nonpartisan</td>\n",
       "      <td>None</td>\n",
       "      <td>NaN</td>\n",
       "      <td>1</td>\n",
       "    </tr>\n",
       "    <tr>\n",
       "      <th>3</th>\n",
       "      <td>IBD/TIPP</td>\n",
       "      <td>2012-11-03</td>\n",
       "      <td>2012-11-05</td>\n",
       "      <td>2012-11-06T08:51:48Z</td>\n",
       "      <td>712.0</td>\n",
       "      <td>Likely Voters</td>\n",
       "      <td>Live Phone</td>\n",
       "      <td>50.0</td>\n",
       "      <td>49.0</td>\n",
       "      <td>NaN</td>\n",
       "      <td>1.0</td>\n",
       "      <td>http://elections.huffingtonpost.com/pollster/p...</td>\n",
       "      <td>http://news.investors.com/special-report/50841...</td>\n",
       "      <td>Nonpartisan</td>\n",
       "      <td>None</td>\n",
       "      <td>NaN</td>\n",
       "      <td>1</td>\n",
       "    </tr>\n",
       "    <tr>\n",
       "      <th>4</th>\n",
       "      <td>Rasmussen</td>\n",
       "      <td>2012-11-03</td>\n",
       "      <td>2012-11-05</td>\n",
       "      <td>2012-11-06T08:47:50Z</td>\n",
       "      <td>1500.0</td>\n",
       "      <td>Likely Voters</td>\n",
       "      <td>Automated Phone</td>\n",
       "      <td>48.0</td>\n",
       "      <td>49.0</td>\n",
       "      <td>NaN</td>\n",
       "      <td>NaN</td>\n",
       "      <td>http://elections.huffingtonpost.com/pollster/p...</td>\n",
       "      <td>http://www.rasmussenreports.com/public_content...</td>\n",
       "      <td>Nonpartisan</td>\n",
       "      <td>None</td>\n",
       "      <td>NaN</td>\n",
       "      <td>1</td>\n",
       "    </tr>\n",
       "  </tbody>\n",
       "</table>\n",
       "</div>"
      ],
      "text/plain": [
       "                    Pollster  Start Date    End Date  Entry Date/Time (ET)  \\\n",
       "0  Politico/GWU/Battleground  2012-11-04  2012-11-05  2012-11-06T08:40:26Z   \n",
       "1           YouGov/Economist  2012-11-03  2012-11-05  2012-11-26T15:31:23Z   \n",
       "2           Gravis Marketing  2012-11-03  2012-11-05  2012-11-06T09:22:02Z   \n",
       "3                   IBD/TIPP  2012-11-03  2012-11-05  2012-11-06T08:51:48Z   \n",
       "4                  Rasmussen  2012-11-03  2012-11-05  2012-11-06T08:47:50Z   \n",
       "\n",
       "   Number of Observations     Population             Mode  Obama  Romney  \\\n",
       "0                  1000.0  Likely Voters       Live Phone   47.0    47.0   \n",
       "1                   740.0  Likely Voters         Internet   49.0    47.0   \n",
       "2                   872.0  Likely Voters  Automated Phone   48.0    48.0   \n",
       "3                   712.0  Likely Voters       Live Phone   50.0    49.0   \n",
       "4                  1500.0  Likely Voters  Automated Phone   48.0    49.0   \n",
       "\n",
       "   Undecided  Other                                       Pollster URL  \\\n",
       "0        6.0    NaN  http://elections.huffingtonpost.com/pollster/p...   \n",
       "1        3.0    NaN  http://elections.huffingtonpost.com/pollster/p...   \n",
       "2        4.0    NaN  http://elections.huffingtonpost.com/pollster/p...   \n",
       "3        NaN    1.0  http://elections.huffingtonpost.com/pollster/p...   \n",
       "4        NaN    NaN  http://elections.huffingtonpost.com/pollster/p...   \n",
       "\n",
       "                                          Source URL     Partisan Affiliation  \\\n",
       "0  http://www.politico.com/news/stories/1112/8338...  Nonpartisan        None   \n",
       "1  http://cdn.yougov.com/cumulus_uploads/document...  Nonpartisan        None   \n",
       "2  http://www.gravispolls.com/2012/11/gravis-mark...  Nonpartisan        None   \n",
       "3  http://news.investors.com/special-report/50841...  Nonpartisan        None   \n",
       "4  http://www.rasmussenreports.com/public_content...  Nonpartisan        None   \n",
       "\n",
       "   Question Text  Question Iteration  \n",
       "0            NaN                   1  \n",
       "1            NaN                   1  \n",
       "2            NaN                   1  \n",
       "3            NaN                   1  \n",
       "4            NaN                   1  "
      ]
     },
     "execution_count": 109,
     "metadata": {},
     "output_type": "execute_result"
    }
   ],
   "source": [
    "#your code here\n",
    "import urllib2\n",
    "\n",
    "url = \"http://elections.huffingtonpost.com/pollster/2012-general-election-romney-vs-obama.csv\"\n",
    "url = urllib2.urlopen(url)\n",
    "election = pd.read_csv(url)\n",
    "election.head()\n",
    "#election['Question Text'].values"
   ]
  },
  {
   "cell_type": "markdown",
   "metadata": {},
   "source": [
    "Show the head of the `election` DataFrame. "
   ]
  },
  {
   "cell_type": "code",
   "execution_count": 31,
   "metadata": {
    "collapsed": false
   },
   "outputs": [
    {
     "name": "stdout",
     "output_type": "stream",
     "text": [
      "<type 'str'>\n"
     ]
    }
   ],
   "source": [
    "#your code here\n",
    "print type(election.loc[2,'Start Date'])"
   ]
  },
  {
   "cell_type": "markdown",
   "metadata": {},
   "source": [
    "How many polls were conducted in November? Define this number as M.  \n",
    "\n",
    "**Hint**: Subset the `election` DataFrame for only dates in the `Start Date` column that are in November 2012.  "
   ]
  },
  {
   "cell_type": "code",
   "execution_count": 113,
   "metadata": {
    "collapsed": false
   },
   "outputs": [
    {
     "data": {
      "text/plain": [
       "18"
      ]
     },
     "execution_count": 113,
     "metadata": {},
     "output_type": "execute_result"
    }
   ],
   "source": [
    "election['Start Date'] = pd.to_datetime(election['Start Date'])\n",
    "electionNov = election[map(lambda x: (x.month == 11) and(x.year == 2012), election['Start Date'])]\n",
    "electionNov.drop_duplicates('Pollster', inplace=True)\n",
    "len(electionNov)\n"
   ]
  },
  {
   "cell_type": "code",
   "execution_count": 35,
   "metadata": {
    "collapsed": false
   },
   "outputs": [
    {
     "data": {
      "text/plain": [
       "27870.0"
      ]
     },
     "execution_count": 35,
     "metadata": {},
     "output_type": "execute_result"
    }
   ],
   "source": [
    "#your code here\n",
    "number_observations = electionNov['Number of Observations'].sum()\n",
    "number_observations"
   ]
  },
  {
   "cell_type": "markdown",
   "metadata": {},
   "source": [
    "Answer:"
   ]
  },
  {
   "cell_type": "markdown",
   "metadata": {},
   "source": [
    "What was the median of the number of observations in the November polls? Define this quantity as N. "
   ]
  },
  {
   "cell_type": "code",
   "execution_count": 36,
   "metadata": {
    "collapsed": false
   },
   "outputs": [
    {
     "data": {
      "text/plain": [
       "1200.0"
      ]
     },
     "execution_count": 36,
     "metadata": {},
     "output_type": "execute_result"
    }
   ],
   "source": [
    "#your code here\n",
    "N = electionNov['Number of Observations'].median()\n",
    "N"
   ]
  },
  {
   "cell_type": "markdown",
   "metadata": {},
   "source": [
    "Answer: "
   ]
  },
  {
   "cell_type": "markdown",
   "metadata": {},
   "source": [
    "#### Problem 2(b)\n",
    "\n",
    "Using the median sample size $N$ from Problem 1(a), simulate the results from a single poll:  simulate the number of votes for Obama out of a sample size $N$ where $p$ = 0.53 is the percent of voters who are voting for Obama.  \n",
    "\n",
    "**Hint**: Use the binomial distribution with parameters $N$ and $p$ = 0.53. "
   ]
  },
  {
   "cell_type": "code",
   "execution_count": 37,
   "metadata": {
    "collapsed": false
   },
   "outputs": [
    {
     "data": {
      "text/plain": [
       "657"
      ]
     },
     "execution_count": 37,
     "metadata": {},
     "output_type": "execute_result"
    }
   ],
   "source": [
    "#your code here \n",
    "import scipy.stats as stats\n",
    "numberofvoters = np.random.binomial(N,0.53)\n",
    "numberofvoters"
   ]
  },
  {
   "cell_type": "markdown",
   "metadata": {},
   "source": [
    "Now, perform a Monte Carlo simulation to obtain the estimated percentage of Obama votes with a sample size $N$ where $N$ is the median sample size calculated in Problem 2(a). Let $p$=0.53 be the percent of voters are voting for Obama. \n",
    "\n",
    "**Hint**: You will repeat the simulation above 1,000 times and plot the distribution of the estimated *percent* of Obama votes from a single poll.  The results from the single poll you simulate is random variable and will be different every time you sample. "
   ]
  },
  {
   "cell_type": "code",
   "execution_count": 40,
   "metadata": {
    "collapsed": false
   },
   "outputs": [
    {
     "data": {
      "text/plain": [
       "530.49749999999995"
      ]
     },
     "execution_count": 40,
     "metadata": {},
     "output_type": "execute_result"
    }
   ],
   "source": [
    "#your code here\n",
    "np.random.binomial(N,0.53,1000).sum()/N"
   ]
  },
  {
   "cell_type": "code",
   "execution_count": 59,
   "metadata": {
    "collapsed": false
   },
   "outputs": [
    {
     "data": {
      "text/plain": [
       "0.53600000000000003"
      ]
     },
     "execution_count": 59,
     "metadata": {},
     "output_type": "execute_result"
    }
   ],
   "source": [
    "np.mean(np.random.binomial(1,0.53,1000))"
   ]
  },
  {
   "cell_type": "markdown",
   "metadata": {},
   "source": [
    "Plot the distribution of the estimated percentage of Obama votes from your single poll. What is the distribution of the estimated percentage of Obama votes? "
   ]
  },
  {
   "cell_type": "code",
   "execution_count": 60,
   "metadata": {
    "collapsed": false
   },
   "outputs": [
    {
     "name": "stderr",
     "output_type": "stream",
     "text": [
      "C:\\Anaconda2\\lib\\site-packages\\ipykernel\\__main__.py:4: VisibleDeprecationWarning: using a non-integer number instead of an integer will result in an error in the future\n"
     ]
    },
    {
     "data": {
      "text/plain": [
       "(array([   6.,   24.,   78.,  203.,  250.,  218.,  160.,   50.,    9.,    2.]),\n",
       " array([ 0.48416667,  0.49358333,  0.503     ,  0.51241667,  0.52183333,\n",
       "         0.53125   ,  0.54066667,  0.55008333,  0.5595    ,  0.56891667,\n",
       "         0.57833333]),\n",
       " <a list of 10 Patch objects>)"
      ]
     },
     "execution_count": 60,
     "metadata": {},
     "output_type": "execute_result"
    },
    {
     "data": {
      "image/png": "[encoded data removed]",
      "text/plain": [
       "<matplotlib.figure.Figure at 0x11371320>"
      ]
     },
     "metadata": {},
     "output_type": "display_data"
    }
   ],
   "source": [
    "#your code here\n",
    "p = 0.53\n",
    "B = 1000\n",
    "obs = map(lambda x: np.mean(np.random.binomial(1, p, size = N)), xrange(B))\n",
    "plt.hist(obs)"
   ]
  },
  {
   "cell_type": "code",
   "execution_count": 62,
   "metadata": {
    "collapsed": false
   },
   "outputs": [
    {
     "data": {
      "image/png": "[encoded data removed]",
      "text/plain": [
       "<matplotlib.figure.Figure at 0x16c247f0>"
      ]
     },
     "metadata": {},
     "output_type": "display_data"
    }
   ],
   "source": [
    "import scipy.stats as stats\n",
    "stats.probplot((obs-np.mean(obs))/np.std(obs,ddof=1), dist=\"norm\", plot = plt)\n",
    "plt.show()"
   ]
  },
  {
   "cell_type": "markdown",
   "metadata": {},
   "source": [
    "Answer: "
   ]
  },
  {
   "cell_type": "markdown",
   "metadata": {},
   "source": [
    "What is the standard error (SE) of the estimated percentage from the poll. \n",
    "\n",
    "**Hint**: Remember the SE is the standard deviation (SD) of the distribution of a random variable. "
   ]
  },
  {
   "cell_type": "code",
   "execution_count": 64,
   "metadata": {
    "collapsed": false
   },
   "outputs": [
    {
     "data": {
      "text/plain": [
       "0.013948865894711209"
      ]
     },
     "execution_count": 64,
     "metadata": {},
     "output_type": "execute_result"
    }
   ],
   "source": [
    "#your code here\n",
    "np.std(obs, ddof=1)"
   ]
  },
  {
   "cell_type": "code",
   "execution_count": 66,
   "metadata": {
    "collapsed": true
   },
   "outputs": [],
   "source": [
    "print np.std?"
   ]
  },
  {
   "cell_type": "code",
   "execution_count": 68,
   "metadata": {
    "collapsed": false
   },
   "outputs": [],
   "source": [
    "print np.std?"
   ]
  },
  {
   "cell_type": "code",
   "execution_count": null,
   "metadata": {
    "collapsed": true
   },
   "outputs": [],
   "source": [
    "print np.std"
   ]
  },
  {
   "cell_type": "markdown",
   "metadata": {},
   "source": [
    "#### Problem 2(c)\n",
    "\n",
    "Now suppose we run M polls where M is the number of polls that happened in November (calculated in Problem 2(a)). Run 1,000 simulations and compute the mean of the M polls for each simulation. "
   ]
  },
  {
   "cell_type": "code",
   "execution_count": 80,
   "metadata": {
    "collapsed": false
   },
   "outputs": [],
   "source": [
    "#your code here\n",
    "M =18\n",
    "N = 1200\n",
    "def get_poll_means(p, M, N):\n",
    "    return map(lambda x:np.mean(np.random.binomial(1,p, size = N)), xrange(M))\n",
    "\n",
    "means = map(lambda y: np.mean(get_poll_means(p, N, M)), xrange(B))"
   ]
  },
  {
   "cell_type": "markdown",
   "metadata": {},
   "source": [
    "What is the distribution of the average of polls?\n",
    "\n",
    "**Hint**: Show a plot. "
   ]
  },
  {
   "cell_type": "code",
   "execution_count": 82,
   "metadata": {
    "collapsed": false
   },
   "outputs": [
    {
     "data": {
      "text/plain": [
       "[<matplotlib.lines.Line2D at 0x17b81128>]"
      ]
     },
     "execution_count": 82,
     "metadata": {},
     "output_type": "execute_result"
    },
    {
     "data": {
      "image/png": "[encoded data removed]",
      "text/plain": [
       "<matplotlib.figure.Figure at 0x176cb400>"
      ]
     },
     "metadata": {},
     "output_type": "display_data"
    }
   ],
   "source": [
    "#your code here\n",
    "plt.plot(means)"
   ]
  },
  {
   "cell_type": "code",
   "execution_count": 83,
   "metadata": {
    "collapsed": false
   },
   "outputs": [
    {
     "data": {
      "text/plain": [
       "(array([   1.,   10.,   77.,  190.,  300.,  268.,  117.,   31.,    4.,    2.]),\n",
       " array([ 0.51736111,  0.52002315,  0.52268519,  0.52534722,  0.52800926,\n",
       "         0.5306713 ,  0.53333333,  0.53599537,  0.53865741,  0.54131944,\n",
       "         0.54398148]),\n",
       " <a list of 10 Patch objects>)"
      ]
     },
     "execution_count": 83,
     "metadata": {},
     "output_type": "execute_result"
    },
    {
     "data": {
      "image/png": "[encoded data removed]",
      "text/plain": [
       "<matplotlib.figure.Figure at 0x17aebe10>"
      ]
     },
     "metadata": {},
     "output_type": "display_data"
    }
   ],
   "source": [
    "plt.hist(means)\n"
   ]
  },
  {
   "cell_type": "code",
   "execution_count": 87,
   "metadata": {
    "collapsed": false
   },
   "outputs": [
    {
     "data": {
      "image/png": "[encoded data removed]",
      "text/plain": [
       "<matplotlib.figure.Figure at 0x17cb47f0>"
      ]
     },
     "metadata": {},
     "output_type": "display_data"
    }
   ],
   "source": [
    "stats.probplot((means - np.mean(means)) / np.std(means, ddof=1), dist=\"norm\", plot = plt)\n",
    "plt.show()"
   ]
  },
  {
   "cell_type": "markdown",
   "metadata": {},
   "source": [
    "Answer: "
   ]
  },
  {
   "cell_type": "markdown",
   "metadata": {},
   "source": [
    "What is the standard error (SE) of the average of polls? "
   ]
  },
  {
   "cell_type": "code",
   "execution_count": 88,
   "metadata": {
    "collapsed": false
   },
   "outputs": [],
   "source": [
    "#your code here\n",
    "np.std(means, ddof=1)\n"
   ]
  },
  {
   "cell_type": "markdown",
   "metadata": {},
   "source": [
    "Answer: "
   ]
  },
  {
   "cell_type": "markdown",
   "metadata": {},
   "source": [
    "Is the SE of the average of polls larger, the same, or smaller than that the SD of a single poll (calculated in Problem 2(b))? By how much?\n",
    "\n",
    "**Hint**: Compute a ratio of the two quantities.  "
   ]
  },
  {
   "cell_type": "code",
   "execution_count": 89,
   "metadata": {
    "collapsed": false
   },
   "outputs": [
    {
     "data": {
      "text/plain": [
       "0.24037838882697196"
      ]
     },
     "execution_count": 89,
     "metadata": {},
     "output_type": "execute_result"
    }
   ],
   "source": [
    "#your code here\n",
    "np.std(means, ddof=1)/np.std(obs, ddof=1)"
   ]
  },
  {
   "cell_type": "markdown",
   "metadata": {},
   "source": [
    "Answer: "
   ]
  },
  {
   "cell_type": "markdown",
   "metadata": {},
   "source": [
    "#### Problem 2(d) \n",
    "\n",
    "Repeat Problem 2(c) but now record the *across poll* standard deviation in each simulation. "
   ]
  },
  {
   "cell_type": "code",
   "execution_count": 96,
   "metadata": {
    "collapsed": false
   },
   "outputs": [
    {
     "data": {
      "text/plain": [
       "[0.1168560246804384,\n",
       " 0.119970766543783,\n",
       " 0.11558581297538076,\n",
       " 0.11959708879748712,\n",
       " 0.11553329557677855,\n",
       " 0.11812884435358181,\n",
       " 0.11591911255270573,\n",
       " 0.11804476167067948,\n",
       " 0.11827807641641867,\n",
       " 0.12026362788492578]"
      ]
     },
     "execution_count": 96,
     "metadata": {},
     "output_type": "execute_result"
    }
   ],
   "source": [
    "#your code here\n",
    "stds = map(lambda y: np.std(get_poll_means(p, N, M),ddof = 0), xrange(B))\n",
    "stds[-10:]"
   ]
  },
  {
   "cell_type": "markdown",
   "metadata": {},
   "source": [
    "What is the distribution of the *across M polls* standard deviation?\n",
    "\n",
    "**Hint**: Show a plot. "
   ]
  },
  {
   "cell_type": "code",
   "execution_count": 97,
   "metadata": {
    "collapsed": false
   },
   "outputs": [
    {
     "name": "stdout",
     "output_type": "stream",
     "text": [
      "0.00238714185749\n"
     ]
    },
    {
     "data": {
      "text/plain": [
       "(array([   2.,   18.,   76.,  161.,  222.,  258.,  171.,   68.,   21.,    3.]),\n",
       " array([ 0.10959567,  0.1111821 ,  0.11276852,  0.11435495,  0.11594137,\n",
       "         0.1175278 ,  0.11911422,  0.12070065,  0.12228707,  0.1238735 ,\n",
       "         0.12545992]),\n",
       " <a list of 10 Patch objects>)"
      ]
     },
     "execution_count": 97,
     "metadata": {},
     "output_type": "execute_result"
    },
    {
     "data": {
      "image/png": "[encoded data removed]",
      "text/plain": [
       "<matplotlib.figure.Figure at 0x10bc8908>"
      ]
     },
     "metadata": {},
     "output_type": "display_data"
    }
   ],
   "source": [
    "#your code here\n",
    "print np.std(stds)\n",
    "plt.hist(stds)"
   ]
  },
  {
   "cell_type": "markdown",
   "metadata": {},
   "source": [
    "Answer: "
   ]
  },
  {
   "cell_type": "markdown",
   "metadata": {},
   "source": [
    "#### Problem 2(e) \n",
    "\n",
    "What is the standard deviation of M polls in our real (not simulated) 2012 presidential election data ? "
   ]
  },
  {
   "cell_type": "code",
   "execution_count": 101,
   "metadata": {
    "collapsed": false
   },
   "outputs": [
    {
     "data": {
      "text/plain": [
       "0.010829771494232194"
      ]
     },
     "execution_count": 101,
     "metadata": {},
     "output_type": "execute_result"
    }
   ],
   "source": [
    "#your code here\n",
    "sd = np.std(electionNov[\"Obama\"]/100, ddof=0)\n",
    "sd"
   ]
  },
  {
   "cell_type": "markdown",
   "metadata": {},
   "source": [
    "Is this larger, the same, or smaller than what we expeced if polls were not biased."
   ]
  },
  {
   "cell_type": "code",
   "execution_count": 103,
   "metadata": {
    "collapsed": false
   },
   "outputs": [
    {
     "data": {
      "text/plain": [
       "0.092117476931860537"
      ]
     },
     "execution_count": 103,
     "metadata": {},
     "output_type": "execute_result"
    }
   ],
   "source": [
    "#your code here\n",
    "sd/np.mean(stds)"
   ]
  },
  {
   "cell_type": "markdown",
   "metadata": {},
   "source": [
    "Answer: "
   ]
  },
  {
   "cell_type": "markdown",
   "metadata": {},
   "source": [
    "#### Problem 2(f)\n",
    "\n",
    "**For AC209 Students**: Learn about the normal approximation for the binomial distribution and derive the results of Problem 2(b) and 2(c) analytically (using this approximation). Compare the results obtained analytically to those obtained from simulations."
   ]
  },
  {
   "cell_type": "code",
   "execution_count": 276,
   "metadata": {
    "collapsed": false
   },
   "outputs": [],
   "source": [
    "#your code here"
   ]
  },
  {
   "cell_type": "markdown",
   "metadata": {},
   "source": [
    "Answer: "
   ]
  },
  {
   "cell_type": "markdown",
   "metadata": {},
   "source": [
    "## Discussion for Problem 2\n",
    "\n",
    "*Write a brief discussion of your conclusions to the questions and tasks above in 100 words or less.*\n",
    "\n",
    "---\n"
   ]
  },
  {
   "cell_type": "markdown",
   "metadata": {},
   "source": [
    "## Problem 3: Is the average of polls better than just one poll?"
   ]
  },
  {
   "cell_type": "markdown",
   "metadata": {},
   "source": [
    "#### Problem 3(a)\n",
    "\n",
    "Most undecided voters vote for one of the two candidates at the election. Therefore, the reported percentages underestimate the final value of both candidates. However, if we assume the undecided will split evenly, then the observed difference should be an unbiased estimate of the final difference. \n",
    "\n",
    "Add a new column to the `election` DataFrame containg the difference between Obama and Romeny called `Diff`. "
   ]
  },
  {
   "cell_type": "code",
   "execution_count": 118,
   "metadata": {
    "collapsed": false
   },
   "outputs": [
    {
     "data": {
      "text/html": [
       "<div>\n",
       "<table border=\"1\" class=\"dataframe\">\n",
       "  <thead>\n",
       "    <tr style=\"text-align: right;\">\n",
       "      <th></th>\n",
       "      <th>Pollster</th>\n",
       "      <th>Start Date</th>\n",
       "      <th>End Date</th>\n",
       "      <th>Entry Date/Time (ET)</th>\n",
       "      <th>Number of Observations</th>\n",
       "      <th>Population</th>\n",
       "      <th>Mode</th>\n",
       "      <th>Obama</th>\n",
       "      <th>Romney</th>\n",
       "      <th>Undecided</th>\n",
       "      <th>Other</th>\n",
       "      <th>Pollster URL</th>\n",
       "      <th>Source URL</th>\n",
       "      <th>Partisan</th>\n",
       "      <th>Affiliation</th>\n",
       "      <th>Question Text</th>\n",
       "      <th>Question Iteration</th>\n",
       "      <th>DIff</th>\n",
       "      <th>Diff</th>\n",
       "    </tr>\n",
       "  </thead>\n",
       "  <tbody>\n",
       "    <tr>\n",
       "      <th>0</th>\n",
       "      <td>Politico/GWU/Battleground</td>\n",
       "      <td>2012-11-04</td>\n",
       "      <td>2012-11-05</td>\n",
       "      <td>2012-11-06T08:40:26Z</td>\n",
       "      <td>1000.0</td>\n",
       "      <td>Likely Voters</td>\n",
       "      <td>Live Phone</td>\n",
       "      <td>47.0</td>\n",
       "      <td>47.0</td>\n",
       "      <td>6.0</td>\n",
       "      <td>NaN</td>\n",
       "      <td>http://elections.huffingtonpost.com/pollster/p...</td>\n",
       "      <td>http://www.politico.com/news/stories/1112/8338...</td>\n",
       "      <td>Nonpartisan</td>\n",
       "      <td>None</td>\n",
       "      <td>NaN</td>\n",
       "      <td>1</td>\n",
       "      <td>0.00</td>\n",
       "      <td>0.00</td>\n",
       "    </tr>\n",
       "    <tr>\n",
       "      <th>1</th>\n",
       "      <td>YouGov/Economist</td>\n",
       "      <td>2012-11-03</td>\n",
       "      <td>2012-11-05</td>\n",
       "      <td>2012-11-26T15:31:23Z</td>\n",
       "      <td>740.0</td>\n",
       "      <td>Likely Voters</td>\n",
       "      <td>Internet</td>\n",
       "      <td>49.0</td>\n",
       "      <td>47.0</td>\n",
       "      <td>3.0</td>\n",
       "      <td>NaN</td>\n",
       "      <td>http://elections.huffingtonpost.com/pollster/p...</td>\n",
       "      <td>http://cdn.yougov.com/cumulus_uploads/document...</td>\n",
       "      <td>Nonpartisan</td>\n",
       "      <td>None</td>\n",
       "      <td>NaN</td>\n",
       "      <td>1</td>\n",
       "      <td>0.02</td>\n",
       "      <td>0.02</td>\n",
       "    </tr>\n",
       "    <tr>\n",
       "      <th>2</th>\n",
       "      <td>Gravis Marketing</td>\n",
       "      <td>2012-11-03</td>\n",
       "      <td>2012-11-05</td>\n",
       "      <td>2012-11-06T09:22:02Z</td>\n",
       "      <td>872.0</td>\n",
       "      <td>Likely Voters</td>\n",
       "      <td>Automated Phone</td>\n",
       "      <td>48.0</td>\n",
       "      <td>48.0</td>\n",
       "      <td>4.0</td>\n",
       "      <td>NaN</td>\n",
       "      <td>http://elections.huffingtonpost.com/pollster/p...</td>\n",
       "      <td>http://www.gravispolls.com/2012/11/gravis-mark...</td>\n",
       "      <td>Nonpartisan</td>\n",
       "      <td>None</td>\n",
       "      <td>NaN</td>\n",
       "      <td>1</td>\n",
       "      <td>0.00</td>\n",
       "      <td>0.00</td>\n",
       "    </tr>\n",
       "    <tr>\n",
       "      <th>3</th>\n",
       "      <td>IBD/TIPP</td>\n",
       "      <td>2012-11-03</td>\n",
       "      <td>2012-11-05</td>\n",
       "      <td>2012-11-06T08:51:48Z</td>\n",
       "      <td>712.0</td>\n",
       "      <td>Likely Voters</td>\n",
       "      <td>Live Phone</td>\n",
       "      <td>50.0</td>\n",
       "      <td>49.0</td>\n",
       "      <td>NaN</td>\n",
       "      <td>1.0</td>\n",
       "      <td>http://elections.huffingtonpost.com/pollster/p...</td>\n",
       "      <td>http://news.investors.com/special-report/50841...</td>\n",
       "      <td>Nonpartisan</td>\n",
       "      <td>None</td>\n",
       "      <td>NaN</td>\n",
       "      <td>1</td>\n",
       "      <td>0.01</td>\n",
       "      <td>0.01</td>\n",
       "    </tr>\n",
       "    <tr>\n",
       "      <th>4</th>\n",
       "      <td>Rasmussen</td>\n",
       "      <td>2012-11-03</td>\n",
       "      <td>2012-11-05</td>\n",
       "      <td>2012-11-06T08:47:50Z</td>\n",
       "      <td>1500.0</td>\n",
       "      <td>Likely Voters</td>\n",
       "      <td>Automated Phone</td>\n",
       "      <td>48.0</td>\n",
       "      <td>49.0</td>\n",
       "      <td>NaN</td>\n",
       "      <td>NaN</td>\n",
       "      <td>http://elections.huffingtonpost.com/pollster/p...</td>\n",
       "      <td>http://www.rasmussenreports.com/public_content...</td>\n",
       "      <td>Nonpartisan</td>\n",
       "      <td>None</td>\n",
       "      <td>NaN</td>\n",
       "      <td>1</td>\n",
       "      <td>-0.01</td>\n",
       "      <td>-0.01</td>\n",
       "    </tr>\n",
       "  </tbody>\n",
       "</table>\n",
       "</div>"
      ],
      "text/plain": [
       "                    Pollster Start Date    End Date  Entry Date/Time (ET)  \\\n",
       "0  Politico/GWU/Battleground 2012-11-04  2012-11-05  2012-11-06T08:40:26Z   \n",
       "1           YouGov/Economist 2012-11-03  2012-11-05  2012-11-26T15:31:23Z   \n",
       "2           Gravis Marketing 2012-11-03  2012-11-05  2012-11-06T09:22:02Z   \n",
       "3                   IBD/TIPP 2012-11-03  2012-11-05  2012-11-06T08:51:48Z   \n",
       "4                  Rasmussen 2012-11-03  2012-11-05  2012-11-06T08:47:50Z   \n",
       "\n",
       "   Number of Observations     Population             Mode  Obama  Romney  \\\n",
       "0                  1000.0  Likely Voters       Live Phone   47.0    47.0   \n",
       "1                   740.0  Likely Voters         Internet   49.0    47.0   \n",
       "2                   872.0  Likely Voters  Automated Phone   48.0    48.0   \n",
       "3                   712.0  Likely Voters       Live Phone   50.0    49.0   \n",
       "4                  1500.0  Likely Voters  Automated Phone   48.0    49.0   \n",
       "\n",
       "   Undecided  Other                                       Pollster URL  \\\n",
       "0        6.0    NaN  http://elections.huffingtonpost.com/pollster/p...   \n",
       "1        3.0    NaN  http://elections.huffingtonpost.com/pollster/p...   \n",
       "2        4.0    NaN  http://elections.huffingtonpost.com/pollster/p...   \n",
       "3        NaN    1.0  http://elections.huffingtonpost.com/pollster/p...   \n",
       "4        NaN    NaN  http://elections.huffingtonpost.com/pollster/p...   \n",
       "\n",
       "                                          Source URL     Partisan Affiliation  \\\n",
       "0  http://www.politico.com/news/stories/1112/8338...  Nonpartisan        None   \n",
       "1  http://cdn.yougov.com/cumulus_uploads/document...  Nonpartisan        None   \n",
       "2  http://www.gravispolls.com/2012/11/gravis-mark...  Nonpartisan        None   \n",
       "3  http://news.investors.com/special-report/50841...  Nonpartisan        None   \n",
       "4  http://www.rasmussenreports.com/public_content...  Nonpartisan        None   \n",
       "\n",
       "   Question Text  Question Iteration  DIff  Diff  \n",
       "0            NaN                   1  0.00  0.00  \n",
       "1            NaN                   1  0.02  0.02  \n",
       "2            NaN                   1  0.00  0.00  \n",
       "3            NaN                   1  0.01  0.01  \n",
       "4            NaN                   1 -0.01 -0.01  "
      ]
     },
     "execution_count": 118,
     "metadata": {},
     "output_type": "execute_result"
    }
   ],
   "source": [
    "#your code here\n",
    "election['Diff']=(election.Obama/100 - election.Romney/100)\n",
    "election.head()"
   ]
  },
  {
   "cell_type": "markdown",
   "metadata": {},
   "source": [
    "#### Problem 3(b)\n",
    "\n",
    "Make a plot of the differences for the week before the election (e.g. 5 days) where the days are on the x-axis and the differences are on the y-axis.  Add a horizontal line showing 3.9%: the difference between Obama and Romney on election day."
   ]
  },
  {
   "cell_type": "code",
   "execution_count": 120,
   "metadata": {
    "collapsed": false
   },
   "outputs": [
    {
     "data": {
      "text/html": [
       "<div>\n",
       "<table border=\"1\" class=\"dataframe\">\n",
       "  <thead>\n",
       "    <tr style=\"text-align: right;\">\n",
       "      <th></th>\n",
       "      <th>Pollster</th>\n",
       "      <th>Start Date</th>\n",
       "      <th>End Date</th>\n",
       "      <th>Entry Date/Time (ET)</th>\n",
       "      <th>Number of Observations</th>\n",
       "      <th>Population</th>\n",
       "      <th>Mode</th>\n",
       "      <th>Obama</th>\n",
       "      <th>Romney</th>\n",
       "      <th>Undecided</th>\n",
       "      <th>Other</th>\n",
       "      <th>Pollster URL</th>\n",
       "      <th>Source URL</th>\n",
       "      <th>Partisan</th>\n",
       "      <th>Affiliation</th>\n",
       "      <th>Question Text</th>\n",
       "      <th>Question Iteration</th>\n",
       "      <th>DIff</th>\n",
       "      <th>Diff</th>\n",
       "    </tr>\n",
       "  </thead>\n",
       "  <tbody>\n",
       "    <tr>\n",
       "      <th>0</th>\n",
       "      <td>Politico/GWU/Battleground</td>\n",
       "      <td>2012-11-04</td>\n",
       "      <td>2012-11-05</td>\n",
       "      <td>2012-11-06T08:40:26Z</td>\n",
       "      <td>1000.0</td>\n",
       "      <td>Likely Voters</td>\n",
       "      <td>Live Phone</td>\n",
       "      <td>47.0</td>\n",
       "      <td>47.0</td>\n",
       "      <td>6.0</td>\n",
       "      <td>NaN</td>\n",
       "      <td>http://elections.huffingtonpost.com/pollster/p...</td>\n",
       "      <td>http://www.politico.com/news/stories/1112/8338...</td>\n",
       "      <td>Nonpartisan</td>\n",
       "      <td>None</td>\n",
       "      <td>NaN</td>\n",
       "      <td>1</td>\n",
       "      <td>0.00</td>\n",
       "      <td>0.00</td>\n",
       "    </tr>\n",
       "    <tr>\n",
       "      <th>1</th>\n",
       "      <td>YouGov/Economist</td>\n",
       "      <td>2012-11-03</td>\n",
       "      <td>2012-11-05</td>\n",
       "      <td>2012-11-26T15:31:23Z</td>\n",
       "      <td>740.0</td>\n",
       "      <td>Likely Voters</td>\n",
       "      <td>Internet</td>\n",
       "      <td>49.0</td>\n",
       "      <td>47.0</td>\n",
       "      <td>3.0</td>\n",
       "      <td>NaN</td>\n",
       "      <td>http://elections.huffingtonpost.com/pollster/p...</td>\n",
       "      <td>http://cdn.yougov.com/cumulus_uploads/document...</td>\n",
       "      <td>Nonpartisan</td>\n",
       "      <td>None</td>\n",
       "      <td>NaN</td>\n",
       "      <td>1</td>\n",
       "      <td>0.02</td>\n",
       "      <td>0.02</td>\n",
       "    </tr>\n",
       "    <tr>\n",
       "      <th>2</th>\n",
       "      <td>Gravis Marketing</td>\n",
       "      <td>2012-11-03</td>\n",
       "      <td>2012-11-05</td>\n",
       "      <td>2012-11-06T09:22:02Z</td>\n",
       "      <td>872.0</td>\n",
       "      <td>Likely Voters</td>\n",
       "      <td>Automated Phone</td>\n",
       "      <td>48.0</td>\n",
       "      <td>48.0</td>\n",
       "      <td>4.0</td>\n",
       "      <td>NaN</td>\n",
       "      <td>http://elections.huffingtonpost.com/pollster/p...</td>\n",
       "      <td>http://www.gravispolls.com/2012/11/gravis-mark...</td>\n",
       "      <td>Nonpartisan</td>\n",
       "      <td>None</td>\n",
       "      <td>NaN</td>\n",
       "      <td>1</td>\n",
       "      <td>0.00</td>\n",
       "      <td>0.00</td>\n",
       "    </tr>\n",
       "    <tr>\n",
       "      <th>3</th>\n",
       "      <td>IBD/TIPP</td>\n",
       "      <td>2012-11-03</td>\n",
       "      <td>2012-11-05</td>\n",
       "      <td>2012-11-06T08:51:48Z</td>\n",
       "      <td>712.0</td>\n",
       "      <td>Likely Voters</td>\n",
       "      <td>Live Phone</td>\n",
       "      <td>50.0</td>\n",
       "      <td>49.0</td>\n",
       "      <td>NaN</td>\n",
       "      <td>1.0</td>\n",
       "      <td>http://elections.huffingtonpost.com/pollster/p...</td>\n",
       "      <td>http://news.investors.com/special-report/50841...</td>\n",
       "      <td>Nonpartisan</td>\n",
       "      <td>None</td>\n",
       "      <td>NaN</td>\n",
       "      <td>1</td>\n",
       "      <td>0.01</td>\n",
       "      <td>0.01</td>\n",
       "    </tr>\n",
       "    <tr>\n",
       "      <th>4</th>\n",
       "      <td>Rasmussen</td>\n",
       "      <td>2012-11-03</td>\n",
       "      <td>2012-11-05</td>\n",
       "      <td>2012-11-06T08:47:50Z</td>\n",
       "      <td>1500.0</td>\n",
       "      <td>Likely Voters</td>\n",
       "      <td>Automated Phone</td>\n",
       "      <td>48.0</td>\n",
       "      <td>49.0</td>\n",
       "      <td>NaN</td>\n",
       "      <td>NaN</td>\n",
       "      <td>http://elections.huffingtonpost.com/pollster/p...</td>\n",
       "      <td>http://www.rasmussenreports.com/public_content...</td>\n",
       "      <td>Nonpartisan</td>\n",
       "      <td>None</td>\n",
       "      <td>NaN</td>\n",
       "      <td>1</td>\n",
       "      <td>-0.01</td>\n",
       "      <td>-0.01</td>\n",
       "    </tr>\n",
       "  </tbody>\n",
       "</table>\n",
       "</div>"
      ],
      "text/plain": [
       "                    Pollster Start Date    End Date  Entry Date/Time (ET)  \\\n",
       "0  Politico/GWU/Battleground 2012-11-04  2012-11-05  2012-11-06T08:40:26Z   \n",
       "1           YouGov/Economist 2012-11-03  2012-11-05  2012-11-26T15:31:23Z   \n",
       "2           Gravis Marketing 2012-11-03  2012-11-05  2012-11-06T09:22:02Z   \n",
       "3                   IBD/TIPP 2012-11-03  2012-11-05  2012-11-06T08:51:48Z   \n",
       "4                  Rasmussen 2012-11-03  2012-11-05  2012-11-06T08:47:50Z   \n",
       "\n",
       "   Number of Observations     Population             Mode  Obama  Romney  \\\n",
       "0                  1000.0  Likely Voters       Live Phone   47.0    47.0   \n",
       "1                   740.0  Likely Voters         Internet   49.0    47.0   \n",
       "2                   872.0  Likely Voters  Automated Phone   48.0    48.0   \n",
       "3                   712.0  Likely Voters       Live Phone   50.0    49.0   \n",
       "4                  1500.0  Likely Voters  Automated Phone   48.0    49.0   \n",
       "\n",
       "   Undecided  Other                                       Pollster URL  \\\n",
       "0        6.0    NaN  http://elections.huffingtonpost.com/pollster/p...   \n",
       "1        3.0    NaN  http://elections.huffingtonpost.com/pollster/p...   \n",
       "2        4.0    NaN  http://elections.huffingtonpost.com/pollster/p...   \n",
       "3        NaN    1.0  http://elections.huffingtonpost.com/pollster/p...   \n",
       "4        NaN    NaN  http://elections.huffingtonpost.com/pollster/p...   \n",
       "\n",
       "                                          Source URL     Partisan Affiliation  \\\n",
       "0  http://www.politico.com/news/stories/1112/8338...  Nonpartisan        None   \n",
       "1  http://cdn.yougov.com/cumulus_uploads/document...  Nonpartisan        None   \n",
       "2  http://www.gravispolls.com/2012/11/gravis-mark...  Nonpartisan        None   \n",
       "3  http://news.investors.com/special-report/50841...  Nonpartisan        None   \n",
       "4  http://www.rasmussenreports.com/public_content...  Nonpartisan        None   \n",
       "\n",
       "   Question Text  Question Iteration  DIff  Diff  \n",
       "0            NaN                   1  0.00  0.00  \n",
       "1            NaN                   1  0.02  0.02  \n",
       "2            NaN                   1  0.00  0.00  \n",
       "3            NaN                   1  0.01  0.01  \n",
       "4            NaN                   1 -0.01 -0.01  "
      ]
     },
     "execution_count": 120,
     "metadata": {},
     "output_type": "execute_result"
    }
   ],
   "source": [
    "#your code here\n",
    "last_day = max(election[\"Start Date\"])\n",
    "election_five = election[map(lambda x: (last_day - x).days <=5, election['Start Date'])]\n",
    "election_five.head()\n"
   ]
  },
  {
   "cell_type": "markdown",
   "metadata": {},
   "source": [
    "#### Problem 3(c) \n",
    "\n",
    "Make a plot showing the differences by pollster where the pollsters are on the x-axis and the differences on the y-axis. "
   ]
  },
  {
   "cell_type": "code",
   "execution_count": 279,
   "metadata": {
    "collapsed": false
   },
   "outputs": [],
   "source": [
    "#your code here"
   ]
  },
  {
   "cell_type": "markdown",
   "metadata": {},
   "source": [
    "Is the *across poll* difference larger than the *between pollster* difference? "
   ]
  },
  {
   "cell_type": "markdown",
   "metadata": {},
   "source": [
    "Answer: "
   ]
  },
  {
   "cell_type": "markdown",
   "metadata": {},
   "source": [
    "#### Problem 3(d)\n",
    "\n",
    "Take the average for each pollster and then compute the average of that. Given this difference how confident would you have been of an Obama victory?\n",
    "\n",
    "**Hint**: Compute an estimate of the SE of this average based exclusively on the observed data. "
   ]
  },
  {
   "cell_type": "code",
   "execution_count": 280,
   "metadata": {
    "collapsed": false
   },
   "outputs": [],
   "source": [
    "#your code here"
   ]
  },
  {
   "cell_type": "markdown",
   "metadata": {},
   "source": [
    "Answer: "
   ]
  },
  {
   "cell_type": "markdown",
   "metadata": {},
   "source": [
    "#### Problem 3(e)\n",
    "\n",
    "**For AC209 Students**: Show the difference against time and see if you can detect a trend towards the end. Use this trend to see if it improves the final estimate."
   ]
  },
  {
   "cell_type": "code",
   "execution_count": 281,
   "metadata": {
    "collapsed": false
   },
   "outputs": [],
   "source": [
    "#your code here"
   ]
  },
  {
   "cell_type": "markdown",
   "metadata": {},
   "source": [
    "Answer: "
   ]
  },
  {
   "cell_type": "markdown",
   "metadata": {},
   "source": [
    "## Discussion for Problem 3\n",
    "\n",
    "*Write a brief discussion of your conclusions to the questions and tasks above in 100 words or less.*\n",
    "\n",
    "---\n"
   ]
  },
  {
   "cell_type": "markdown",
   "metadata": {},
   "source": [
    "## Problem 4\n",
    "\n",
    "In this last problem, we will use the polls from the [2014 Senate Midterm Elections](http://elections.huffingtonpost.com/pollster) from the [HuffPost Pollster API](http://elections.huffingtonpost.com/pollster/api) to create a preliminary prediction of the result of each state. \n",
    "\n",
    "The HuffPost Pollster API allows you to access the data as a CSV or a JSON response by tacking \".csv\" or \".json\" at the end of the URLs. For example the 2012 Presidential Election could be accessed as a [.json](http://elections.huffingtonpost.com/pollster/2012-general-election-romney-vs-obama.json) instead of a [.csv](http://elections.huffingtonpost.com/pollster/2012-general-election-romney-vs-obama.csv)"
   ]
  },
  {
   "cell_type": "markdown",
   "metadata": {},
   "source": [
    "#### Problem 4(a)\n",
    "\n",
    "Read in the polls for **all** of the 2014 Senate Elections using the HuffPost API. For example, we can consider the [2014 Senate race in Kentucky between Mitch McConnell and Alison Grimes](http://elections.huffingtonpost.com/pollster/2014-kentucky-senate-mcconnell-vs-grimes). \n",
    "\n",
    "To search for the 2014 Senate races, use the `topics` parameter in the API [[read more about topics here](http://elections.huffingtonpost.com/pollster/api)].  "
   ]
  },
  {
   "cell_type": "code",
   "execution_count": 4,
   "metadata": {
    "collapsed": false
   },
   "outputs": [],
   "source": [
    "\n",
    "url_str = \"http://elections.huffingtonpost.com/pollster/api/charts/?topic=2014-senate\"\n"
   ]
  },
  {
   "cell_type": "markdown",
   "metadata": {},
   "source": [
    "To list all the URLs related to the 2014 Senate races using the pollster API, we can use a list comprehension:"
   ]
  },
  {
   "cell_type": "code",
   "execution_count": 5,
   "metadata": {
    "collapsed": false
   },
   "outputs": [
    {
     "data": {
      "text/plain": [
       "[u'http://elections.huffingtonpost.com/pollster/2014-delaware-senate-wade-vs-coons.csv',\n",
       " u'http://elections.huffingtonpost.com/pollster/2014-massachusetts-senate-herr-vs-markey.csv',\n",
       " u'http://elections.huffingtonpost.com/pollster/2014-rhode-island-senate-zaccaria-vs-reed.csv',\n",
       " u'http://elections.huffingtonpost.com/pollster/2014-montana-senate-daines-vs-curtis.csv',\n",
       " u'http://elections.huffingtonpost.com/pollster/2014-oklahoma-senate-lankford-vs-johnson.csv',\n",
       " u'http://elections.huffingtonpost.com/pollster/2014-hawaii-senate-cavasso-vs-schatz.csv',\n",
       " u'http://elections.huffingtonpost.com/pollster/2014-kansas-senate-roberts-vs-orman-vs-taylor.csv',\n",
       " u'http://elections.huffingtonpost.com/pollster/2014-wyoming-senate.csv',\n",
       " u'http://elections.huffingtonpost.com/pollster/2014-tennessee-senate-alexander-vs-ball.csv',\n",
       " u'http://elections.huffingtonpost.com/pollster/2014-idaho-senate-risch-vs-mitchell.csv',\n",
       " u'http://elections.huffingtonpost.com/pollster/2014-new-jersey-senate-bell-vs-booker.csv',\n",
       " u'http://elections.huffingtonpost.com/pollster/2014-new-mexico-senate-weh-vs-udall.csv',\n",
       " u'http://elections.huffingtonpost.com/pollster/2014-oklahoma-senate-inhofe-vs-silverstein.csv',\n",
       " u'http://elections.huffingtonpost.com/pollster/2014-south-carolina-senate-scott-vs-dickerson.csv',\n",
       " u'http://elections.huffingtonpost.com/pollster/2014-south-carolina-senate-graham-vs-hutto.csv',\n",
       " u'http://elections.huffingtonpost.com/pollster/2014-texas-senate-cornyn-vs-alameel.csv',\n",
       " u'http://elections.huffingtonpost.com/pollster/2014-minnesota-senate-mcfadden-vs-franken.csv',\n",
       " u'http://elections.huffingtonpost.com/pollster/2014-maine-senate-collins-vs-bellows.csv',\n",
       " u'http://elections.huffingtonpost.com/pollster/2014-south-dakota-senate-rounds-vs-weiland.csv',\n",
       " u'http://elections.huffingtonpost.com/pollster/2014-nebraska-senate-sasse-vs-domina.csv',\n",
       " u'http://elections.huffingtonpost.com/pollster/2014-georgia-senate-perdue-vs-nunn.csv',\n",
       " u'http://elections.huffingtonpost.com/pollster/2014-oregon-senate-wehby-vs-merkley.csv',\n",
       " u'http://elections.huffingtonpost.com/pollster/2014-mississippi-senate-cochran-vs-childers.csv',\n",
       " u'http://elections.huffingtonpost.com/pollster/2014-iowa-senate-ernst-vs-braley.csv',\n",
       " u'http://elections.huffingtonpost.com/pollster/2014-alaska-senate-sullivan-vs-begich.csv',\n",
       " u'http://elections.huffingtonpost.com/pollster/2014-illinois-senate-oberweis-vs-durbin.csv',\n",
       " u'http://elections.huffingtonpost.com/pollster/2014-colorado-senate-gardner-vs-udall.csv',\n",
       " u'http://elections.huffingtonpost.com/pollster/2014-virginia-senate-gillespie-vs-warner.csv',\n",
       " u'http://elections.huffingtonpost.com/pollster/2014-north-carolina-senate-tillis-vs-hagan.csv',\n",
       " u'http://elections.huffingtonpost.com/pollster/2014-new-hampshire-senate-bass-vs-shaheen.csv',\n",
       " u'http://elections.huffingtonpost.com/pollster/2014-west-virginia-senate-capito-vs-tennant.csv',\n",
       " u'http://elections.huffingtonpost.com/pollster/2014-new-hampshire-senate-brown-vs-shaheen.csv',\n",
       " u'http://elections.huffingtonpost.com/pollster/2014-louisiana-senate-cassidy-vs-landrieu.csv',\n",
       " u'http://elections.huffingtonpost.com/pollster/2014-michigan-senate-land-vs-peters.csv',\n",
       " u'http://elections.huffingtonpost.com/pollster/2014-arkansas-senate-cotton-vs-pryor.csv',\n",
       " u'http://elections.huffingtonpost.com/pollster/2014-kentucky-senate-mcconnell-vs-grimes.csv']"
      ]
     },
     "execution_count": 5,
     "metadata": {},
     "output_type": "execute_result"
    }
   ],
   "source": [
    "election_urls = [election['url'] + '.csv' for election in requests.get(url_str).json()]\n",
    "election_urls"
   ]
  },
  {
   "cell_type": "markdown",
   "metadata": {},
   "source": [
    "Because there so many Senate races, we can create a dictionary of pandas DataFrames that will be keyed by the name of the election (a string). "
   ]
  },
  {
   "cell_type": "code",
   "execution_count": 6,
   "metadata": {
    "collapsed": false
   },
   "outputs": [],
   "source": [
    "def build_frame(url):\n",
    "    \"\"\"\n",
    "    Returns a pandas DataFrame object containing\n",
    "    the data returned from the given url\n",
    "    \"\"\"\n",
    "    source = requests.get(url).text\n",
    "    \n",
    "    # Use StringIO because pd.DataFrame.from_csv requires .read() method\n",
    "    s = StringIO(source)\n",
    "    \n",
    "    return pd.DataFrame.from_csv(s, index_col=None).convert_objects(\n",
    "            convert_dates=\"coerce\", convert_numeric=True)"
   ]
  },
  {
   "cell_type": "code",
   "execution_count": 16,
   "metadata": {
    "collapsed": false
   },
   "outputs": [
    {
     "data": {
      "text/html": [
       "<div>\n",
       "<table border=\"1\" class=\"dataframe\">\n",
       "  <thead>\n",
       "    <tr style=\"text-align: right;\">\n",
       "      <th></th>\n",
       "      <th>Start Date</th>\n",
       "      <th>End Date</th>\n",
       "      <th>Entry Date/Time (ET)</th>\n",
       "      <th>Number of Observations</th>\n",
       "      <th>Population</th>\n",
       "      <th>Mode</th>\n",
       "      <th>Grimes</th>\n",
       "      <th>McConnell</th>\n",
       "      <th>Undecided</th>\n",
       "      <th>Pollster URL</th>\n",
       "      <th>Source URL</th>\n",
       "      <th>Partisan</th>\n",
       "      <th>Affiliation</th>\n",
       "      <th>Question Text</th>\n",
       "      <th>Question Iteration</th>\n",
       "    </tr>\n",
       "    <tr>\n",
       "      <th>Pollster</th>\n",
       "      <th></th>\n",
       "      <th></th>\n",
       "      <th></th>\n",
       "      <th></th>\n",
       "      <th></th>\n",
       "      <th></th>\n",
       "      <th></th>\n",
       "      <th></th>\n",
       "      <th></th>\n",
       "      <th></th>\n",
       "      <th></th>\n",
       "      <th></th>\n",
       "      <th></th>\n",
       "      <th></th>\n",
       "      <th></th>\n",
       "    </tr>\n",
       "  </thead>\n",
       "  <tbody>\n",
       "    <tr>\n",
       "      <th>PPP (D)</th>\n",
       "      <td>2014-10-30</td>\n",
       "      <td>2014-11-01</td>\n",
       "      <td>2014-11-02T01:44:58Z</td>\n",
       "      <td>1503</td>\n",
       "      <td>Likely Voters</td>\n",
       "      <td>IVR/Online</td>\n",
       "      <td>42.0</td>\n",
       "      <td>50.0</td>\n",
       "      <td>NaN</td>\n",
       "      <td>http://elections.huffingtonpost.com/pollster/p...</td>\n",
       "      <td>http://www.publicpolicypolling.com/pdf/2014/PP...</td>\n",
       "      <td>Pollster</td>\n",
       "      <td>Dem</td>\n",
       "      <td>NaN</td>\n",
       "      <td>1</td>\n",
       "    </tr>\n",
       "    <tr>\n",
       "      <th>NBC/Marist</th>\n",
       "      <td>2014-10-27</td>\n",
       "      <td>2014-10-30</td>\n",
       "      <td>2014-11-02T14:37:22Z</td>\n",
       "      <td>556</td>\n",
       "      <td>Likely Voters</td>\n",
       "      <td>Live Phone</td>\n",
       "      <td>41.0</td>\n",
       "      <td>50.0</td>\n",
       "      <td>3.0</td>\n",
       "      <td>http://elections.huffingtonpost.com/pollster/p...</td>\n",
       "      <td>http://newscms.nbcnews.com/sites/newscms/files...</td>\n",
       "      <td>Nonpartisan</td>\n",
       "      <td>None</td>\n",
       "      <td>NaN</td>\n",
       "      <td>1</td>\n",
       "    </tr>\n",
       "    <tr>\n",
       "      <th>SurveyUSA/Courier-Journal/Herald-Leader/WHAS/WKYT</th>\n",
       "      <td>2014-10-25</td>\n",
       "      <td>2014-10-29</td>\n",
       "      <td>2014-10-30T23:33:59Z</td>\n",
       "      <td>597</td>\n",
       "      <td>Likely Voters</td>\n",
       "      <td>IVR/Online</td>\n",
       "      <td>43.0</td>\n",
       "      <td>48.0</td>\n",
       "      <td>6.0</td>\n",
       "      <td>http://elections.huffingtonpost.com/pollster/p...</td>\n",
       "      <td>http://www.surveyusa.com/client/PollReport.asp...</td>\n",
       "      <td>Nonpartisan</td>\n",
       "      <td>None</td>\n",
       "      <td>NaN</td>\n",
       "      <td>1</td>\n",
       "    </tr>\n",
       "    <tr>\n",
       "      <th>POS (R-Crossroads GPS)</th>\n",
       "      <td>2014-10-25</td>\n",
       "      <td>2014-10-27</td>\n",
       "      <td>2014-10-30T20:56:18Z</td>\n",
       "      <td>600</td>\n",
       "      <td>Likely Voters</td>\n",
       "      <td>Live Phone</td>\n",
       "      <td>43.0</td>\n",
       "      <td>50.0</td>\n",
       "      <td>NaN</td>\n",
       "      <td>http://elections.huffingtonpost.com/pollster/p...</td>\n",
       "      <td>https://www.crossroadsgps.org/wp-content/uploa...</td>\n",
       "      <td>Sponsor</td>\n",
       "      <td>Rep</td>\n",
       "      <td>NaN</td>\n",
       "      <td>1</td>\n",
       "    </tr>\n",
       "    <tr>\n",
       "      <th>CBS/NYT/YouGov</th>\n",
       "      <td>2014-10-16</td>\n",
       "      <td>2014-10-23</td>\n",
       "      <td>2014-10-26T15:00:07Z</td>\n",
       "      <td>1502</td>\n",
       "      <td>Likely Voters</td>\n",
       "      <td>Internet</td>\n",
       "      <td>39.0</td>\n",
       "      <td>45.0</td>\n",
       "      <td>14.0</td>\n",
       "      <td>http://elections.huffingtonpost.com/pollster/p...</td>\n",
       "      <td>https://today.yougov.com/news/2014/09/07/battl...</td>\n",
       "      <td>Nonpartisan</td>\n",
       "      <td>None</td>\n",
       "      <td>NaN</td>\n",
       "      <td>1</td>\n",
       "    </tr>\n",
       "  </tbody>\n",
       "</table>\n",
       "</div>"
      ],
      "text/plain": [
       "                                                   Start Date    End Date  \\\n",
       "Pollster                                                                    \n",
       "PPP (D)                                            2014-10-30  2014-11-01   \n",
       "NBC/Marist                                         2014-10-27  2014-10-30   \n",
       "SurveyUSA/Courier-Journal/Herald-Leader/WHAS/WKYT  2014-10-25  2014-10-29   \n",
       "POS (R-Crossroads GPS)                             2014-10-25  2014-10-27   \n",
       "CBS/NYT/YouGov                                     2014-10-16  2014-10-23   \n",
       "\n",
       "                                                   Entry Date/Time (ET)  \\\n",
       "Pollster                                                                  \n",
       "PPP (D)                                            2014-11-02T01:44:58Z   \n",
       "NBC/Marist                                         2014-11-02T14:37:22Z   \n",
       "SurveyUSA/Courier-Journal/Herald-Leader/WHAS/WKYT  2014-10-30T23:33:59Z   \n",
       "POS (R-Crossroads GPS)                             2014-10-30T20:56:18Z   \n",
       "CBS/NYT/YouGov                                     2014-10-26T15:00:07Z   \n",
       "\n",
       "                                                   Number of Observations  \\\n",
       "Pollster                                                                    \n",
       "PPP (D)                                                              1503   \n",
       "NBC/Marist                                                            556   \n",
       "SurveyUSA/Courier-Journal/Herald-Leader/WHAS/WKYT                     597   \n",
       "POS (R-Crossroads GPS)                                                600   \n",
       "CBS/NYT/YouGov                                                       1502   \n",
       "\n",
       "                                                      Population        Mode  \\\n",
       "Pollster                                                                       \n",
       "PPP (D)                                            Likely Voters  IVR/Online   \n",
       "NBC/Marist                                         Likely Voters  Live Phone   \n",
       "SurveyUSA/Courier-Journal/Herald-Leader/WHAS/WKYT  Likely Voters  IVR/Online   \n",
       "POS (R-Crossroads GPS)                             Likely Voters  Live Phone   \n",
       "CBS/NYT/YouGov                                     Likely Voters    Internet   \n",
       "\n",
       "                                                   Grimes  McConnell  \\\n",
       "Pollster                                                               \n",
       "PPP (D)                                              42.0       50.0   \n",
       "NBC/Marist                                           41.0       50.0   \n",
       "SurveyUSA/Courier-Journal/Herald-Leader/WHAS/WKYT    43.0       48.0   \n",
       "POS (R-Crossroads GPS)                               43.0       50.0   \n",
       "CBS/NYT/YouGov                                       39.0       45.0   \n",
       "\n",
       "                                                   Undecided  \\\n",
       "Pollster                                                       \n",
       "PPP (D)                                                  NaN   \n",
       "NBC/Marist                                               3.0   \n",
       "SurveyUSA/Courier-Journal/Herald-Leader/WHAS/WKYT        6.0   \n",
       "POS (R-Crossroads GPS)                                   NaN   \n",
       "CBS/NYT/YouGov                                          14.0   \n",
       "\n",
       "                                                                                        Pollster URL  \\\n",
       "Pollster                                                                                               \n",
       "PPP (D)                                            http://elections.huffingtonpost.com/pollster/p...   \n",
       "NBC/Marist                                         http://elections.huffingtonpost.com/pollster/p...   \n",
       "SurveyUSA/Courier-Journal/Herald-Leader/WHAS/WKYT  http://elections.huffingtonpost.com/pollster/p...   \n",
       "POS (R-Crossroads GPS)                             http://elections.huffingtonpost.com/pollster/p...   \n",
       "CBS/NYT/YouGov                                     http://elections.huffingtonpost.com/pollster/p...   \n",
       "\n",
       "                                                                                          Source URL  \\\n",
       "Pollster                                                                                               \n",
       "PPP (D)                                            http://www.publicpolicypolling.com/pdf/2014/PP...   \n",
       "NBC/Marist                                         http://newscms.nbcnews.com/sites/newscms/files...   \n",
       "SurveyUSA/Courier-Journal/Herald-Leader/WHAS/WKYT  http://www.surveyusa.com/client/PollReport.asp...   \n",
       "POS (R-Crossroads GPS)                             https://www.crossroadsgps.org/wp-content/uploa...   \n",
       "CBS/NYT/YouGov                                     https://today.yougov.com/news/2014/09/07/battl...   \n",
       "\n",
       "                                                      Partisan Affiliation  \\\n",
       "Pollster                                                                     \n",
       "PPP (D)                                               Pollster         Dem   \n",
       "NBC/Marist                                         Nonpartisan        None   \n",
       "SurveyUSA/Courier-Journal/Herald-Leader/WHAS/WKYT  Nonpartisan        None   \n",
       "POS (R-Crossroads GPS)                                 Sponsor         Rep   \n",
       "CBS/NYT/YouGov                                     Nonpartisan        None   \n",
       "\n",
       "                                                   Question Text  \\\n",
       "Pollster                                                           \n",
       "PPP (D)                                                      NaN   \n",
       "NBC/Marist                                                   NaN   \n",
       "SurveyUSA/Courier-Journal/Herald-Leader/WHAS/WKYT            NaN   \n",
       "POS (R-Crossroads GPS)                                       NaN   \n",
       "CBS/NYT/YouGov                                               NaN   \n",
       "\n",
       "                                                   Question Iteration  \n",
       "Pollster                                                               \n",
       "PPP (D)                                                             1  \n",
       "NBC/Marist                                                          1  \n",
       "SurveyUSA/Courier-Journal/Herald-Leader/WHAS/WKYT                   1  \n",
       "POS (R-Crossroads GPS)                                              1  \n",
       "CBS/NYT/YouGov                                                      1  "
      ]
     },
     "execution_count": 16,
     "metadata": {},
     "output_type": "execute_result"
    }
   ],
   "source": [
    "url_test = \"http://elections.huffingtonpost.com/pollster/2014-kentucky-senate-mcconnell-vs-grimes.csv\"\n",
    "souce = requests.get(url_test).text\n",
    "st = StringIO(souce)\n",
    "df = pd.DataFrame.from_csv(st)\n",
    "df.head()\n",
    "df.split(\"/\")[-1][:-4]"
   ]
  },
  {
   "cell_type": "code",
   "execution_count": 22,
   "metadata": {
    "collapsed": false
   },
   "outputs": [
    {
     "data": {
      "text/plain": [
       "u'2014-delaware-senate-wade-vs-coons.c'"
      ]
     },
     "execution_count": 22,
     "metadata": {},
     "output_type": "execute_result"
    }
   ],
   "source": []
  },
  {
   "cell_type": "code",
   "execution_count": 7,
   "metadata": {
    "collapsed": false
   },
   "outputs": [
    {
     "name": "stderr",
     "output_type": "stream",
     "text": [
      "C:\\Anaconda2\\lib\\site-packages\\ipykernel\\__main__.py:12: FutureWarning: convert_objects is deprecated.  Use the data-type specific converters pd.to_datetime, pd.to_timedelta and pd.to_numeric.\n"
     ]
    }
   ],
   "source": [
    "# Makes a dictionary of pandas DataFrames keyed on election string.\n",
    "dfs = dict((election.split(\"/\")[-1][:-4], build_frame(election)) for election in election_urls)"
   ]
  },
  {
   "cell_type": "code",
   "execution_count": 32,
   "metadata": {
    "collapsed": false
   },
   "outputs": [
    {
     "data": {
      "text/plain": [
       "[u'2014-kentucky-senate-mcconnell-vs-grimes',\n",
       " u'2014-montana-senate-daines-vs-curtis',\n",
       " u'2014-north-carolina-senate-tillis-vs-hagan',\n",
       " u'2014-tennessee-senate-alexander-vs-ball',\n",
       " u'2014-michigan-senate-land-vs-peters',\n",
       " u'2014-alaska-senate-sullivan-vs-begich',\n",
       " u'2014-oregon-senate-wehby-vs-merkley',\n",
       " u'2014-new-hampshire-senate-brown-vs-shaheen',\n",
       " u'2014-mississippi-senate-cochran-vs-childers',\n",
       " u'2014-massachusetts-senate-herr-vs-markey',\n",
       " u'2014-rhode-island-senate-zaccaria-vs-reed',\n",
       " u'2014-louisiana-senate-cassidy-vs-landrieu',\n",
       " u'2014-nebraska-senate-sasse-vs-domina',\n",
       " u'2014-iowa-senate-ernst-vs-braley',\n",
       " u'2014-oklahoma-senate-inhofe-vs-silverstein',\n",
       " u'2014-oklahoma-senate-lankford-vs-johnson',\n",
       " u'2014-illinois-senate-oberweis-vs-durbin',\n",
       " u'2014-idaho-senate-risch-vs-mitchell',\n",
       " u'2014-south-carolina-senate-graham-vs-hutto',\n",
       " u'2014-maine-senate-collins-vs-bellows',\n",
       " u'2014-west-virginia-senate-capito-vs-tennant',\n",
       " u'2014-hawaii-senate-cavasso-vs-schatz',\n",
       " u'2014-delaware-senate-wade-vs-coons',\n",
       " u'2014-virginia-senate-gillespie-vs-warner',\n",
       " u'2014-minnesota-senate-mcfadden-vs-franken',\n",
       " u'2014-new-mexico-senate-weh-vs-udall',\n",
       " u'2014-georgia-senate-perdue-vs-nunn',\n",
       " u'2014-kansas-senate-roberts-vs-orman-vs-taylor',\n",
       " u'2014-south-dakota-senate-rounds-vs-weiland',\n",
       " u'2014-new-jersey-senate-bell-vs-booker',\n",
       " u'2014-wyoming-senate',\n",
       " u'2014-texas-senate-cornyn-vs-alameel',\n",
       " u'2014-arkansas-senate-cotton-vs-pryor',\n",
       " u'2014-south-carolina-senate-scott-vs-dickerson',\n",
       " u'2014-colorado-senate-gardner-vs-udall',\n",
       " u'2014-new-hampshire-senate-bass-vs-shaheen']"
      ]
     },
     "execution_count": 32,
     "metadata": {},
     "output_type": "execute_result"
    }
   ],
   "source": [
    "dfs.key()"
   ]
  },
  {
   "cell_type": "markdown",
   "metadata": {},
   "source": [
    "Show the head of the DataFrame containing the polls for the 2014 Senate race in Kentucky between McConnell and Grimes."
   ]
  },
  {
   "cell_type": "code",
   "execution_count": 39,
   "metadata": {
    "collapsed": false
   },
   "outputs": [
    {
     "name": "stdout",
     "output_type": "stream",
     "text": [
      "['__class__', '__cmp__', '__contains__', '__delattr__', '__delitem__', '__doc__', '__eq__', '__format__', '__ge__', '__getattribute__', '__getitem__', '__gt__', '__hash__', '__init__', '__iter__', '__le__', '__len__', '__lt__', '__ne__', '__new__', '__reduce__', '__reduce_ex__', '__repr__', '__setattr__', '__setitem__', '__sizeof__', '__str__', '__subclasshook__', 'clear', 'copy', 'fromkeys', 'get', 'has_key', 'items', 'iteritems', 'iterkeys', 'itervalues', 'keys', 'pop', 'popitem', 'setdefault', 'update', 'values', 'viewitems', 'viewkeys', 'viewvalues']\n"
     ]
    },
    {
     "data": {
      "text/html": [
       "<div>\n",
       "<table border=\"1\" class=\"dataframe\">\n",
       "  <thead>\n",
       "    <tr style=\"text-align: right;\">\n",
       "      <th></th>\n",
       "      <th>Pollster</th>\n",
       "      <th>Start Date</th>\n",
       "      <th>End Date</th>\n",
       "      <th>Entry Date/Time (ET)</th>\n",
       "      <th>Number of Observations</th>\n",
       "      <th>Population</th>\n",
       "      <th>Mode</th>\n",
       "      <th>Grimes</th>\n",
       "      <th>McConnell</th>\n",
       "      <th>Undecided</th>\n",
       "      <th>Pollster URL</th>\n",
       "      <th>Source URL</th>\n",
       "      <th>Partisan</th>\n",
       "      <th>Affiliation</th>\n",
       "      <th>Question Text</th>\n",
       "      <th>Question Iteration</th>\n",
       "    </tr>\n",
       "  </thead>\n",
       "  <tbody>\n",
       "    <tr>\n",
       "      <th>0</th>\n",
       "      <td>PPP (D)</td>\n",
       "      <td>2014-10-30</td>\n",
       "      <td>2014-11-01</td>\n",
       "      <td>2014-11-02 01:44:58</td>\n",
       "      <td>1503</td>\n",
       "      <td>Likely Voters</td>\n",
       "      <td>IVR/Online</td>\n",
       "      <td>42.0</td>\n",
       "      <td>50.0</td>\n",
       "      <td>NaN</td>\n",
       "      <td>http://elections.huffingtonpost.com/pollster/p...</td>\n",
       "      <td>http://www.publicpolicypolling.com/pdf/2014/PP...</td>\n",
       "      <td>Pollster</td>\n",
       "      <td>Dem</td>\n",
       "      <td>NaN</td>\n",
       "      <td>1</td>\n",
       "    </tr>\n",
       "    <tr>\n",
       "      <th>1</th>\n",
       "      <td>NBC/Marist</td>\n",
       "      <td>2014-10-27</td>\n",
       "      <td>2014-10-30</td>\n",
       "      <td>2014-11-02 14:37:22</td>\n",
       "      <td>556</td>\n",
       "      <td>Likely Voters</td>\n",
       "      <td>Live Phone</td>\n",
       "      <td>41.0</td>\n",
       "      <td>50.0</td>\n",
       "      <td>3.0</td>\n",
       "      <td>http://elections.huffingtonpost.com/pollster/p...</td>\n",
       "      <td>http://newscms.nbcnews.com/sites/newscms/files...</td>\n",
       "      <td>Nonpartisan</td>\n",
       "      <td>None</td>\n",
       "      <td>NaN</td>\n",
       "      <td>1</td>\n",
       "    </tr>\n",
       "    <tr>\n",
       "      <th>2</th>\n",
       "      <td>SurveyUSA/Courier-Journal/Herald-Leader/WHAS/WKYT</td>\n",
       "      <td>2014-10-25</td>\n",
       "      <td>2014-10-29</td>\n",
       "      <td>2014-10-30 23:33:59</td>\n",
       "      <td>597</td>\n",
       "      <td>Likely Voters</td>\n",
       "      <td>IVR/Online</td>\n",
       "      <td>43.0</td>\n",
       "      <td>48.0</td>\n",
       "      <td>6.0</td>\n",
       "      <td>http://elections.huffingtonpost.com/pollster/p...</td>\n",
       "      <td>http://www.surveyusa.com/client/PollReport.asp...</td>\n",
       "      <td>Nonpartisan</td>\n",
       "      <td>None</td>\n",
       "      <td>NaN</td>\n",
       "      <td>1</td>\n",
       "    </tr>\n",
       "    <tr>\n",
       "      <th>3</th>\n",
       "      <td>POS (R-Crossroads GPS)</td>\n",
       "      <td>2014-10-25</td>\n",
       "      <td>2014-10-27</td>\n",
       "      <td>2014-10-30 20:56:18</td>\n",
       "      <td>600</td>\n",
       "      <td>Likely Voters</td>\n",
       "      <td>Live Phone</td>\n",
       "      <td>43.0</td>\n",
       "      <td>50.0</td>\n",
       "      <td>NaN</td>\n",
       "      <td>http://elections.huffingtonpost.com/pollster/p...</td>\n",
       "      <td>https://www.crossroadsgps.org/wp-content/uploa...</td>\n",
       "      <td>Sponsor</td>\n",
       "      <td>Rep</td>\n",
       "      <td>NaN</td>\n",
       "      <td>1</td>\n",
       "    </tr>\n",
       "    <tr>\n",
       "      <th>4</th>\n",
       "      <td>CBS/NYT/YouGov</td>\n",
       "      <td>2014-10-16</td>\n",
       "      <td>2014-10-23</td>\n",
       "      <td>2014-10-26 15:00:07</td>\n",
       "      <td>1502</td>\n",
       "      <td>Likely Voters</td>\n",
       "      <td>Internet</td>\n",
       "      <td>39.0</td>\n",
       "      <td>45.0</td>\n",
       "      <td>14.0</td>\n",
       "      <td>http://elections.huffingtonpost.com/pollster/p...</td>\n",
       "      <td>https://today.yougov.com/news/2014/09/07/battl...</td>\n",
       "      <td>Nonpartisan</td>\n",
       "      <td>None</td>\n",
       "      <td>NaN</td>\n",
       "      <td>1</td>\n",
       "    </tr>\n",
       "  </tbody>\n",
       "</table>\n",
       "</div>"
      ],
      "text/plain": [
       "                                            Pollster Start Date   End Date  \\\n",
       "0                                            PPP (D) 2014-10-30 2014-11-01   \n",
       "1                                         NBC/Marist 2014-10-27 2014-10-30   \n",
       "2  SurveyUSA/Courier-Journal/Herald-Leader/WHAS/WKYT 2014-10-25 2014-10-29   \n",
       "3                             POS (R-Crossroads GPS) 2014-10-25 2014-10-27   \n",
       "4                                     CBS/NYT/YouGov 2014-10-16 2014-10-23   \n",
       "\n",
       "  Entry Date/Time (ET)  Number of Observations     Population        Mode  \\\n",
       "0  2014-11-02 01:44:58                    1503  Likely Voters  IVR/Online   \n",
       "1  2014-11-02 14:37:22                     556  Likely Voters  Live Phone   \n",
       "2  2014-10-30 23:33:59                     597  Likely Voters  IVR/Online   \n",
       "3  2014-10-30 20:56:18                     600  Likely Voters  Live Phone   \n",
       "4  2014-10-26 15:00:07                    1502  Likely Voters    Internet   \n",
       "\n",
       "   Grimes  McConnell  Undecided  \\\n",
       "0    42.0       50.0        NaN   \n",
       "1    41.0       50.0        3.0   \n",
       "2    43.0       48.0        6.0   \n",
       "3    43.0       50.0        NaN   \n",
       "4    39.0       45.0       14.0   \n",
       "\n",
       "                                        Pollster URL  \\\n",
       "0  http://elections.huffingtonpost.com/pollster/p...   \n",
       "1  http://elections.huffingtonpost.com/pollster/p...   \n",
       "2  http://elections.huffingtonpost.com/pollster/p...   \n",
       "3  http://elections.huffingtonpost.com/pollster/p...   \n",
       "4  http://elections.huffingtonpost.com/pollster/p...   \n",
       "\n",
       "                                          Source URL     Partisan Affiliation  \\\n",
       "0  http://www.publicpolicypolling.com/pdf/2014/PP...     Pollster         Dem   \n",
       "1  http://newscms.nbcnews.com/sites/newscms/files...  Nonpartisan        None   \n",
       "2  http://www.surveyusa.com/client/PollReport.asp...  Nonpartisan        None   \n",
       "3  https://www.crossroadsgps.org/wp-content/uploa...      Sponsor         Rep   \n",
       "4  https://today.yougov.com/news/2014/09/07/battl...  Nonpartisan        None   \n",
       "\n",
       "   Question Text  Question Iteration  \n",
       "0            NaN                   1  \n",
       "1            NaN                   1  \n",
       "2            NaN                   1  \n",
       "3            NaN                   1  \n",
       "4            NaN                   1  "
      ]
     },
     "execution_count": 39,
     "metadata": {},
     "output_type": "execute_result"
    }
   ],
   "source": [
    "#your code here\n",
    "print dir(dfs)\n",
    "df = dfs['2014-kentucky-senate-mcconnell-vs-grimes']\n",
    "df.head()"
   ]
  },
  {
   "cell_type": "code",
   "execution_count": 38,
   "metadata": {
    "collapsed": false
   },
   "outputs": [
    {
     "name": "stdout",
     "output_type": "stream",
     "text": [
      "2014-kentucky-senate-mcconnell-vs-grimes\n",
      "2014-montana-senate-daines-vs-curtis\n",
      "2014-north-carolina-senate-tillis-vs-hagan\n",
      "2014-tennessee-senate-alexander-vs-ball\n",
      "2014-michigan-senate-land-vs-peters\n",
      "2014-alaska-senate-sullivan-vs-begich\n",
      "2014-oregon-senate-wehby-vs-merkley\n",
      "2014-new-hampshire-senate-brown-vs-shaheen\n",
      "2014-mississippi-senate-cochran-vs-childers\n",
      "2014-massachusetts-senate-herr-vs-markey\n",
      "2014-rhode-island-senate-zaccaria-vs-reed\n",
      "2014-louisiana-senate-cassidy-vs-landrieu\n",
      "2014-nebraska-senate-sasse-vs-domina\n",
      "2014-iowa-senate-ernst-vs-braley\n",
      "2014-oklahoma-senate-inhofe-vs-silverstein\n",
      "2014-oklahoma-senate-lankford-vs-johnson\n",
      "2014-illinois-senate-oberweis-vs-durbin\n",
      "2014-idaho-senate-risch-vs-mitchell\n",
      "2014-south-carolina-senate-graham-vs-hutto\n",
      "2014-maine-senate-collins-vs-bellows\n",
      "2014-west-virginia-senate-capito-vs-tennant\n",
      "2014-hawaii-senate-cavasso-vs-schatz\n",
      "2014-delaware-senate-wade-vs-coons\n",
      "2014-virginia-senate-gillespie-vs-warner\n",
      "2014-minnesota-senate-mcfadden-vs-franken\n",
      "2014-new-mexico-senate-weh-vs-udall\n",
      "2014-georgia-senate-perdue-vs-nunn\n",
      "2014-kansas-senate-roberts-vs-orman-vs-taylor\n",
      "2014-south-dakota-senate-rounds-vs-weiland\n",
      "2014-new-jersey-senate-bell-vs-booker\n",
      "2014-wyoming-senate\n",
      "2014-texas-senate-cornyn-vs-alameel\n",
      "2014-arkansas-senate-cotton-vs-pryor\n",
      "2014-south-carolina-senate-scott-vs-dickerson\n",
      "2014-colorado-senate-gardner-vs-udall\n",
      "2014-new-hampshire-senate-bass-vs-shaheen\n"
     ]
    }
   ],
   "source": [
    "x = {}\n",
    "for keys in dfs:\n",
    "    print keys\n",
    "    dat = dfs[keys]\n",
    "    candidate1 = dat.columns[7] \n",
    "    candidate2 = dat.columns[8] \n",
    "    dat.Diff = (dat[candidate1]/100) - (dat[candidate2]/100)\n",
    "    x[keys] = [candidate1, candidate2, np.round(np.mean(dat.Diff), 3)]"
   ]
  },
  {
   "cell_type": "markdown",
   "metadata": {},
   "source": [
    "#### Problem 4(b)\n",
    "\n",
    "For each 2014 Senate race, create a preliminary prediction of the result for that state."
   ]
  },
  {
   "cell_type": "code",
   "execution_count": 40,
   "metadata": {
    "collapsed": false
   },
   "outputs": [
    {
     "data": {
      "text/html": [
       "<div>\n",
       "<table border=\"1\" class=\"dataframe\">\n",
       "  <thead>\n",
       "    <tr style=\"text-align: right;\">\n",
       "      <th></th>\n",
       "      <th>Candidate1</th>\n",
       "      <th>Candidate2</th>\n",
       "      <th>Difference</th>\n",
       "      <th>Winner</th>\n",
       "    </tr>\n",
       "  </thead>\n",
       "  <tbody>\n",
       "    <tr>\n",
       "      <th>2014-alaska-senate-sullivan-vs-begich</th>\n",
       "      <td>Begich</td>\n",
       "      <td>Sullivan</td>\n",
       "      <td>0.003</td>\n",
       "      <td>Begich</td>\n",
       "    </tr>\n",
       "    <tr>\n",
       "      <th>2014-arkansas-senate-cotton-vs-pryor</th>\n",
       "      <td>Cotton</td>\n",
       "      <td>Pryor</td>\n",
       "      <td>0.015</td>\n",
       "      <td>Cotton</td>\n",
       "    </tr>\n",
       "    <tr>\n",
       "      <th>2014-colorado-senate-gardner-vs-udall</th>\n",
       "      <td>Gardner</td>\n",
       "      <td>Udall</td>\n",
       "      <td>0.006</td>\n",
       "      <td>Gardner</td>\n",
       "    </tr>\n",
       "    <tr>\n",
       "      <th>2014-delaware-senate-wade-vs-coons</th>\n",
       "      <td>Coons</td>\n",
       "      <td>Wade</td>\n",
       "      <td>0.174</td>\n",
       "      <td>Coons</td>\n",
       "    </tr>\n",
       "    <tr>\n",
       "      <th>2014-georgia-senate-perdue-vs-nunn</th>\n",
       "      <td>Nunn</td>\n",
       "      <td>Perdue</td>\n",
       "      <td>-0.017</td>\n",
       "      <td>Perdue</td>\n",
       "    </tr>\n",
       "    <tr>\n",
       "      <th>2014-hawaii-senate-cavasso-vs-schatz</th>\n",
       "      <td>Schatz</td>\n",
       "      <td>Cavasso</td>\n",
       "      <td>0.404</td>\n",
       "      <td>Schatz</td>\n",
       "    </tr>\n",
       "    <tr>\n",
       "      <th>2014-idaho-senate-risch-vs-mitchell</th>\n",
       "      <td>Risch</td>\n",
       "      <td>Mitchell</td>\n",
       "      <td>0.298</td>\n",
       "      <td>Risch</td>\n",
       "    </tr>\n",
       "    <tr>\n",
       "      <th>2014-illinois-senate-oberweis-vs-durbin</th>\n",
       "      <td>Oberweis</td>\n",
       "      <td>Durbin</td>\n",
       "      <td>-0.124</td>\n",
       "      <td>Durbin</td>\n",
       "    </tr>\n",
       "    <tr>\n",
       "      <th>2014-iowa-senate-ernst-vs-braley</th>\n",
       "      <td>Braley</td>\n",
       "      <td>Ernst</td>\n",
       "      <td>0</td>\n",
       "      <td>Braley</td>\n",
       "    </tr>\n",
       "    <tr>\n",
       "      <th>2014-kansas-senate-roberts-vs-orman-vs-taylor</th>\n",
       "      <td>Taylor</td>\n",
       "      <td>Roberts</td>\n",
       "      <td>-0.184</td>\n",
       "      <td>Roberts</td>\n",
       "    </tr>\n",
       "    <tr>\n",
       "      <th>2014-kentucky-senate-mcconnell-vs-grimes</th>\n",
       "      <td>Grimes</td>\n",
       "      <td>McConnell</td>\n",
       "      <td>-0.03</td>\n",
       "      <td>McConnell</td>\n",
       "    </tr>\n",
       "    <tr>\n",
       "      <th>2014-louisiana-senate-cassidy-vs-landrieu</th>\n",
       "      <td>Cassidy</td>\n",
       "      <td>Landrieu</td>\n",
       "      <td>0.041</td>\n",
       "      <td>Cassidy</td>\n",
       "    </tr>\n",
       "    <tr>\n",
       "      <th>2014-maine-senate-collins-vs-bellows</th>\n",
       "      <td>Collins</td>\n",
       "      <td>Bellows</td>\n",
       "      <td>0.324</td>\n",
       "      <td>Collins</td>\n",
       "    </tr>\n",
       "    <tr>\n",
       "      <th>2014-massachusetts-senate-herr-vs-markey</th>\n",
       "      <td>Markey</td>\n",
       "      <td>Herr</td>\n",
       "      <td>0.225</td>\n",
       "      <td>Markey</td>\n",
       "    </tr>\n",
       "    <tr>\n",
       "      <th>2014-michigan-senate-land-vs-peters</th>\n",
       "      <td>Peters</td>\n",
       "      <td>Land</td>\n",
       "      <td>0.056</td>\n",
       "      <td>Peters</td>\n",
       "    </tr>\n",
       "    <tr>\n",
       "      <th>2014-minnesota-senate-mcfadden-vs-franken</th>\n",
       "      <td>McFadden</td>\n",
       "      <td>Franken</td>\n",
       "      <td>-0.108</td>\n",
       "      <td>Franken</td>\n",
       "    </tr>\n",
       "    <tr>\n",
       "      <th>2014-mississippi-senate-cochran-vs-childers</th>\n",
       "      <td>Cochran</td>\n",
       "      <td>Childers</td>\n",
       "      <td>0.155</td>\n",
       "      <td>Cochran</td>\n",
       "    </tr>\n",
       "    <tr>\n",
       "      <th>2014-montana-senate-daines-vs-curtis</th>\n",
       "      <td>Curtis</td>\n",
       "      <td>Daines</td>\n",
       "      <td>-0.171</td>\n",
       "      <td>Daines</td>\n",
       "    </tr>\n",
       "    <tr>\n",
       "      <th>2014-nebraska-senate-sasse-vs-domina</th>\n",
       "      <td>Sasse</td>\n",
       "      <td>Domina</td>\n",
       "      <td>0.245</td>\n",
       "      <td>Sasse</td>\n",
       "    </tr>\n",
       "    <tr>\n",
       "      <th>2014-new-hampshire-senate-bass-vs-shaheen</th>\n",
       "      <td>Bass</td>\n",
       "      <td>Shaheen</td>\n",
       "      <td>-0.153</td>\n",
       "      <td>Shaheen</td>\n",
       "    </tr>\n",
       "    <tr>\n",
       "      <th>2014-new-hampshire-senate-brown-vs-shaheen</th>\n",
       "      <td>Shaheen</td>\n",
       "      <td>Brown</td>\n",
       "      <td>0.054</td>\n",
       "      <td>Shaheen</td>\n",
       "    </tr>\n",
       "    <tr>\n",
       "      <th>2014-new-jersey-senate-bell-vs-booker</th>\n",
       "      <td>Bell</td>\n",
       "      <td>Booker</td>\n",
       "      <td>-0.137</td>\n",
       "      <td>Booker</td>\n",
       "    </tr>\n",
       "    <tr>\n",
       "      <th>2014-new-mexico-senate-weh-vs-udall</th>\n",
       "      <td>Weh</td>\n",
       "      <td>Udall</td>\n",
       "      <td>-0.146</td>\n",
       "      <td>Udall</td>\n",
       "    </tr>\n",
       "    <tr>\n",
       "      <th>2014-north-carolina-senate-tillis-vs-hagan</th>\n",
       "      <td>Haugh</td>\n",
       "      <td>Tillis</td>\n",
       "      <td>-0.354</td>\n",
       "      <td>Tillis</td>\n",
       "    </tr>\n",
       "    <tr>\n",
       "      <th>2014-oklahoma-senate-inhofe-vs-silverstein</th>\n",
       "      <td>Inhofe</td>\n",
       "      <td>Silverstein</td>\n",
       "      <td>0.32</td>\n",
       "      <td>Inhofe</td>\n",
       "    </tr>\n",
       "    <tr>\n",
       "      <th>2014-oklahoma-senate-lankford-vs-johnson</th>\n",
       "      <td>Lankford</td>\n",
       "      <td>Johnson</td>\n",
       "      <td>0.311</td>\n",
       "      <td>Lankford</td>\n",
       "    </tr>\n",
       "    <tr>\n",
       "      <th>2014-oregon-senate-wehby-vs-merkley</th>\n",
       "      <td>Wehby</td>\n",
       "      <td>Merkley</td>\n",
       "      <td>-0.133</td>\n",
       "      <td>Merkley</td>\n",
       "    </tr>\n",
       "    <tr>\n",
       "      <th>2014-rhode-island-senate-zaccaria-vs-reed</th>\n",
       "      <td>Zaccaria</td>\n",
       "      <td>Reed</td>\n",
       "      <td>-0.355</td>\n",
       "      <td>Reed</td>\n",
       "    </tr>\n",
       "    <tr>\n",
       "      <th>2014-south-carolina-senate-graham-vs-hutto</th>\n",
       "      <td>Graham</td>\n",
       "      <td>Hutto</td>\n",
       "      <td>0.15</td>\n",
       "      <td>Graham</td>\n",
       "    </tr>\n",
       "    <tr>\n",
       "      <th>2014-south-carolina-senate-scott-vs-dickerson</th>\n",
       "      <td>Dickerson</td>\n",
       "      <td>Scott</td>\n",
       "      <td>-0.215</td>\n",
       "      <td>Scott</td>\n",
       "    </tr>\n",
       "    <tr>\n",
       "      <th>2014-south-dakota-senate-rounds-vs-weiland</th>\n",
       "      <td>Weiland</td>\n",
       "      <td>Rounds</td>\n",
       "      <td>-0.13</td>\n",
       "      <td>Rounds</td>\n",
       "    </tr>\n",
       "    <tr>\n",
       "      <th>2014-tennessee-senate-alexander-vs-ball</th>\n",
       "      <td>Alexander</td>\n",
       "      <td>Ball</td>\n",
       "      <td>0.19</td>\n",
       "      <td>Alexander</td>\n",
       "    </tr>\n",
       "    <tr>\n",
       "      <th>2014-texas-senate-cornyn-vs-alameel</th>\n",
       "      <td>Cornyn</td>\n",
       "      <td>Alameel</td>\n",
       "      <td>0.191</td>\n",
       "      <td>Cornyn</td>\n",
       "    </tr>\n",
       "    <tr>\n",
       "      <th>2014-virginia-senate-gillespie-vs-warner</th>\n",
       "      <td>Warner</td>\n",
       "      <td>Gillespie</td>\n",
       "      <td>0.155</td>\n",
       "      <td>Warner</td>\n",
       "    </tr>\n",
       "    <tr>\n",
       "      <th>2014-west-virginia-senate-capito-vs-tennant</th>\n",
       "      <td>Capito</td>\n",
       "      <td>Tennant</td>\n",
       "      <td>0.141</td>\n",
       "      <td>Capito</td>\n",
       "    </tr>\n",
       "    <tr>\n",
       "      <th>2014-wyoming-senate</th>\n",
       "      <td>Hardy</td>\n",
       "      <td>Enzi</td>\n",
       "      <td>-0.448</td>\n",
       "      <td>Enzi</td>\n",
       "    </tr>\n",
       "  </tbody>\n",
       "</table>\n",
       "</div>"
      ],
      "text/plain": [
       "                                              Candidate1   Candidate2  \\\n",
       "2014-alaska-senate-sullivan-vs-begich             Begich     Sullivan   \n",
       "2014-arkansas-senate-cotton-vs-pryor              Cotton        Pryor   \n",
       "2014-colorado-senate-gardner-vs-udall            Gardner        Udall   \n",
       "2014-delaware-senate-wade-vs-coons                 Coons         Wade   \n",
       "2014-georgia-senate-perdue-vs-nunn                  Nunn       Perdue   \n",
       "2014-hawaii-senate-cavasso-vs-schatz              Schatz      Cavasso   \n",
       "2014-idaho-senate-risch-vs-mitchell                Risch     Mitchell   \n",
       "2014-illinois-senate-oberweis-vs-durbin         Oberweis       Durbin   \n",
       "2014-iowa-senate-ernst-vs-braley                  Braley        Ernst   \n",
       "2014-kansas-senate-roberts-vs-orman-vs-taylor     Taylor      Roberts   \n",
       "2014-kentucky-senate-mcconnell-vs-grimes          Grimes    McConnell   \n",
       "2014-louisiana-senate-cassidy-vs-landrieu        Cassidy     Landrieu   \n",
       "2014-maine-senate-collins-vs-bellows             Collins      Bellows   \n",
       "2014-massachusetts-senate-herr-vs-markey          Markey         Herr   \n",
       "2014-michigan-senate-land-vs-peters               Peters         Land   \n",
       "2014-minnesota-senate-mcfadden-vs-franken       McFadden      Franken   \n",
       "2014-mississippi-senate-cochran-vs-childers      Cochran     Childers   \n",
       "2014-montana-senate-daines-vs-curtis              Curtis       Daines   \n",
       "2014-nebraska-senate-sasse-vs-domina               Sasse       Domina   \n",
       "2014-new-hampshire-senate-bass-vs-shaheen           Bass      Shaheen   \n",
       "2014-new-hampshire-senate-brown-vs-shaheen       Shaheen        Brown   \n",
       "2014-new-jersey-senate-bell-vs-booker               Bell       Booker   \n",
       "2014-new-mexico-senate-weh-vs-udall                  Weh        Udall   \n",
       "2014-north-carolina-senate-tillis-vs-hagan         Haugh       Tillis   \n",
       "2014-oklahoma-senate-inhofe-vs-silverstein        Inhofe  Silverstein   \n",
       "2014-oklahoma-senate-lankford-vs-johnson        Lankford      Johnson   \n",
       "2014-oregon-senate-wehby-vs-merkley                Wehby      Merkley   \n",
       "2014-rhode-island-senate-zaccaria-vs-reed       Zaccaria         Reed   \n",
       "2014-south-carolina-senate-graham-vs-hutto        Graham        Hutto   \n",
       "2014-south-carolina-senate-scott-vs-dickerson  Dickerson        Scott   \n",
       "2014-south-dakota-senate-rounds-vs-weiland       Weiland       Rounds   \n",
       "2014-tennessee-senate-alexander-vs-ball        Alexander         Ball   \n",
       "2014-texas-senate-cornyn-vs-alameel               Cornyn      Alameel   \n",
       "2014-virginia-senate-gillespie-vs-warner          Warner    Gillespie   \n",
       "2014-west-virginia-senate-capito-vs-tennant       Capito      Tennant   \n",
       "2014-wyoming-senate                                Hardy         Enzi   \n",
       "\n",
       "                                              Difference     Winner  \n",
       "2014-alaska-senate-sullivan-vs-begich              0.003     Begich  \n",
       "2014-arkansas-senate-cotton-vs-pryor               0.015     Cotton  \n",
       "2014-colorado-senate-gardner-vs-udall              0.006    Gardner  \n",
       "2014-delaware-senate-wade-vs-coons                 0.174      Coons  \n",
       "2014-georgia-senate-perdue-vs-nunn                -0.017     Perdue  \n",
       "2014-hawaii-senate-cavasso-vs-schatz               0.404     Schatz  \n",
       "2014-idaho-senate-risch-vs-mitchell                0.298      Risch  \n",
       "2014-illinois-senate-oberweis-vs-durbin           -0.124     Durbin  \n",
       "2014-iowa-senate-ernst-vs-braley                       0     Braley  \n",
       "2014-kansas-senate-roberts-vs-orman-vs-taylor     -0.184    Roberts  \n",
       "2014-kentucky-senate-mcconnell-vs-grimes           -0.03  McConnell  \n",
       "2014-louisiana-senate-cassidy-vs-landrieu          0.041    Cassidy  \n",
       "2014-maine-senate-collins-vs-bellows               0.324    Collins  \n",
       "2014-massachusetts-senate-herr-vs-markey           0.225     Markey  \n",
       "2014-michigan-senate-land-vs-peters                0.056     Peters  \n",
       "2014-minnesota-senate-mcfadden-vs-franken         -0.108    Franken  \n",
       "2014-mississippi-senate-cochran-vs-childers        0.155    Cochran  \n",
       "2014-montana-senate-daines-vs-curtis              -0.171     Daines  \n",
       "2014-nebraska-senate-sasse-vs-domina               0.245      Sasse  \n",
       "2014-new-hampshire-senate-bass-vs-shaheen         -0.153    Shaheen  \n",
       "2014-new-hampshire-senate-brown-vs-shaheen         0.054    Shaheen  \n",
       "2014-new-jersey-senate-bell-vs-booker             -0.137     Booker  \n",
       "2014-new-mexico-senate-weh-vs-udall               -0.146      Udall  \n",
       "2014-north-carolina-senate-tillis-vs-hagan        -0.354     Tillis  \n",
       "2014-oklahoma-senate-inhofe-vs-silverstein          0.32     Inhofe  \n",
       "2014-oklahoma-senate-lankford-vs-johnson           0.311   Lankford  \n",
       "2014-oregon-senate-wehby-vs-merkley               -0.133    Merkley  \n",
       "2014-rhode-island-senate-zaccaria-vs-reed         -0.355       Reed  \n",
       "2014-south-carolina-senate-graham-vs-hutto          0.15     Graham  \n",
       "2014-south-carolina-senate-scott-vs-dickerson     -0.215      Scott  \n",
       "2014-south-dakota-senate-rounds-vs-weiland         -0.13     Rounds  \n",
       "2014-tennessee-senate-alexander-vs-ball             0.19  Alexander  \n",
       "2014-texas-senate-cornyn-vs-alameel                0.191     Cornyn  \n",
       "2014-virginia-senate-gillespie-vs-warner           0.155     Warner  \n",
       "2014-west-virginia-senate-capito-vs-tennant        0.141     Capito  \n",
       "2014-wyoming-senate                               -0.448       Enzi  "
      ]
     },
     "execution_count": 40,
     "metadata": {},
     "output_type": "execute_result"
    }
   ],
   "source": [
    "#your code here\n",
    "predictions = pd.DataFrame(x).T  \n",
    "predictions.columns = ['Candidate1', 'Candidate2', 'Difference']\n",
    "predictions['Winner'] = np.where(predictions.Difference >=0, \n",
    "                                 predictions.Candidate1, predictions.Candidate2)\n",
    "predictions"
   ]
  },
  {
   "cell_type": "markdown",
   "metadata": {},
   "source": [
    "# Submission Instructions\n",
    "\n",
    "To submit your homework, create a folder named **lastname_firstinitial_hw#** and place your IPython notebooks, data files, and any other files in this folder. Your IPython Notebooks should be completely executed with the results visible in the notebook. We should not have to run any code.  Compress the folder (please use .zip compression) and submit to the CS109 dropbox in the appropriate folder. *If we cannot access your work because these directions are not followed correctly, we will not grade your work.*\n"
   ]
  },
  {
   "cell_type": "code",
   "execution_count": null,
   "metadata": {
    "collapsed": false
   },
   "outputs": [],
   "source": []
  }
 ],
 "metadata": {
  "anaconda-cloud": {},
  "kernelspec": {
   "display_name": "Python [Root]",
   "language": "python",
   "name": "Python [Root]"
  },
  "language_info": {
   "codemirror_mode": {
    "name": "ipython",
    "version": 2
   },
   "file_extension": ".py",
   "mimetype": "text/x-python",
   "name": "python",
   "nbconvert_exporter": "python",
   "pygments_lexer": "ipython2",
   "version": "2.7.12"
  }
 },
 "nbformat": 4,
 "nbformat_minor": 0
}
